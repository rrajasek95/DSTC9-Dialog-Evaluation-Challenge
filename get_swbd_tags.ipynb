{
 "cells": [
  {
   "cell_type": "code",
   "execution_count": 1,
   "metadata": {},
   "outputs": [],
   "source": [
    "import json\n",
    "import re\n"
   ]
  },
  {
   "cell_type": "code",
   "execution_count": 3,
   "metadata": {},
   "outputs": [],
   "source": [
    "def get_conversation(content):\n",
    "    messages = []\n",
    "    tags = []\n",
    "    for turn in content:\n",
    "        messages.append(turn['message'])\n",
    "        tags.append(turn['mezza_da'])\n",
    "    messages = \"\".join(messages)\n",
    "    messages = messages.replace(\" \", \"\").lower()\n",
    "    messages = messages.replace(\"\\n\", \"\")\n",
    "    messages = messages.replace(\"\\t\", \"\")\n",
    "    messages = re.sub('\\W+','', messages)\n",
    "    return \"\".join(messages), tags"
   ]
  },
  {
   "cell_type": "code",
   "execution_count": 4,
   "metadata": {},
   "outputs": [],
   "source": [
    "tagged_conv = []\n",
    "taggs = []\n",
    "tagged = [\"tc_processed/train_full_anno.json\", \"tc_processed/test_freq_full_anno.json\", \n",
    "          \"tc_processed/test_rare_full_anno.json\", \"tc_processed/valid_freq_full_anno.json\", \n",
    "          \"tc_processed/valid_rare_full_anno.json\"]\n",
    "for each in tagged:\n",
    "    with open(each) as f:\n",
    "        data = json.load(f)\n",
    "    keys = list(data.keys())\n",
    "    for each in keys:\n",
    "        content = data[each]['content']\n",
    "        c, t = get_conversation(content)\n",
    "        tagged_conv.append(c)\n",
    "        taggs.append(t)"
   ]
  },
  {
   "cell_type": "code",
   "execution_count": 82,
   "metadata": {},
   "outputs": [],
   "source": [
    "non = \"processed_output/test_freq.src\"\n",
    "with open(non) as f:\n",
    "    src = f.readlines()\n",
    "non_tgt = \"processed_output/test_freq.tgt\"\n",
    "with open(non_tgt) as f:\n",
    "    tgt = f.readlines()"
   ]
  },
  {
   "cell_type": "code",
   "execution_count": 83,
   "metadata": {},
   "outputs": [],
   "source": [
    "original = []\n",
    "for i in range(len(src)-1):\n",
    "    if src[i].replace(\"\\n\", \"\") not in src[i+1]:\n",
    "        original.append(src[i])"
   ]
  },
  {
   "cell_type": "code",
   "execution_count": 84,
   "metadata": {},
   "outputs": [],
   "source": [
    "processed = []\n",
    "for i in range(len(src)):\n",
    "    text = src[i]\n",
    "    text = text.replace(\"_eos\", \"\")\n",
    "    text = text.replace(\"\\n\", \"\")\n",
    "    text = text.replace(\" \", \"\")\n",
    "    text = re.sub('\\W+', '', text)\n",
    "    processed.append(text)\n",
    "conversations = []\n",
    "for i in range(len(processed)-1):\n",
    "    if processed[i] not in processed[i+1]:\n",
    "        ending = tgt[i].replace(\"\\n\", \"\")\n",
    "        ending = ending.replace(\" \", \"\")\n",
    "        ending = ending.replace(\"_eos\", \"\")\n",
    "        ending = ending.replace(\"_go\", \"\")\n",
    "        ending = re.sub('\\W+', '', ending)\n",
    "        c = processed[i] + ending\n",
    "        conversations.append(c)\n",
    "ending = tgt[len(processed)-1].replace(\"\\n\", \"\")\n",
    "ending = ending.replace(\" \", \"\")\n",
    "ending = ending.replace(\"_eos\", \"\")\n",
    "ending = ending.replace(\"_go\", \"\")\n",
    "ending = re.sub('\\W+', '', ending)\n",
    "c = processed[len(processed)-1] + ending\n",
    "conversations.append(c)"
   ]
  },
  {
   "cell_type": "code",
   "execution_count": 85,
   "metadata": {},
   "outputs": [],
   "source": [
    "not_in =[]\n",
    "for i in range(len(conversations)):\n",
    "    if conversations[i] not in tagged_conv:\n",
    "        not_in.append(i)"
   ]
  },
  {
   "cell_type": "code",
   "execution_count": 86,
   "metadata": {},
   "outputs": [
    {
     "data": {
      "text/plain": [
       "[]"
      ]
     },
     "execution_count": 86,
     "metadata": {},
     "output_type": "execute_result"
    }
   ],
   "source": [
    "not_in"
   ]
  },
  {
   "cell_type": "code",
   "execution_count": 87,
   "metadata": {},
   "outputs": [],
   "source": [
    "for each in not_in:\n",
    "    print(each)"
   ]
  },
  {
   "cell_type": "code",
   "execution_count": 88,
   "metadata": {},
   "outputs": [
    {
     "data": {
      "text/plain": [
       "8031"
      ]
     },
     "execution_count": 88,
     "metadata": {},
     "output_type": "execute_result"
    }
   ],
   "source": [
    "src.index(original[385])"
   ]
  },
  {
   "cell_type": "code",
   "execution_count": 89,
   "metadata": {},
   "outputs": [],
   "source": [
    "not_in_convs = []\n",
    "for each in not_in:\n",
    "    current_idx = src.index(original[each])\n",
    "    previous = src[current_idx - 1].replace(\"\\n\", \"\")\n",
    "    current = src[current_idx].replace(\"\\n\", \"\")\n",
    "    c = [current]\n",
    "    while previous in current:\n",
    "        c.insert(0, previous)\n",
    "        current_idx -= 1\n",
    "        current = previous\n",
    "        previous = src[current_idx - 1].replace(\"\\n\", \"\")\n",
    "    not_in_convs.append(c)\n",
    "    "
   ]
  },
  {
   "cell_type": "code",
   "execution_count": 90,
   "metadata": {
    "scrolled": true
   },
   "outputs": [
    {
     "ename": "IndexError",
     "evalue": "list index out of range",
     "output_type": "error",
     "traceback": [
      "\u001b[0;31m---------------------------------------------------------------------------\u001b[0m",
      "\u001b[0;31mIndexError\u001b[0m                                Traceback (most recent call last)",
      "\u001b[0;32m<ipython-input-90-71912ed52594>\u001b[0m in \u001b[0;36m<module>\u001b[0;34m\u001b[0m\n\u001b[0;32m----> 1\u001b[0;31m \u001b[0mnot_in_convs\u001b[0m\u001b[0;34m[\u001b[0m\u001b[0;36m0\u001b[0m\u001b[0;34m]\u001b[0m\u001b[0;34m\u001b[0m\u001b[0;34m\u001b[0m\u001b[0m\n\u001b[0m",
      "\u001b[0;31mIndexError\u001b[0m: list index out of range"
     ]
    }
   ],
   "source": [
    "not_in_convs[0]"
   ]
  },
  {
   "cell_type": "code",
   "execution_count": 91,
   "metadata": {},
   "outputs": [],
   "source": [
    "for each in not_in_convs:\n",
    "    print(len(each))"
   ]
  },
  {
   "cell_type": "code",
   "execution_count": 92,
   "metadata": {},
   "outputs": [],
   "source": [
    "for each in not_in_convs:\n",
    "    print(each[0])"
   ]
  },
  {
   "cell_type": "code",
   "execution_count": 93,
   "metadata": {},
   "outputs": [],
   "source": [
    "ids = []\n",
    "for i in range(len(conversations)):\n",
    "    if conversations[i] in tagged_conv:\n",
    "        ids.append(tagged_conv.index(conversations[i]))\n",
    "    else:\n",
    "        ids.append(\"NA\")"
   ]
  },
  {
   "cell_type": "code",
   "execution_count": 94,
   "metadata": {},
   "outputs": [],
   "source": [
    "def get_taggs(tag_list):\n",
    "    output = \"\"\n",
    "    for i in range(len(tag_list)):\n",
    "        for each in tag_list[i]:\n",
    "            output += f\"{each['da']} \"\n",
    "        if i != len(tag_list) - 1:\n",
    "            output += \"_eos \"\n",
    "    return output[:-1]\n",
    "        \n",
    "        "
   ]
  },
  {
   "cell_type": "code",
   "execution_count": 95,
   "metadata": {},
   "outputs": [],
   "source": [
    "output = []\n",
    "na_count = 0\n",
    "untagged_len = []\n",
    "tagged_len = []\n",
    "for conv in ids:\n",
    "    if conv != \"NA\":\n",
    "        untagged_len.append(len(taggs[conv])-1)\n",
    "        conv_tag = taggs[conv]\n",
    "        for i in range(1, len(conv_tag)):\n",
    "            output.append(get_taggs(conv_tag[:i]))\n",
    "    else:\n",
    "        untagged_len.append(len(not_in_convs[na_count]))\n",
    "        output = output + not_in_convs[na_count]\n",
    "        na_count +=1 \n"
   ]
  },
  {
   "cell_type": "code",
   "execution_count": 96,
   "metadata": {},
   "outputs": [],
   "source": [
    "with open('processed_output/test_freq.src.da', 'w') as filehandle:\n",
    "    filehandle.writelines(\"%s\\n\" % place for place in output)"
   ]
  },
  {
   "cell_type": "code",
   "execution_count": null,
   "metadata": {},
   "outputs": [],
   "source": []
  }
 ],
 "metadata": {
  "kernelspec": {
   "display_name": "Python 3",
   "language": "python",
   "name": "python3"
  },
  "language_info": {
   "codemirror_mode": {
    "name": "ipython",
    "version": 3
   },
   "file_extension": ".py",
   "mimetype": "text/x-python",
   "name": "python",
   "nbconvert_exporter": "python",
   "pygments_lexer": "ipython3",
   "version": "3.7.6"
  }
 },
 "nbformat": 4,
 "nbformat_minor": 4
}
