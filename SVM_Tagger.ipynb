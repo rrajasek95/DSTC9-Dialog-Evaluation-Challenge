{
 "cells": [
  {
   "cell_type": "code",
   "execution_count": 1,
   "metadata": {},
   "outputs": [],
   "source": [
    "import sys\n",
    "import os\n",
    "\n",
    "from config import Config, Model\n",
    "import argparse\n",
    "from predictors.svm_predictor import SVMPredictor\n",
    "import logging\n",
    "import json"
   ]
  },
  {
   "cell_type": "code",
   "execution_count": 2,
   "metadata": {},
   "outputs": [
    {
     "name": "stderr",
     "output_type": "stream",
     "text": [
      "INFO:ISO_DA:Corpora loaded succesfully! Loaded corpora:\n",
      "INFO:ISO_DA:[]\n"
     ]
    }
   ],
   "source": [
    "cfg = Config.from_json(f\"scripts/models/Model.SVM/meta.json\")"
   ]
  },
  {
   "cell_type": "code",
   "execution_count": 3,
   "metadata": {},
   "outputs": [],
   "source": [
    "cfg.out_folder = 'scripts/models/Model.SVM'"
   ]
  },
  {
   "cell_type": "code",
   "execution_count": 35,
   "metadata": {},
   "outputs": [],
   "source": [
    "non = \"train.src.da\"\n",
    "with open(non) as f:\n",
    "    src = f.readlines()"
   ]
  },
  {
   "cell_type": "code",
   "execution_count": 30,
   "metadata": {},
   "outputs": [],
   "source": [
    "from spacy.lang.en import English \n",
    "nlp = English()\n",
    "nlp.add_pipe(nlp.create_pipe('sentencizer'))"
   ]
  },
  {
   "cell_type": "code",
   "execution_count": 31,
   "metadata": {},
   "outputs": [],
   "source": [
    "conv = []\n",
    "for each in src:\n",
    "    if \"do you like\" in each:\n",
    "        conv.append(each[:-1])"
   ]
  },
  {
   "cell_type": "code",
   "execution_count": 32,
   "metadata": {},
   "outputs": [
    {
     "data": {
      "text/plain": [
       "15"
      ]
     },
     "execution_count": 32,
     "metadata": {},
     "output_type": "execute_result"
    }
   ],
   "source": [
    "len(conv)"
   ]
  },
  {
   "cell_type": "code",
   "execution_count": 92,
   "metadata": {
    "scrolled": true
   },
   "outputs": [
    {
     "data": {
      "text/plain": [
       "['Statement\\n',\n",
       " 'Statement _eos Directive\\n',\n",
       " 'Statement _eos Directive _eos Statement Statement Statement\\n',\n",
       " 'Statement _eos Directive _eos Statement Statement Statement _eos Feedback Directive Statement\\n',\n",
       " 'Statement _eos Directive _eos Statement Statement Statement _eos Feedback Directive Statement _eos Statement Statement\\n',\n",
       " 'Statement _eos Directive _eos Statement Statement Statement _eos Feedback Directive Statement _eos Statement Statement _eos Statement\\n',\n",
       " 'Statement _eos Directive _eos Statement Statement Statement _eos Feedback Directive Statement _eos Statement Statement _eos Statement _eos Statement Statement\\n',\n",
       " 'Statement _eos Directive _eos Statement Statement Statement _eos Feedback Directive Statement _eos Statement Statement _eos Statement _eos Statement Statement _eos Feedback Statement\\n',\n",
       " 'Statement _eos Directive _eos Statement Statement Statement _eos Feedback Directive Statement _eos Statement Statement _eos Statement _eos Statement Statement _eos Feedback Statement _eos Statement Feedback Statement\\n',\n",
       " 'Statement _eos Directive _eos Statement Statement Statement _eos Feedback Directive Statement _eos Statement Statement _eos Statement _eos Statement Statement _eos Feedback Statement _eos Statement Feedback Statement _eos Feedback Statement\\n',\n",
       " 'Statement _eos Directive _eos Statement Statement Statement _eos Feedback Directive Statement _eos Statement Statement _eos Statement _eos Statement Statement _eos Feedback Statement _eos Statement Feedback Statement _eos Feedback Statement _eos Statement Statement Statement Statement\\n',\n",
       " 'Statement _eos Directive _eos Statement Statement Statement _eos Feedback Directive Statement _eos Statement Statement _eos Statement _eos Statement Statement _eos Feedback Statement _eos Statement Feedback Statement _eos Feedback Statement _eos Statement Statement Statement Statement _eos Statement Feedback Statement\\n',\n",
       " 'Statement _eos Directive _eos Statement Statement Statement _eos Feedback Directive Statement _eos Statement Statement _eos Statement _eos Statement Statement _eos Feedback Statement _eos Statement Feedback Statement _eos Feedback Statement _eos Statement Statement Statement Statement _eos Statement Feedback Statement _eos Statement Statement\\n',\n",
       " 'Statement _eos Directive _eos Statement Statement Statement _eos Feedback Directive Statement _eos Statement Statement _eos Statement _eos Statement Statement _eos Feedback Statement _eos Statement Feedback Statement _eos Feedback Statement _eos Statement Statement Statement Statement _eos Statement Feedback Statement _eos Statement Statement _eos Statement\\n',\n",
       " 'Statement _eos Directive _eos Statement Statement Statement _eos Feedback Directive Statement _eos Statement Statement _eos Statement _eos Statement Statement _eos Feedback Statement _eos Statement Feedback Statement _eos Feedback Statement _eos Statement Statement Statement Statement _eos Statement Feedback Statement _eos Statement Statement _eos Statement _eos Statement Statement\\n',\n",
       " 'Statement _eos Directive _eos Statement Statement Statement _eos Feedback Directive Statement _eos Statement Statement _eos Statement _eos Statement Statement _eos Feedback Statement _eos Statement Feedback Statement _eos Feedback Statement _eos Statement Statement Statement Statement _eos Statement Feedback Statement _eos Statement Statement _eos Statement _eos Statement Statement _eos Statement\\n',\n",
       " 'Statement _eos Directive _eos Statement Statement Statement _eos Feedback Directive Statement _eos Statement Statement _eos Statement _eos Statement Statement _eos Feedback Statement _eos Statement Feedback Statement _eos Feedback Statement _eos Statement Statement Statement Statement _eos Statement Feedback Statement _eos Statement Statement _eos Statement _eos Statement Statement _eos Statement _eos Feedback Statement\\n',\n",
       " 'Statement _eos Directive _eos Statement Statement Statement _eos Feedback Directive Statement _eos Statement Statement _eos Statement _eos Statement Statement _eos Feedback Statement _eos Statement Feedback Statement _eos Feedback Statement _eos Statement Statement Statement Statement _eos Statement Feedback Statement _eos Statement Statement _eos Statement _eos Statement Statement _eos Statement _eos Feedback Statement _eos Statement Statement\\n',\n",
       " 'Statement _eos Directive _eos Statement Statement Statement _eos Feedback Directive Statement _eos Statement Statement _eos Statement _eos Statement Statement _eos Feedback Statement _eos Statement Feedback Statement _eos Feedback Statement _eos Statement Statement Statement Statement _eos Statement Feedback Statement _eos Statement Statement _eos Statement _eos Statement Statement _eos Statement _eos Feedback Statement _eos Statement Statement _eos Statement NoDiaogAct Statement\\n',\n",
       " 'Statement _eos Directive _eos Statement Statement Statement _eos Feedback Directive Statement _eos Statement Statement _eos Statement _eos Statement Statement _eos Feedback Statement _eos Statement Feedback Statement _eos Feedback Statement _eos Statement Statement Statement Statement _eos Statement Feedback Statement _eos Statement Statement _eos Statement _eos Statement Statement _eos Statement _eos Feedback Statement _eos Statement Statement _eos Statement NoDiaogAct Statement _eos Feedback NoDiaogAct\\n',\n",
       " 'Statement _eos Directive _eos Statement Statement Statement _eos Feedback Directive Statement _eos Statement Statement _eos Statement _eos Statement Statement _eos Feedback Statement _eos Statement Feedback Statement _eos Feedback Statement _eos Statement Statement Statement Statement _eos Statement Feedback Statement _eos Statement Statement _eos Statement _eos Statement Statement _eos Statement _eos Feedback Statement _eos Statement Statement _eos Statement NoDiaogAct Statement _eos Feedback NoDiaogAct _eos Thanking\\n',\n",
       " 'Statement\\n']"
      ]
     },
     "execution_count": 92,
     "metadata": {},
     "output_type": "execute_result"
    }
   ],
   "source": [
    "src[132284: 132306]"
   ]
  },
  {
   "cell_type": "code",
   "execution_count": 33,
   "metadata": {
    "scrolled": true
   },
   "outputs": [
    {
     "name": "stdout",
     "output_type": "stream",
     "text": [
      "8024 Statement\n",
      "8025 Statement _eos Directive\n",
      "8026 Statement _eos Directive _eos Statement\n",
      "8027 Statement _eos Directive _eos Statement _eos Statement\n",
      "8028 Statement _eos Directive _eos Statement _eos Statement _eos Statement Statement\n",
      "8029 Statement _eos Directive _eos Statement _eos Statement _eos Statement Statement _eos Statement Statement\n",
      "8030 Statement _eos Directive _eos Statement _eos Statement _eos Statement Statement _eos Statement Statement _eos Statement\n",
      "8031 Statement _eos Directive _eos Statement _eos Statement _eos Statement Statement _eos Statement Statement _eos Statement _eos Statement\n",
      "8032 Statement _eos Directive _eos Statement _eos Statement _eos Statement Statement _eos Statement Statement _eos Statement _eos Statement _eos Statement Statement\n",
      "8033 Statement _eos Directive _eos Statement _eos Statement _eos Statement Statement _eos Statement Statement _eos Statement _eos Statement _eos Statement Statement _eos Feedback\n",
      "8034 Statement _eos Directive _eos Statement _eos Statement _eos Statement Statement _eos Statement Statement _eos Statement _eos Statement _eos Statement Statement _eos Feedback _eos Statement\n",
      "8035 Statement _eos Directive _eos Statement _eos Statement _eos Statement Statement _eos Statement Statement _eos Statement _eos Statement _eos Statement Statement _eos Feedback _eos Statement _eos Statement\n",
      "8036 Statement _eos Directive _eos Statement _eos Statement _eos Statement Statement _eos Statement Statement _eos Statement _eos Statement _eos Statement Statement _eos Feedback _eos Statement _eos Statement _eos Statement Statement\n",
      "8037 Statement _eos Directive _eos Statement _eos Statement _eos Statement Statement _eos Statement Statement _eos Statement _eos Statement _eos Statement Statement _eos Feedback _eos Statement _eos Statement _eos Statement Statement _eos Statement Statement\n",
      "8038 Statement _eos Directive _eos Statement _eos Statement _eos Statement Statement _eos Statement Statement _eos Statement _eos Statement _eos Statement Statement _eos Feedback _eos Statement _eos Statement _eos Statement Statement _eos Statement Statement _eos Statement\n"
     ]
    }
   ],
   "source": [
    "till_now = \"\"\n",
    "first = True\n",
    "for i in range(len(src)):\n",
    "    if \"do you like\" in src[i]:\n",
    "        line = src[i][:-1]\n",
    "        tag = tag_line(line)\n",
    "        if first:\n",
    "            till_now = tag\n",
    "            first = False\n",
    "        else:\n",
    "            till_now += \" _eos \" + tag\n",
    "        src[i] = till_now + \"\\n\"\n",
    "        print(i, till_now)"
   ]
  },
  {
   "cell_type": "code",
   "execution_count": 34,
   "metadata": {},
   "outputs": [],
   "source": [
    "with open('new_valid_rare.src.da', 'w') as filehandle:\n",
    "    for each in src:\n",
    "        filehandle.writelines(\"%s\" % each)"
   ]
  },
  {
   "cell_type": "code",
   "execution_count": 12,
   "metadata": {},
   "outputs": [],
   "source": [
    "def tag_line(line):\n",
    "    turns = line.split(\"_eos\")[:-1]\n",
    "    tags = \"\"\n",
    "    previous = \"\"\n",
    "    for i in range(len(turns)-1, len(turns)):\n",
    "        doc = nlp(turns[i])\n",
    "        sentences = [sent.string.strip() for sent in doc.sents]\n",
    "        for each in sentences:\n",
    "            output = tagger.dialogue_act_tag(each, previous)\n",
    "            if len(output) != 0:\n",
    "                tag = output[0]['communicative_function']\n",
    "            else:\n",
    "                tag = 'NoDiaogAct'\n",
    "            tags = tags + tag + \" \"\n",
    "            previous = each\n",
    "        if i < len(turns) - 1:\n",
    "            tags = tags + \"_eos \"\n",
    "    return tags[:-1]"
   ]
  },
  {
   "cell_type": "code",
   "execution_count": null,
   "metadata": {},
   "outputs": [],
   "source": []
  }
 ],
 "metadata": {
  "kernelspec": {
   "display_name": "Python 3",
   "language": "python",
   "name": "python3"
  },
  "language_info": {
   "codemirror_mode": {
    "name": "ipython",
    "version": 3
   },
   "file_extension": ".py",
   "mimetype": "text/x-python",
   "name": "python",
   "nbconvert_exporter": "python",
   "pygments_lexer": "ipython3",
   "version": "3.7.7"
  }
 },
 "nbformat": 4,
 "nbformat_minor": 4
}
