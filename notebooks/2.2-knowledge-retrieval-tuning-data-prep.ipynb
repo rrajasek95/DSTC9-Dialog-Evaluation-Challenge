{
 "cells": [
  {
   "cell_type": "markdown",
   "id": "04ebeb4b",
   "metadata": {},
   "source": [
    "# Knowledge Retrieval Method Tuning"
   ]
  },
  {
   "cell_type": "markdown",
   "id": "84578445",
   "metadata": {},
   "source": [
    "The knowledge retrieval method would require tuning to the corpus in order to produce sensible results. One way to do it is to hand-label a corpus that contains an even distribution of scores and calibrate the threshold accordingly."
   ]
  },
  {
   "cell_type": "code",
   "execution_count": 1,
   "id": "2236d1e4",
   "metadata": {
    "ExecuteTime": {
     "end_time": "2021-08-14T22:22:57.686332Z",
     "start_time": "2021-08-14T22:22:55.992986Z"
    }
   },
   "outputs": [],
   "source": [
    "import pandas as pd\n",
    "import sys\n",
    "import torch\n",
    "import matplotlib.pyplot as plt\n",
    "from tqdm.auto import tqdm\n",
    "import nltk\n",
    "import seaborn as sns"
   ]
  },
  {
   "cell_type": "code",
   "execution_count": 2,
   "id": "77de85c0",
   "metadata": {
    "ExecuteTime": {
     "end_time": "2021-08-14T22:22:57.689397Z",
     "start_time": "2021-08-14T22:22:57.687451Z"
    }
   },
   "outputs": [],
   "source": [
    "import numpy as np"
   ]
  },
  {
   "cell_type": "code",
   "execution_count": 3,
   "id": "acd897b5",
   "metadata": {
    "ExecuteTime": {
     "end_time": "2021-08-14T22:22:57.698020Z",
     "start_time": "2021-08-14T22:22:57.690763Z"
    }
   },
   "outputs": [],
   "source": [
    "sys.path.append(\"../src\")"
   ]
  },
  {
   "cell_type": "code",
   "execution_count": 4,
   "id": "e7f761b1",
   "metadata": {
    "ExecuteTime": {
     "end_time": "2021-08-14T22:22:58.078356Z",
     "start_time": "2021-08-14T22:22:57.699177Z"
    }
   },
   "outputs": [],
   "source": [
    "from data.topical_chat.annotators.knowledge.embedding import SentenceTransformerRetriever"
   ]
  },
  {
   "cell_type": "code",
   "execution_count": 5,
   "id": "c0fbb943",
   "metadata": {
    "ExecuteTime": {
     "end_time": "2021-08-14T22:23:02.497812Z",
     "start_time": "2021-08-14T22:22:58.080092Z"
    }
   },
   "outputs": [],
   "source": [
    "train_retriever = SentenceTransformerRetriever(\"../data/intermediate/topical_chat/knowledge_embeddings/train_embeddings.pkl\", torch.device(\"cuda\"))"
   ]
  },
  {
   "cell_type": "code",
   "execution_count": 6,
   "id": "c29a6475",
   "metadata": {
    "ExecuteTime": {
     "end_time": "2021-08-14T22:23:03.334898Z",
     "start_time": "2021-08-14T22:23:02.498797Z"
    }
   },
   "outputs": [],
   "source": [
    "train_data = pd.read_parquet(\"../data/intermediate/topical_chat/parquet/conversations/train.parquet\")"
   ]
  },
  {
   "cell_type": "code",
   "execution_count": 7,
   "id": "8fb9c29c",
   "metadata": {
    "ExecuteTime": {
     "end_time": "2021-08-14T22:23:03.349002Z",
     "start_time": "2021-08-14T22:23:03.335995Z"
    }
   },
   "outputs": [
    {
     "data": {
      "text/html": [
       "<div>\n",
       "<style scoped>\n",
       "    .dataframe tbody tr th:only-of-type {\n",
       "        vertical-align: middle;\n",
       "    }\n",
       "\n",
       "    .dataframe tbody tr th {\n",
       "        vertical-align: top;\n",
       "    }\n",
       "\n",
       "    .dataframe thead th {\n",
       "        text-align: right;\n",
       "    }\n",
       "</style>\n",
       "<table border=\"1\" class=\"dataframe\">\n",
       "  <thead>\n",
       "    <tr style=\"text-align: right;\">\n",
       "      <th></th>\n",
       "      <th>conversation_id</th>\n",
       "      <th>turn_index</th>\n",
       "      <th>message</th>\n",
       "      <th>agent</th>\n",
       "      <th>sentiment</th>\n",
       "      <th>knowledge_source</th>\n",
       "      <th>turn_rating</th>\n",
       "    </tr>\n",
       "  </thead>\n",
       "  <tbody>\n",
       "    <tr>\n",
       "      <th>0</th>\n",
       "      <td>t_bde29ce2-4153-4056-9eb7-f4ad710505fe</td>\n",
       "      <td>1</td>\n",
       "      <td>Are you a fan of Google or Microsoft?</td>\n",
       "      <td>agent_1</td>\n",
       "      <td>Curious to dive deeper</td>\n",
       "      <td>[FS1]</td>\n",
       "      <td>Good</td>\n",
       "    </tr>\n",
       "    <tr>\n",
       "      <th>1</th>\n",
       "      <td>t_bde29ce2-4153-4056-9eb7-f4ad710505fe</td>\n",
       "      <td>2</td>\n",
       "      <td>Both are excellent technology they are helpful...</td>\n",
       "      <td>agent_2</td>\n",
       "      <td>Curious to dive deeper</td>\n",
       "      <td>[FS1]</td>\n",
       "      <td>Excellent</td>\n",
       "    </tr>\n",
       "    <tr>\n",
       "      <th>2</th>\n",
       "      <td>t_bde29ce2-4153-4056-9eb7-f4ad710505fe</td>\n",
       "      <td>3</td>\n",
       "      <td>I'm not  a huge fan of Google, but I use it a ...</td>\n",
       "      <td>agent_1</td>\n",
       "      <td>Curious to dive deeper</td>\n",
       "      <td>[FS1]</td>\n",
       "      <td>Good</td>\n",
       "    </tr>\n",
       "    <tr>\n",
       "      <th>3</th>\n",
       "      <td>t_bde29ce2-4153-4056-9eb7-f4ad710505fe</td>\n",
       "      <td>4</td>\n",
       "      <td>Google provides online related services and pr...</td>\n",
       "      <td>agent_2</td>\n",
       "      <td>Curious to dive deeper</td>\n",
       "      <td>[FS1]</td>\n",
       "      <td>Excellent</td>\n",
       "    </tr>\n",
       "    <tr>\n",
       "      <th>4</th>\n",
       "      <td>t_bde29ce2-4153-4056-9eb7-f4ad710505fe</td>\n",
       "      <td>5</td>\n",
       "      <td>Yeah, their services are good. I'm just not a ...</td>\n",
       "      <td>agent_1</td>\n",
       "      <td>Curious to dive deeper</td>\n",
       "      <td>[FS1]</td>\n",
       "      <td>Good</td>\n",
       "    </tr>\n",
       "  </tbody>\n",
       "</table>\n",
       "</div>"
      ],
      "text/plain": [
       "                          conversation_id  turn_index  \\\n",
       "0  t_bde29ce2-4153-4056-9eb7-f4ad710505fe           1   \n",
       "1  t_bde29ce2-4153-4056-9eb7-f4ad710505fe           2   \n",
       "2  t_bde29ce2-4153-4056-9eb7-f4ad710505fe           3   \n",
       "3  t_bde29ce2-4153-4056-9eb7-f4ad710505fe           4   \n",
       "4  t_bde29ce2-4153-4056-9eb7-f4ad710505fe           5   \n",
       "\n",
       "                                             message    agent  \\\n",
       "0              Are you a fan of Google or Microsoft?  agent_1   \n",
       "1  Both are excellent technology they are helpful...  agent_2   \n",
       "2  I'm not  a huge fan of Google, but I use it a ...  agent_1   \n",
       "3  Google provides online related services and pr...  agent_2   \n",
       "4  Yeah, their services are good. I'm just not a ...  agent_1   \n",
       "\n",
       "                sentiment knowledge_source turn_rating  \n",
       "0  Curious to dive deeper            [FS1]        Good  \n",
       "1  Curious to dive deeper            [FS1]   Excellent  \n",
       "2  Curious to dive deeper            [FS1]        Good  \n",
       "3  Curious to dive deeper            [FS1]   Excellent  \n",
       "4  Curious to dive deeper            [FS1]        Good  "
      ]
     },
     "execution_count": 7,
     "metadata": {},
     "output_type": "execute_result"
    }
   ],
   "source": [
    "train_data.head()"
   ]
  },
  {
   "cell_type": "code",
   "execution_count": 8,
   "id": "161d8d14",
   "metadata": {
    "ExecuteTime": {
     "end_time": "2021-08-14T22:23:03.352776Z",
     "start_time": "2021-08-14T22:23:03.350837Z"
    }
   },
   "outputs": [],
   "source": [
    "tqdm.pandas()"
   ]
  },
  {
   "cell_type": "code",
   "execution_count": 9,
   "id": "fd888fdd",
   "metadata": {
    "ExecuteTime": {
     "end_time": "2021-08-14T22:37:08.793051Z",
     "start_time": "2021-08-14T22:23:03.353944Z"
    }
   },
   "outputs": [
    {
     "data": {
      "application/vnd.jupyter.widget-view+json": {
       "model_id": "2e7b4386dbff4bfdb72ab3b30b496be5",
       "version_major": 2,
       "version_minor": 0
      },
      "text/plain": [
       "  0%|          | 0/188378 [00:00<?, ?it/s]"
      ]
     },
     "metadata": {},
     "output_type": "display_data"
    }
   ],
   "source": [
    "document_score = train_data.progress_apply(lambda x: train_retriever.query(x['message'], x['conversation_id']), axis=1)"
   ]
  },
  {
   "cell_type": "code",
   "execution_count": 10,
   "id": "d2c0204f",
   "metadata": {
    "ExecuteTime": {
     "end_time": "2021-08-14T22:37:10.585009Z",
     "start_time": "2021-08-14T22:37:08.794164Z"
    }
   },
   "outputs": [],
   "source": [
    "train_data['knowledge_sentence'] = document_score.apply(lambda x: x[0])\n",
    "train_data['knowledge_similarity_score'] = document_score.apply(lambda x: float(x[1]))"
   ]
  },
  {
   "cell_type": "code",
   "execution_count": 11,
   "id": "c5242f1b",
   "metadata": {
    "ExecuteTime": {
     "end_time": "2021-08-14T22:37:10.794433Z",
     "start_time": "2021-08-14T22:37:10.585866Z"
    }
   },
   "outputs": [
    {
     "data": {
      "text/plain": [
       "Text(0, 0.5, 'Frequency')"
      ]
     },
     "execution_count": 11,
     "metadata": {},
     "output_type": "execute_result"
    },
    {
     "data": {
      "image/png": "[encoded data removed]",
      "text/plain": [
       "<Figure size 432x288 with 1 Axes>"
      ]
     },
     "metadata": {
      "needs_background": "light"
     },
     "output_type": "display_data"
    }
   ],
   "source": [
    "train_data['knowledge_similarity_score'].hist(bins=np.arange(0, 1, 0.01).tolist())\n",
    "plt.title('Knowledge similarity score distribution')\n",
    "plt.xlabel('Similarity score')\n",
    "plt.ylabel('Frequency')"
   ]
  },
  {
   "cell_type": "markdown",
   "id": "8d815bf7",
   "metadata": {},
   "source": [
    "Interestingly the scores appear to be distributed centered around 0.5. Let's look at the 95% interval for the scores."
   ]
  },
  {
   "cell_type": "code",
   "execution_count": 12,
   "id": "fa665bfd",
   "metadata": {
    "ExecuteTime": {
     "end_time": "2021-08-14T22:37:10.808384Z",
     "start_time": "2021-08-14T22:37:10.795594Z"
    }
   },
   "outputs": [
    {
     "data": {
      "text/plain": [
       "0.0275    0.150909\n",
       "0.9750    0.905992\n",
       "Name: knowledge_similarity_score, dtype: float64"
      ]
     },
     "execution_count": 12,
     "metadata": {},
     "output_type": "execute_result"
    }
   ],
   "source": [
    "train_data['knowledge_similarity_score'].quantile([0.0275, 0.975])"
   ]
  },
  {
   "cell_type": "markdown",
   "id": "feeba219",
   "metadata": {},
   "source": [
    "This shows that a vast majority of scores lie within \\[0.15, 0.91\\]"
   ]
  },
  {
   "cell_type": "markdown",
   "id": "9067a467",
   "metadata": {},
   "source": [
    "Let's look at the sentences that have the most similarity with the conversations."
   ]
  },
  {
   "cell_type": "code",
   "execution_count": 13,
   "id": "81283556",
   "metadata": {
    "ExecuteTime": {
     "end_time": "2021-08-14T22:37:10.927303Z",
     "start_time": "2021-08-14T22:37:10.809459Z"
    }
   },
   "outputs": [],
   "source": [
    "mean_sentence_scores = train_data.groupby(\"knowledge_sentence\").agg({\"knowledge_similarity_score\": \"mean\"})"
   ]
  },
  {
   "cell_type": "code",
   "execution_count": 14,
   "id": "3deed12e",
   "metadata": {
    "ExecuteTime": {
     "end_time": "2021-08-14T22:37:10.934454Z",
     "start_time": "2021-08-14T22:37:10.928256Z"
    }
   },
   "outputs": [
    {
     "data": {
      "text/html": [
       "<div>\n",
       "<style scoped>\n",
       "    .dataframe tbody tr th:only-of-type {\n",
       "        vertical-align: middle;\n",
       "    }\n",
       "\n",
       "    .dataframe tbody tr th {\n",
       "        vertical-align: top;\n",
       "    }\n",
       "\n",
       "    .dataframe thead th {\n",
       "        text-align: right;\n",
       "    }\n",
       "</style>\n",
       "<table border=\"1\" class=\"dataframe\">\n",
       "  <thead>\n",
       "    <tr style=\"text-align: right;\">\n",
       "      <th></th>\n",
       "      <th>knowledge_similarity_score</th>\n",
       "    </tr>\n",
       "    <tr>\n",
       "      <th>knowledge_sentence</th>\n",
       "      <th></th>\n",
       "    </tr>\n",
       "  </thead>\n",
       "  <tbody>\n",
       "    <tr>\n",
       "      <th>‘Hatred and evil’: How Trump follows a familiar script after national tragedies</th>\n",
       "      <td>0.970083</td>\n",
       "    </tr>\n",
       "    <tr>\n",
       "      <th>Kubrick wanted 90 tons of sand dyed gray for ‘2001’ — and that was just the start</th>\n",
       "      <td>0.968505</td>\n",
       "    </tr>\n",
       "    <tr>\n",
       "      <th>the Grammy awards were invented to counter the exploding popularity of Rock 'n Roll in the 1950's</th>\n",
       "      <td>0.954808</td>\n",
       "    </tr>\n",
       "    <tr>\n",
       "      <th>Uber agrees to settle data breach claims for record-setting $148 million</th>\n",
       "      <td>0.945378</td>\n",
       "    </tr>\n",
       "    <tr>\n",
       "      <th>Smallville was originally planned to be a show about Bruce Wayne becoming Batman</th>\n",
       "      <td>0.942855</td>\n",
       "    </tr>\n",
       "    <tr>\n",
       "      <th>April the giraffe might be pregnant again, and it’s somehow news</th>\n",
       "      <td>0.926071</td>\n",
       "    </tr>\n",
       "    <tr>\n",
       "      <th>Ubisoft partnered with the British Museum to apply machine learning to speed the deciphering of ancient hieroglyphics</th>\n",
       "      <td>0.916152</td>\n",
       "    </tr>\n",
       "    <tr>\n",
       "      <th>Jaguars not alone in noticing the Patriots had just one penalty in AFC championship game</th>\n",
       "      <td>0.907659</td>\n",
       "    </tr>\n",
       "    <tr>\n",
       "      <th>Target's sales growth is at a 13-year high, thanks to demand for toys and home goods</th>\n",
       "      <td>0.906155</td>\n",
       "    </tr>\n",
       "    <tr>\n",
       "      <th>Tim curry is the voice of slick in the jumanji cartoon</th>\n",
       "      <td>0.902026</td>\n",
       "    </tr>\n",
       "  </tbody>\n",
       "</table>\n",
       "</div>"
      ],
      "text/plain": [
       "                                                    knowledge_similarity_score\n",
       "knowledge_sentence                                                            \n",
       "‘Hatred and evil’: How Trump follows a familiar...                    0.970083\n",
       "Kubrick wanted 90 tons of sand dyed gray for ‘2...                    0.968505\n",
       "the Grammy awards were invented to counter the ...                    0.954808\n",
       "Uber agrees to settle data breach claims for re...                    0.945378\n",
       "Smallville was originally planned to be a show ...                    0.942855\n",
       "April the giraffe might be pregnant again, and ...                    0.926071\n",
       "Ubisoft partnered with the British Museum to ap...                    0.916152\n",
       "Jaguars not alone in noticing the Patriots had ...                    0.907659\n",
       "Target's sales growth is at a 13-year high, tha...                    0.906155\n",
       "Tim curry is the voice of slick in the jumanji ...                    0.902026"
      ]
     },
     "execution_count": 14,
     "metadata": {},
     "output_type": "execute_result"
    }
   ],
   "source": [
    "mean_sentence_scores.sort_values(\"knowledge_similarity_score\", ascending=False).head(10)"
   ]
  },
  {
   "cell_type": "code",
   "execution_count": 15,
   "id": "90dda724",
   "metadata": {
    "ExecuteTime": {
     "end_time": "2021-08-14T22:37:10.941900Z",
     "start_time": "2021-08-14T22:37:10.935348Z"
    }
   },
   "outputs": [
    {
     "data": {
      "text/html": [
       "<div>\n",
       "<style scoped>\n",
       "    .dataframe tbody tr th:only-of-type {\n",
       "        vertical-align: middle;\n",
       "    }\n",
       "\n",
       "    .dataframe tbody tr th {\n",
       "        vertical-align: top;\n",
       "    }\n",
       "\n",
       "    .dataframe thead th {\n",
       "        text-align: right;\n",
       "    }\n",
       "</style>\n",
       "<table border=\"1\" class=\"dataframe\">\n",
       "  <thead>\n",
       "    <tr style=\"text-align: right;\">\n",
       "      <th></th>\n",
       "      <th>knowledge_similarity_score</th>\n",
       "    </tr>\n",
       "    <tr>\n",
       "      <th>knowledge_sentence</th>\n",
       "      <th></th>\n",
       "    </tr>\n",
       "  </thead>\n",
       "  <tbody>\n",
       "    <tr>\n",
       "      <th>(NBC) Every so often, a sports broadcast gets fixated on a single character from the crowd and shows that person's reaction incessantly, after every moment good and bad, during every timeout, during every climactic moment. Maybe it's a coach's wife or husband. Maybe it's a player's parents or children. Maybe it's Bradley Beal, after he has fouled out during a playoff game. Maybe it's Bill Murray or Rudy Giuliani or Drake. Almost always, this is annoying. Almost always, viewers will say, \"Why won't they stop showing Mickie Krzyzewski, or Bill Murray or Drake?\" [2018 NHL Stanley Cup finals: Golden Knights-Capitals Game 4] Here is an exception: At some point during this playoff run, NBC's camera people decided they would start showing Alex Ovechkin's reaction incessantly, after every moment good and bad, during every timeout, during every climactic moment. And people can't get enough of these reactions. \"I love it,\" said longtime local hockey analyst Alan May, who like me, has been captivated by this development. \"It's childlike, and I'm saying that in a good way. That's just a guy that loves it all, that is living and dying in every moment here. For people who said this guy doesn't care, tell me that type of reaction is not caring. It's over the top, man.</th>\n",
       "      <td>0.077154</td>\n",
       "    </tr>\n",
       "    <tr>\n",
       "      <th>For Navy QB with two career passes, spring is time to air things out (a little)</th>\n",
       "      <td>0.075925</td>\n",
       "    </tr>\n",
       "    <tr>\n",
       "      <th>If being a jerk to a witness at a hearing were a crime, most of Congress would be locked up. However, an accounting of how the oversight process went badly awry and how to fix it will be needed. That perhaps can be undertaken in the context of an ethics proceeding, a subsequent Congress's intelligence committee or an independent commission. In short, we cannot have another House Intelligence Committee that behaves like this one; preventing that is the job of responsible lawmakers. Representatives who behaved dishonestly can be sanctioned by the House. There are, however, incidents that do smack of obstruction. Congressional votes and committee work, speeches on the floor and other action directly relating to the legislative process may be protected by the \"speech or debate\" clause. The constitutional provision protects members of Congress from being sued or prosecuted for carrying out their official duties. However, there is nothing official in sneaking over to the White House to review classified materials and then publicly misrepresenting them.</th>\n",
       "      <td>0.075491</td>\n",
       "    </tr>\n",
       "    <tr>\n",
       "      <th>I stepped down as U.S. ambassador to Estonia. Here’s why.</th>\n",
       "      <td>0.073480</td>\n",
       "    </tr>\n",
       "    <tr>\n",
       "      <th>\"We've just had some success in the postseason . . . I've had a lot of success in the postseason. \"Probably within the last five years, I bet [the Raptors have] improved in winning percentage every single year. But I guess their front office wants playoff success. That's what it boils down to, I guess.\" As long as James is playing in the Eastern Conference, good luck to the Raptors - and everyone else - hoping to accomplish that. More NBA coverage:  Pau Gasol: 'Becky Hammon can coach NBA basketball. Period.' Rockets are the toughest playoff opponent Steve Kerr's Warriors have ever faced The Philadelphia 76ers should go after Paul George, not LeBron James Will DeMarcus Cousins be back with the New Orleans Pelicans?</th>\n",
       "      <td>0.061608</td>\n",
       "    </tr>\n",
       "    <tr>\n",
       "      <th>It represents what can happen to you when you have that call.\" Well, that, and a refined three-point shot. Ingram shot 38.5 percent from three in college. His strength was attacking the rim and a solid midrange game, Jones said. He still averaged 15.2 points and 4.8 rebounds his senior season at AU. \"He was our best player through the course of his career,\" Jones said. Former American University star Andre Ingram, 32, finally got his NBA shot. (American University) But Ingram went undrafted by the NBA out of college and was selected in the seventh round of the G League draft, where he became one of the NBA's best prospects to never get called up. He played 384 games in that developmental circuit, an entire career's worth of trips to places like Sioux Falls and Des Moines. And through those years in the development league, first with the Utah Flash then with the South Bay Lakers, Ingram steadily improved until his style suited an NBA game that includes more three-pointers, more fast breaks and less defense. His last three years in the G League, Ingram shot better than 49 percent beyond the arc. His 47.5 percent clip this season is the best in the G League. The happy coincidence of the season's end, his elevated play and injuries to some of the Lakers' stars - guard Isaiah Thomas is out for the year, Lonzo Ball missed Tuesday's game with a knee injury, and Kyle Kuzma was out with a bum ankle - finally delivered Ingram this chance a decade in the making. \"It was all the emotions you'd think,\" Ingram said before Tuesday's game.</th>\n",
       "      <td>0.048511</td>\n",
       "    </tr>\n",
       "    <tr>\n",
       "      <th>After spending the summer threatening to shut down the government if Congress doesn't give him billions of dollars to build a border wall, President Trump is now declaring he thinks a shutdown is good politics for him.That's despite the fact nearly everyone else in his party disagrees.Republicans control all of Washington, and if the government shuts down at the end of this month when the fiscal year ends, it would come just weeks before most members of Congress face voters. Republican leaders have a hard time imagining a more nightmarish scenario for their party: The government has already shut down briefly twice this year under their watch, and the Republicans' majority is on the line this November in the House of Representatives and maybe even the Senate.Yet Trump doesn't seem to care much. Each time he appears to assuage Republican leaders' concerns by moderating his position, he says something a day or two later more strongly in favor of a shutdown.Here's everything Trump has said about the potential for a shutdown. What Trump ultimately does will decide whether the government shuts down this month &amp;mdash; and, potentially, Republicans' fate in the midterms. July 29: &amp;ldquo;I would be willing to 'shut down' government if the Democrats do not give us the votes for Border Security, which includes the Wall! Must get rid of Lottery, Catch &amp; Release etc. and finally go to system of Immigration based on MERIT!</th>\n",
       "      <td>0.040668</td>\n",
       "    </tr>\n",
       "    <tr>\n",
       "      <th>He should be that good. But with Gordon, it always has been about projecting and wondering. He has been suspended repeatedly under the NFL's substance abuse policy and has played in only 11 regular season NFL games since his breakout season in 2013. His return to the Browns this season lasted all of one game until team officials were left with their patience exhausted and feeling that Gordon had run out of chances with the organization. Belichick may bring out Gordon's best. He is a coach for the ages, but his history with taking chances on players with sullied reputations is mixed. Gordon could be another Moss for Belichick and Brady. Moss had three 1,000-yard receiving seasons with the Patriots, including the wondrous 2007 season in which Brady-to-Moss was as unstoppable as it gets and New England was unbeaten until its stunning Super Bowl defeat to the New York Giants. Or Gordon could be another Albert Haynesworth, whose Patriots tenure lasted six games in 2011 and included three tackles and no sacks. Belichick's coaching magic is not absolute in these cases. All the Patriots have put at risk is the conditional fifth-round draft pick they sent to the Browns in the deal. The trade signals just how badly the Patriots need help at wide receiver. They have made one move after another at the position since March, and the situation remains unsettled. Wide receivers Chris Hogan, Phillip Dorsett and Cordarrelle Patterson totaled 11 catches for 104 yards in Sunday's loss at Jacksonville.</th>\n",
       "      <td>0.037703</td>\n",
       "    </tr>\n",
       "    <tr>\n",
       "      <th>Don’t believe the hype: Artificial intelligence isn’t taking over business decision-making</th>\n",
       "      <td>0.037206</td>\n",
       "    </tr>\n",
       "    <tr>\n",
       "      <th>Both are misdemeanors.&amp;ldquo;I was singled out as a black female senator standing in the rotunda with constituents in the Capitol, a body that I serve in, and I was singled out and arrested today for standing with so many Georgians who are demanding that every vote be counted,&amp;rdquo; Williams told reporters after she was released on a $3,000 bond.In addressing the state Senate chamber Wednesday, Williams said she did not expect to be arrested.&amp;ldquo;Justice was not upheld yesterday. I didn&amp;rsquo;t put on my to-do list to get arrested yesterday. I did not plan to go to the Fulton County Jail and take my clothes off and get strip searched,&amp;rdquo; she said.The Georgia Department of Public Safety, which oversees Capitol Police, said 15 people, including Williams, were arrested. The department points to parts of state law that don&amp;rsquo;t allow disrupting legislative sessions or other meetings of lawmakers. The agency said the protesters were asked to disperse three times, and those who refused to do so were arrested.Asked to comment on Williams&amp;rsquo;s claims she was singled out because of her race and gender, the department said, &amp;ldquo;She was arrested for violating Georgia law.&amp;rdquo;The protests come amid growing uncertainty over thousands of provisional ballots voters were forced to cast last week.</th>\n",
       "      <td>0.033721</td>\n",
       "    </tr>\n",
       "  </tbody>\n",
       "</table>\n",
       "</div>"
      ],
      "text/plain": [
       "                                                    knowledge_similarity_score\n",
       "knowledge_sentence                                                            \n",
       "(NBC) Every so often, a sports broadcast gets f...                    0.077154\n",
       "For Navy QB with two career passes, spring is t...                    0.075925\n",
       "If being a jerk to a witness at a hearing were ...                    0.075491\n",
       "I stepped down as U.S. ambassador to Estonia. H...                    0.073480\n",
       "\"We've just had some success in the postseason ...                    0.061608\n",
       "It represents what can happen to you when you h...                    0.048511\n",
       "After spending the summer threatening to shut d...                    0.040668\n",
       "He should be that good. But with Gordon, it alw...                    0.037703\n",
       "Don’t believe the hype: Artificial intelligence...                    0.037206\n",
       "Both are misdemeanors.&ldquo;I was singled out ...                    0.033721"
      ]
     },
     "execution_count": 15,
     "metadata": {},
     "output_type": "execute_result"
    }
   ],
   "source": [
    "mean_sentence_scores.sort_values(\"knowledge_similarity_score\", ascending=False).tail(10)"
   ]
  },
  {
   "cell_type": "markdown",
   "id": "9a1f3228",
   "metadata": {},
   "source": [
    "There seems to be an obvious issue where the knowledge sentences that are too long tend to have low similarity. All of these come from the raw Washington Post articles. Let's verify if that pattern is discernible from a bivariate plot of number of tokens versus score."
   ]
  },
  {
   "cell_type": "code",
   "execution_count": 16,
   "id": "d3064169",
   "metadata": {
    "ExecuteTime": {
     "end_time": "2021-08-14T22:38:06.527532Z",
     "start_time": "2021-08-14T22:37:10.942853Z"
    }
   },
   "outputs": [],
   "source": [
    "train_data['knowledge_sentence_length'] = train_data['knowledge_sentence'].apply(lambda x: len(nltk.word_tokenize(x)))"
   ]
  },
  {
   "cell_type": "markdown",
   "id": "1a736b7a",
   "metadata": {},
   "source": [
    "Interesting, there doesn't seem to be an obvious correlation between sentence length and similarity visually. Let's look at the cases with high score and long sentences."
   ]
  },
  {
   "cell_type": "code",
   "execution_count": 17,
   "id": "5a0459e5",
   "metadata": {
    "ExecuteTime": {
     "end_time": "2021-08-14T22:38:07.713481Z",
     "start_time": "2021-08-14T22:38:06.530791Z"
    }
   },
   "outputs": [
    {
     "data": {
      "text/plain": [
       "<seaborn.axisgrid.JointGrid at 0x7fcc37748af0>"
      ]
     },
     "execution_count": 17,
     "metadata": {},
     "output_type": "execute_result"
    },
    {
     "data": {
      "image/png": "[encoded data removed]",
      "text/plain": [
       "<Figure size 432x432 with 3 Axes>"
      ]
     },
     "metadata": {
      "needs_background": "light"
     },
     "output_type": "display_data"
    }
   ],
   "source": [
    "sns.jointplot(data=train_data, x=\"knowledge_similarity_score\", y=\"knowledge_sentence_length\")"
   ]
  },
  {
   "cell_type": "markdown",
   "id": "df14d398",
   "metadata": {},
   "source": [
    "### High similarity and high length cases"
   ]
  },
  {
   "cell_type": "code",
   "execution_count": 18,
   "id": "bb36c9d2",
   "metadata": {
    "ExecuteTime": {
     "end_time": "2021-08-14T22:38:07.753798Z",
     "start_time": "2021-08-14T22:38:07.714609Z"
    }
   },
   "outputs": [],
   "source": [
    "high_similarity_length_cases = train_data[(train_data['knowledge_sentence_length'] > 400) & (train_data['knowledge_sentence_length'] < 600) & (train_data['knowledge_similarity_score'] > 0.7)][['message', 'knowledge_sentence', 'knowledge_similarity_score']]"
   ]
  },
  {
   "cell_type": "code",
   "execution_count": 19,
   "id": "7e2a2cdf",
   "metadata": {
    "ExecuteTime": {
     "end_time": "2021-08-14T22:38:07.766246Z",
     "start_time": "2021-08-14T22:38:07.754809Z"
    },
    "scrolled": true
   },
   "outputs": [
    {
     "name": "stdout",
     "output_type": "stream",
     "text": [
      "I didn't know the rapper Drake, was Canadian, did you?\n",
      "\n",
      "Aubrey Drake Graham (born October 24, 1986), known mononymously as Drake, is a Canadian rapper, singer, songwriter, record producer, actor, and entrepreneur. Drake initially gained recognition as an actor on the teen drama television series Degrassi: The Next Generation in the early 2000s. Intent on pursuing a career as a rapper, he departed the series in 2007 following the release of his debut mixtape, Room for Improvement. He released two further independent projects, Comeback Season and So Far Gone, before signing to Lil Wayne's Young Money Entertainment in June 2009.Drake released his debut studio album Thank Me Later in 2010, which debuted at number one on the US Billboard 200 and was soon certified platinum. His next two releases, 2011's Take Care and 2013's Nothing Was the Same, were critically and commercially successful; the former earned him his first Grammy Award for Best Rap Album. In 2015, he released two mixtapes—the trap-influenced If You're Reading This It's Too Late and a collaboration with Future titled What a Time to Be Alive—both of which earned platinum certification in the U.S.His fourth album, Views (2016), broke several chart records. The dancehall-influenced album sat atop the Billboard 200 for 13 nonconsecutive weeks, becoming the first album by a male solo artist to do so in over 10 years. The album's second single, \"One Dance\", topped the charts in several countries, and became his first number-one single as a lead artist. That year, Drake led both the Billboard Hot 100 and the Billboard 200 charts simultaneously for eight weeks. Views achieved quadruple platinum status in the US, and earned over 1 million album-equivalent units in the first week of its release. Its lead single \"Hotline Bling\" received Grammy Awards for Best Rap/Sung Performance and Best Rap Song. In 2017, he released the mixtape More Life. Described by Drake as a \"playlist\", it became his seventh consecutive number one on the Billboard 200, and set multiple streaming records. A year later, he released the double album Scorpion, which also broke several streaming records, and housed the number-one singles \"God's Plan\", and the bounce-infused \"Nice for What\" and \"In My Feelings\".\n",
      "Similarity score: 0.739366888999939\n",
      "\n",
      "Yes it is Aubrey Drake Graham and he is a Canadian\n",
      "\n",
      "Aubrey Drake Graham (born October 24, 1986), known mononymously as Drake, is a Canadian rapper, singer, songwriter, record producer, actor, and entrepreneur. Drake initially gained recognition as an actor on the teen drama television series Degrassi: The Next Generation in the early 2000s. Intent on pursuing a career as a rapper, he departed the series in 2007 following the release of his debut mixtape, Room for Improvement. He released two further independent projects, Comeback Season and So Far Gone, before signing to Lil Wayne's Young Money Entertainment in June 2009.Drake released his debut studio album Thank Me Later in 2010, which debuted at number one on the US Billboard 200 and was soon certified platinum. His next two releases, 2011's Take Care and 2013's Nothing Was the Same, were critically and commercially successful; the former earned him his first Grammy Award for Best Rap Album. In 2015, he released two mixtapes—the trap-influenced If You're Reading This It's Too Late and a collaboration with Future titled What a Time to Be Alive—both of which earned platinum certification in the U.S.His fourth album, Views (2016), broke several chart records. The dancehall-influenced album sat atop the Billboard 200 for 13 nonconsecutive weeks, becoming the first album by a male solo artist to do so in over 10 years. The album's second single, \"One Dance\", topped the charts in several countries, and became his first number-one single as a lead artist. That year, Drake led both the Billboard Hot 100 and the Billboard 200 charts simultaneously for eight weeks. Views achieved quadruple platinum status in the US, and earned over 1 million album-equivalent units in the first week of its release. Its lead single \"Hotline Bling\" received Grammy Awards for Best Rap/Sung Performance and Best Rap Song. In 2017, he released the mixtape More Life. Described by Drake as a \"playlist\", it became his seventh consecutive number one on the Billboard 200, and set multiple streaming records. A year later, he released the double album Scorpion, which also broke several streaming records, and housed the number-one singles \"God's Plan\", and the bounce-infused \"Nice for What\" and \"In My Feelings\".\n",
      "Similarity score: 0.765516996383667\n",
      "\n",
      "Yes his name is Aubrey Drake Graham and he is Canadian\n",
      "\n",
      "Aubrey Drake Graham (born October 24, 1986), known mononymously as Drake, is a Canadian rapper, singer, songwriter, record producer, actor, and entrepreneur. Drake initially gained recognition as an actor on the teen drama television series Degrassi: The Next Generation in the early 2000s. Intent on pursuing a career as a rapper, he departed the series in 2007 following the release of his debut mixtape, Room for Improvement. He released two further independent projects, Comeback Season and So Far Gone, before signing to Lil Wayne's Young Money Entertainment in June 2009.Drake released his debut studio album Thank Me Later in 2010, which debuted at number one on the US Billboard 200 and was soon certified platinum. His next two releases, 2011's Take Care and 2013's Nothing Was the Same, were critically and commercially successful; the former earned him his first Grammy Award for Best Rap Album. In 2015, he released two mixtapes—the trap-influenced If You're Reading This It's Too Late and a collaboration with Future titled What a Time to Be Alive—both of which earned platinum certification in the U.S.His fourth album, Views (2016), broke several chart records. The dancehall-influenced album sat atop the Billboard 200 for 13 nonconsecutive weeks, becoming the first album by a male solo artist to do so in over 10 years. The album's second single, \"One Dance\", topped the charts in several countries, and became his first number-one single as a lead artist. That year, Drake led both the Billboard Hot 100 and the Billboard 200 charts simultaneously for eight weeks. Views achieved quadruple platinum status in the US, and earned over 1 million album-equivalent units in the first week of its release. Its lead single \"Hotline Bling\" received Grammy Awards for Best Rap/Sung Performance and Best Rap Song. In 2017, he released the mixtape More Life. Described by Drake as a \"playlist\", it became his seventh consecutive number one on the Billboard 200, and set multiple streaming records. A year later, he released the double album Scorpion, which also broke several streaming records, and housed the number-one singles \"God's Plan\", and the bounce-infused \"Nice for What\" and \"In My Feelings\".\n",
      "Similarity score: 0.7522457242012024\n",
      "\n",
      "Did you know that Drake is Canadian?\n",
      "\n",
      "Aubrey Drake Graham (born October 24, 1986), known mononymously as Drake, is a Canadian rapper, singer, songwriter, record producer, actor, and entrepreneur. Drake initially gained recognition as an actor on the teen drama television series Degrassi: The Next Generation in the early 2000s. Intent on pursuing a career as a rapper, he departed the series in 2007 following the release of his debut mixtape, Room for Improvement. He released two further independent projects, Comeback Season and So Far Gone, before signing to Lil Wayne's Young Money Entertainment in June 2009.Drake released his debut studio album Thank Me Later in 2010, which debuted at number one on the US Billboard 200 and was soon certified platinum. His next two releases, 2011's Take Care and 2013's Nothing Was the Same, were critically and commercially successful; the former earned him his first Grammy Award for Best Rap Album. In 2015, he released two mixtapes—the trap-influenced If You're Reading This It's Too Late and a collaboration with Future titled What a Time to Be Alive—both of which earned platinum certification in the U.S.His fourth album, Views (2016), broke several chart records. The dancehall-influenced album sat atop the Billboard 200 for 13 nonconsecutive weeks, becoming the first album by a male solo artist to do so in over 10 years. The album's second single, \"One Dance\", topped the charts in several countries, and became his first number-one single as a lead artist. That year, Drake led both the Billboard Hot 100 and the Billboard 200 charts simultaneously for eight weeks. Views achieved quadruple platinum status in the US, and earned over 1 million album-equivalent units in the first week of its release. Its lead single \"Hotline Bling\" received Grammy Awards for Best Rap/Sung Performance and Best Rap Song. In 2017, he released the mixtape More Life. Described by Drake as a \"playlist\", it became his seventh consecutive number one on the Billboard 200, and set multiple streaming records. A year later, he released the double album Scorpion, which also broke several streaming records, and housed the number-one singles \"God's Plan\", and the bounce-infused \"Nice for What\" and \"In My Feelings\".\n",
      "Similarity score: 0.7365537881851196\n",
      "\n",
      "Rapping (or rhyming, spitting, emceeing, MCing) is a musical form of vocal delivery that incorporates \"rhyme, rhythmic speech, and street vernacular\"\n",
      "\n",
      "Rapping (or rhyming, spitting, emceeing, MCing) is a musical form of vocal delivery that incorporates \"rhyme, rhythmic speech, and street vernacular\", which is performed or chanted in a variety of ways, usually over a backbeat or musical accompaniment.  The components of rap include \"content\" (what is being said), \"flow\" (rhythm, rhyme), and \"delivery\" (cadence, tone). Rap differs from spoken-word poetry in that rap is usually performed in time to an instrumental track. Rap is often associated with, and is a primary ingredient of hip-hop music, but the origins of the phenomenon predate hip-hop culture. The earliest precursor to the modern rap is the West African griot tradition, in which \"oral historians\", or \"praise-singers\", would disseminate oral traditions and genealogies, or use their formidable rhetorical techniques for gossip or to \"praise or critique individuals.\" Griot traditions connect to rap along a lineage of Black verbal reverence that goes back to ancient Egyptian practices, through James Brown interacting with the crowd and the band between songs, to Muhammad Ali's quick-witted verbal taunts and the palpitating poems of the Last Poets. Therefore, rap lyrics and music are part of the \"Black rhetorical continuum\", and aim to reuse elements of past traditions while expanding upon them through \"creative use of language and rhetorical styles and strategies. The person credited with originating the style of \"delivering rhymes over extensive music\", that would become known as rap, was Anthony \"DJ Hollywood\" Holloway from Harlem, New York.Rap is usually delivered over a beat, typically provided by a DJ, turntablist, Beatboxer, or performed A cappella without accompaniment. Stylistically, rap occupies a gray area between speech, prose, poetry, and singing. The word, which predates the musical form, originally meant \"to lightly strike\", and is now used to describe quick speech or repartee. The word had been used in British English since the 16th century. It was part of the African American dialect of English in the 1960s meaning \"to converse\", and very soon after that in its present usage as a term denoting the musical style. Today, the term rap is so closely associated with hip-hop music that many writers use the terms interchangeably.\n",
      "Similarity score: 0.8028717637062073\n",
      "\n",
      "lets talk about rapping next, there are three components to rap which are delivery, content, and flow.\n",
      "\n",
      "Rapping (or rhyming, spitting, emceeing, MCing) is a musical form of vocal delivery that incorporates \"rhyme, rhythmic speech, and street vernacular\", which is performed or chanted in a variety of ways, usually over a backbeat or musical accompaniment.  The components of rap include \"content\" (what is being said), \"flow\" (rhythm, rhyme), and \"delivery\" (cadence, tone). Rap differs from spoken-word poetry in that rap is usually performed in time to an instrumental track. Rap is often associated with, and is a primary ingredient of hip-hop music, but the origins of the phenomenon predate hip-hop culture. The earliest precursor to the modern rap is the West African griot tradition, in which \"oral historians\", or \"praise-singers\", would disseminate oral traditions and genealogies, or use their formidable rhetorical techniques for gossip or to \"praise or critique individuals.\" Griot traditions connect to rap along a lineage of Black verbal reverence that goes back to ancient Egyptian practices, through James Brown interacting with the crowd and the band between songs, to Muhammad Ali's quick-witted verbal taunts and the palpitating poems of the Last Poets. Therefore, rap lyrics and music are part of the \"Black rhetorical continuum\", and aim to reuse elements of past traditions while expanding upon them through \"creative use of language and rhetorical styles and strategies. The person credited with originating the style of \"delivering rhymes over extensive music\", that would become known as rap, was Anthony \"DJ Hollywood\" Holloway from Harlem, New York.Rap is usually delivered over a beat, typically provided by a DJ, turntablist, Beatboxer, or performed A cappella without accompaniment. Stylistically, rap occupies a gray area between speech, prose, poetry, and singing. The word, which predates the musical form, originally meant \"to lightly strike\", and is now used to describe quick speech or repartee. The word had been used in British English since the 16th century. It was part of the African American dialect of English in the 1960s meaning \"to converse\", and very soon after that in its present usage as a term denoting the musical style. Today, the term rap is so closely associated with hip-hop music that many writers use the terms interchangeably.\n",
      "Similarity score: 0.7221558094024658\n",
      "\n",
      "No, I can't say I'm a fan.  However, a lot of people seemed to enjoy Drake the rapper's role as an actor in Degrassi: The Next Generation.  He then began with a release of his debut mixtape Room for Improvement in 2007..\n",
      "\n",
      "Aubrey Drake Graham (born October 24, 1986), known mononymously as Drake, is a Canadian rapper, singer, songwriter, record producer, actor, and entrepreneur. Drake initially gained recognition as an actor on the teen drama television series Degrassi: The Next Generation in the early 2000s. Intent on pursuing a career as a rapper, he departed the series in 2007 following the release of his debut mixtape, Room for Improvement. He released two further independent projects, Comeback Season and So Far Gone, before signing to Lil Wayne's Young Money Entertainment in June 2009.Drake released his debut studio album Thank Me Later in 2010, which debuted at number one on the US Billboard 200 and was soon certified platinum. His next two releases, 2011's Take Care and 2013's Nothing Was the Same, were critically and commercially successful; the former earned him his first Grammy Award for Best Rap Album. In 2015, he released two mixtapes—the trap-influenced If You're Reading This It's Too Late and a collaboration with Future titled What a Time to Be Alive—both of which earned platinum certification in the U.S.His fourth album, Views (2016), broke several chart records. The dancehall-influenced album sat atop the Billboard 200 for 13 nonconsecutive weeks, becoming the first album by a male solo artist to do so in over 10 years. The album's second single, \"One Dance\", topped the charts in several countries, and became his first number-one single as a lead artist. That year, Drake led both the Billboard Hot 100 and the Billboard 200 charts simultaneously for eight weeks. Views achieved quadruple platinum status in the US, and earned over 1 million album-equivalent units in the first week of its release. Its lead single \"Hotline Bling\" received Grammy Awards for Best Rap/Sung Performance and Best Rap Song. In 2017, he released the mixtape More Life. Described by Drake as a \"playlist\", it became his seventh consecutive number one on the Billboard 200, and set multiple streaming records. A year later, he released the double album Scorpion, which also broke several streaming records, and housed the number-one singles \"God's Plan\", and the bounce-infused \"Nice for What\" and \"In My Feelings\".\n",
      "Similarity score: 0.7277296185493469\n",
      "\n",
      "I know.  I understand that rapping is a musical form of vocal delivery that includes rhyme, rhythmic speech and street vernacular.  I have never liked rap music.  How about you?\n",
      "\n",
      "Rapping (or rhyming, spitting, emceeing, MCing) is a musical form of vocal delivery that incorporates \"rhyme, rhythmic speech, and street vernacular\", which is performed or chanted in a variety of ways, usually over a backbeat or musical accompaniment.  The components of rap include \"content\" (what is being said), \"flow\" (rhythm, rhyme), and \"delivery\" (cadence, tone). Rap differs from spoken-word poetry in that rap is usually performed in time to an instrumental track. Rap is often associated with, and is a primary ingredient of hip-hop music, but the origins of the phenomenon predate hip-hop culture. The earliest precursor to the modern rap is the West African griot tradition, in which \"oral historians\", or \"praise-singers\", would disseminate oral traditions and genealogies, or use their formidable rhetorical techniques for gossip or to \"praise or critique individuals.\" Griot traditions connect to rap along a lineage of Black verbal reverence that goes back to ancient Egyptian practices, through James Brown interacting with the crowd and the band between songs, to Muhammad Ali's quick-witted verbal taunts and the palpitating poems of the Last Poets. Therefore, rap lyrics and music are part of the \"Black rhetorical continuum\", and aim to reuse elements of past traditions while expanding upon them through \"creative use of language and rhetorical styles and strategies. The person credited with originating the style of \"delivering rhymes over extensive music\", that would become known as rap, was Anthony \"DJ Hollywood\" Holloway from Harlem, New York.Rap is usually delivered over a beat, typically provided by a DJ, turntablist, Beatboxer, or performed A cappella without accompaniment. Stylistically, rap occupies a gray area between speech, prose, poetry, and singing. The word, which predates the musical form, originally meant \"to lightly strike\", and is now used to describe quick speech or repartee. The word had been used in British English since the 16th century. It was part of the African American dialect of English in the 1960s meaning \"to converse\", and very soon after that in its present usage as a term denoting the musical style. Today, the term rap is so closely associated with hip-hop music that many writers use the terms interchangeably.\n",
      "Similarity score: 0.7848258018493652\n",
      "\n",
      "Yes it is Aubrey Drake Graham.\n",
      "\n",
      "Aubrey Drake Graham (born October 24, 1986), known mononymously as Drake, is a Canadian rapper, singer, songwriter, record producer, actor, and entrepreneur. Drake initially gained recognition as an actor on the teen drama television series Degrassi: The Next Generation in the early 2000s. Intent on pursuing a career as a rapper, he departed the series in 2007 following the release of his debut mixtape, Room for Improvement. He released two further independent projects, Comeback Season and So Far Gone, before signing to Lil Wayne's Young Money Entertainment in June 2009.Drake released his debut studio album Thank Me Later in 2010, which debuted at number one on the US Billboard 200 and was soon certified platinum. His next two releases, 2011's Take Care and 2013's Nothing Was the Same, were critically and commercially successful; the former earned him his first Grammy Award for Best Rap Album. In 2015, he released two mixtapes—the trap-influenced If You're Reading This It's Too Late and a collaboration with Future titled What a Time to Be Alive—both of which earned platinum certification in the U.S.His fourth album, Views (2016), broke several chart records. The dancehall-influenced album sat atop the Billboard 200 for 13 nonconsecutive weeks, becoming the first album by a male solo artist to do so in over 10 years. The album's second single, \"One Dance\", topped the charts in several countries, and became his first number-one single as a lead artist. That year, Drake led both the Billboard Hot 100 and the Billboard 200 charts simultaneously for eight weeks. Views achieved quadruple platinum status in the US, and earned over 1 million album-equivalent units in the first week of its release. Its lead single \"Hotline Bling\" received Grammy Awards for Best Rap/Sung Performance and Best Rap Song. In 2017, he released the mixtape More Life. Described by Drake as a \"playlist\", it became his seventh consecutive number one on the Billboard 200, and set multiple streaming records. A year later, he released the double album Scorpion, which also broke several streaming records, and housed the number-one singles \"God's Plan\", and the bounce-infused \"Nice for What\" and \"In My Feelings\".\n",
      "Similarity score: 0.752435564994812\n",
      "\n",
      "Yeah I never knew that Drake's real name was Aubrey Drake Graham, at least Drake is in his actual name\n",
      "\n",
      "Aubrey Drake Graham (born October 24, 1986), known mononymously as Drake, is a Canadian rapper, singer, songwriter, record producer, actor, and entrepreneur. Drake initially gained recognition as an actor on the teen drama television series Degrassi: The Next Generation in the early 2000s. Intent on pursuing a career as a rapper, he departed the series in 2007 following the release of his debut mixtape, Room for Improvement. He released two further independent projects, Comeback Season and So Far Gone, before signing to Lil Wayne's Young Money Entertainment in June 2009.Drake released his debut studio album Thank Me Later in 2010, which debuted at number one on the US Billboard 200 and was soon certified platinum. His next two releases, 2011's Take Care and 2013's Nothing Was the Same, were critically and commercially successful; the former earned him his first Grammy Award for Best Rap Album. In 2015, he released two mixtapes—the trap-influenced If You're Reading This It's Too Late and a collaboration with Future titled What a Time to Be Alive—both of which earned platinum certification in the U.S.His fourth album, Views (2016), broke several chart records. The dancehall-influenced album sat atop the Billboard 200 for 13 nonconsecutive weeks, becoming the first album by a male solo artist to do so in over 10 years. The album's second single, \"One Dance\", topped the charts in several countries, and became his first number-one single as a lead artist. That year, Drake led both the Billboard Hot 100 and the Billboard 200 charts simultaneously for eight weeks. Views achieved quadruple platinum status in the US, and earned over 1 million album-equivalent units in the first week of its release. Its lead single \"Hotline Bling\" received Grammy Awards for Best Rap/Sung Performance and Best Rap Song. In 2017, he released the mixtape More Life. Described by Drake as a \"playlist\", it became his seventh consecutive number one on the Billboard 200, and set multiple streaming records. A year later, he released the double album Scorpion, which also broke several streaming records, and housed the number-one singles \"God's Plan\", and the bounce-infused \"Nice for What\" and \"In My Feelings\".\n",
      "Similarity score: 0.7358019351959229\n",
      "\n",
      "Yes it is Aubrey Drake Graham\n",
      "\n",
      "Aubrey Drake Graham (born October 24, 1986), known mononymously as Drake, is a Canadian rapper, singer, songwriter, record producer, actor, and entrepreneur. Drake initially gained recognition as an actor on the teen drama television series Degrassi: The Next Generation in the early 2000s. Intent on pursuing a career as a rapper, he departed the series in 2007 following the release of his debut mixtape, Room for Improvement. He released two further independent projects, Comeback Season and So Far Gone, before signing to Lil Wayne's Young Money Entertainment in June 2009.Drake released his debut studio album Thank Me Later in 2010, which debuted at number one on the US Billboard 200 and was soon certified platinum. His next two releases, 2011's Take Care and 2013's Nothing Was the Same, were critically and commercially successful; the former earned him his first Grammy Award for Best Rap Album. In 2015, he released two mixtapes—the trap-influenced If You're Reading This It's Too Late and a collaboration with Future titled What a Time to Be Alive—both of which earned platinum certification in the U.S.His fourth album, Views (2016), broke several chart records. The dancehall-influenced album sat atop the Billboard 200 for 13 nonconsecutive weeks, becoming the first album by a male solo artist to do so in over 10 years. The album's second single, \"One Dance\", topped the charts in several countries, and became his first number-one single as a lead artist. That year, Drake led both the Billboard Hot 100 and the Billboard 200 charts simultaneously for eight weeks. Views achieved quadruple platinum status in the US, and earned over 1 million album-equivalent units in the first week of its release. Its lead single \"Hotline Bling\" received Grammy Awards for Best Rap/Sung Performance and Best Rap Song. In 2017, he released the mixtape More Life. Described by Drake as a \"playlist\", it became his seventh consecutive number one on the Billboard 200, and set multiple streaming records. A year later, he released the double album Scorpion, which also broke several streaming records, and housed the number-one singles \"God's Plan\", and the bounce-infused \"Nice for What\" and \"In My Feelings\".\n",
      "Similarity score: 0.752435564994812\n",
      "\n",
      "I have been listening to rapping lately as it is a form of music that focuses on vocal delivery and rhythmic speech\n",
      "\n",
      "Rapping (or rhyming, spitting, emceeing, MCing) is a musical form of vocal delivery that incorporates \"rhyme, rhythmic speech, and street vernacular\", which is performed or chanted in a variety of ways, usually over a backbeat or musical accompaniment.  The components of rap include \"content\" (what is being said), \"flow\" (rhythm, rhyme), and \"delivery\" (cadence, tone). Rap differs from spoken-word poetry in that rap is usually performed in time to an instrumental track. Rap is often associated with, and is a primary ingredient of hip-hop music, but the origins of the phenomenon predate hip-hop culture. The earliest precursor to the modern rap is the West African griot tradition, in which \"oral historians\", or \"praise-singers\", would disseminate oral traditions and genealogies, or use their formidable rhetorical techniques for gossip or to \"praise or critique individuals.\" Griot traditions connect to rap along a lineage of Black verbal reverence that goes back to ancient Egyptian practices, through James Brown interacting with the crowd and the band between songs, to Muhammad Ali's quick-witted verbal taunts and the palpitating poems of the Last Poets. Therefore, rap lyrics and music are part of the \"Black rhetorical continuum\", and aim to reuse elements of past traditions while expanding upon them through \"creative use of language and rhetorical styles and strategies. The person credited with originating the style of \"delivering rhymes over extensive music\", that would become known as rap, was Anthony \"DJ Hollywood\" Holloway from Harlem, New York.Rap is usually delivered over a beat, typically provided by a DJ, turntablist, Beatboxer, or performed A cappella without accompaniment. Stylistically, rap occupies a gray area between speech, prose, poetry, and singing. The word, which predates the musical form, originally meant \"to lightly strike\", and is now used to describe quick speech or repartee. The word had been used in British English since the 16th century. It was part of the African American dialect of English in the 1960s meaning \"to converse\", and very soon after that in its present usage as a term denoting the musical style. Today, the term rap is so closely associated with hip-hop music that many writers use the terms interchangeably.\n",
      "Similarity score: 0.7508447170257568\n",
      "\n",
      "sure is. And it is very interesting how the term rap is so closely associated with hip-hop music that many writers use the terms interchangeably.\n",
      "\n",
      "Rapping (or rhyming, spitting, emceeing, MCing) is a musical form of vocal delivery that incorporates \"rhyme, rhythmic speech, and street vernacular\", which is performed or chanted in a variety of ways, usually over a backbeat or musical accompaniment.  The components of rap include \"content\" (what is being said), \"flow\" (rhythm, rhyme), and \"delivery\" (cadence, tone). Rap differs from spoken-word poetry in that rap is usually performed in time to an instrumental track. Rap is often associated with, and is a primary ingredient of hip-hop music, but the origins of the phenomenon predate hip-hop culture. The earliest precursor to the modern rap is the West African griot tradition, in which \"oral historians\", or \"praise-singers\", would disseminate oral traditions and genealogies, or use their formidable rhetorical techniques for gossip or to \"praise or critique individuals.\" Griot traditions connect to rap along a lineage of Black verbal reverence that goes back to ancient Egyptian practices, through James Brown interacting with the crowd and the band between songs, to Muhammad Ali's quick-witted verbal taunts and the palpitating poems of the Last Poets. Therefore, rap lyrics and music are part of the \"Black rhetorical continuum\", and aim to reuse elements of past traditions while expanding upon them through \"creative use of language and rhetorical styles and strategies. The person credited with originating the style of \"delivering rhymes over extensive music\", that would become known as rap, was Anthony \"DJ Hollywood\" Holloway from Harlem, New York.Rap is usually delivered over a beat, typically provided by a DJ, turntablist, Beatboxer, or performed A cappella without accompaniment. Stylistically, rap occupies a gray area between speech, prose, poetry, and singing. The word, which predates the musical form, originally meant \"to lightly strike\", and is now used to describe quick speech or repartee. The word had been used in British English since the 16th century. It was part of the African American dialect of English in the 1960s meaning \"to converse\", and very soon after that in its present usage as a term denoting the musical style. Today, the term rap is so closely associated with hip-hop music that many writers use the terms interchangeably.\n",
      "Similarity score: 0.7564845085144043\n",
      "\n",
      "I didn't know that either. I was thinking about rapping, and something most people don't realize is how poetic rap is. It uses rhyme and rhythmic speech, and tone of delivery is very important for it to sound good. \n",
      "\n",
      "Rapping (or rhyming, spitting, emceeing, MCing) is a musical form of vocal delivery that incorporates \"rhyme, rhythmic speech, and street vernacular\", which is performed or chanted in a variety of ways, usually over a backbeat or musical accompaniment.  The components of rap include \"content\" (what is being said), \"flow\" (rhythm, rhyme), and \"delivery\" (cadence, tone). Rap differs from spoken-word poetry in that rap is usually performed in time to an instrumental track. Rap is often associated with, and is a primary ingredient of hip-hop music, but the origins of the phenomenon predate hip-hop culture. The earliest precursor to the modern rap is the West African griot tradition, in which \"oral historians\", or \"praise-singers\", would disseminate oral traditions and genealogies, or use their formidable rhetorical techniques for gossip or to \"praise or critique individuals.\" Griot traditions connect to rap along a lineage of Black verbal reverence that goes back to ancient Egyptian practices, through James Brown interacting with the crowd and the band between songs, to Muhammad Ali's quick-witted verbal taunts and the palpitating poems of the Last Poets. Therefore, rap lyrics and music are part of the \"Black rhetorical continuum\", and aim to reuse elements of past traditions while expanding upon them through \"creative use of language and rhetorical styles and strategies. The person credited with originating the style of \"delivering rhymes over extensive music\", that would become known as rap, was Anthony \"DJ Hollywood\" Holloway from Harlem, New York.Rap is usually delivered over a beat, typically provided by a DJ, turntablist, Beatboxer, or performed A cappella without accompaniment. Stylistically, rap occupies a gray area between speech, prose, poetry, and singing. The word, which predates the musical form, originally meant \"to lightly strike\", and is now used to describe quick speech or repartee. The word had been used in British English since the 16th century. It was part of the African American dialect of English in the 1960s meaning \"to converse\", and very soon after that in its present usage as a term denoting the musical style. Today, the term rap is so closely associated with hip-hop music that many writers use the terms interchangeably.\n",
      "Similarity score: 0.7772905826568604\n",
      "\n",
      "The word rap means \"to lightly strike\" and is used to describe quick speech. That makes sense because rapping sounds like the rapper is lightly striking rythmically along with the music.\n",
      "\n",
      "Rapping (or rhyming, spitting, emceeing, MCing) is a musical form of vocal delivery that incorporates \"rhyme, rhythmic speech, and street vernacular\", which is performed or chanted in a variety of ways, usually over a backbeat or musical accompaniment.  The components of rap include \"content\" (what is being said), \"flow\" (rhythm, rhyme), and \"delivery\" (cadence, tone). Rap differs from spoken-word poetry in that rap is usually performed in time to an instrumental track. Rap is often associated with, and is a primary ingredient of hip-hop music, but the origins of the phenomenon predate hip-hop culture. The earliest precursor to the modern rap is the West African griot tradition, in which \"oral historians\", or \"praise-singers\", would disseminate oral traditions and genealogies, or use their formidable rhetorical techniques for gossip or to \"praise or critique individuals.\" Griot traditions connect to rap along a lineage of Black verbal reverence that goes back to ancient Egyptian practices, through James Brown interacting with the crowd and the band between songs, to Muhammad Ali's quick-witted verbal taunts and the palpitating poems of the Last Poets. Therefore, rap lyrics and music are part of the \"Black rhetorical continuum\", and aim to reuse elements of past traditions while expanding upon them through \"creative use of language and rhetorical styles and strategies. The person credited with originating the style of \"delivering rhymes over extensive music\", that would become known as rap, was Anthony \"DJ Hollywood\" Holloway from Harlem, New York.Rap is usually delivered over a beat, typically provided by a DJ, turntablist, Beatboxer, or performed A cappella without accompaniment. Stylistically, rap occupies a gray area between speech, prose, poetry, and singing. The word, which predates the musical form, originally meant \"to lightly strike\", and is now used to describe quick speech or repartee. The word had been used in British English since the 16th century. It was part of the African American dialect of English in the 1960s meaning \"to converse\", and very soon after that in its present usage as a term denoting the musical style. Today, the term rap is so closely associated with hip-hop music that many writers use the terms interchangeably.\n",
      "Similarity score: 0.7150444388389587\n",
      "\n",
      "I enjoy rapping as a whole since incorporate rhyme, rhythmic speech, and street vernacular, focusing on content, flow, and delivery.\n",
      "\n",
      "Rapping (or rhyming, spitting, emceeing, MCing) is a musical form of vocal delivery that incorporates \"rhyme, rhythmic speech, and street vernacular\", which is performed or chanted in a variety of ways, usually over a backbeat or musical accompaniment.  The components of rap include \"content\" (what is being said), \"flow\" (rhythm, rhyme), and \"delivery\" (cadence, tone). Rap differs from spoken-word poetry in that rap is usually performed in time to an instrumental track. Rap is often associated with, and is a primary ingredient of hip-hop music, but the origins of the phenomenon predate hip-hop culture. The earliest precursor to the modern rap is the West African griot tradition, in which \"oral historians\", or \"praise-singers\", would disseminate oral traditions and genealogies, or use their formidable rhetorical techniques for gossip or to \"praise or critique individuals.\" Griot traditions connect to rap along a lineage of Black verbal reverence that goes back to ancient Egyptian practices, through James Brown interacting with the crowd and the band between songs, to Muhammad Ali's quick-witted verbal taunts and the palpitating poems of the Last Poets. Therefore, rap lyrics and music are part of the \"Black rhetorical continuum\", and aim to reuse elements of past traditions while expanding upon them through \"creative use of language and rhetorical styles and strategies. The person credited with originating the style of \"delivering rhymes over extensive music\", that would become known as rap, was Anthony \"DJ Hollywood\" Holloway from Harlem, New York.Rap is usually delivered over a beat, typically provided by a DJ, turntablist, Beatboxer, or performed A cappella without accompaniment. Stylistically, rap occupies a gray area between speech, prose, poetry, and singing. The word, which predates the musical form, originally meant \"to lightly strike\", and is now used to describe quick speech or repartee. The word had been used in British English since the 16th century. It was part of the African American dialect of English in the 1960s meaning \"to converse\", and very soon after that in its present usage as a term denoting the musical style. Today, the term rap is so closely associated with hip-hop music that many writers use the terms interchangeably.\n",
      "Similarity score: 0.7262829542160034\n",
      "\n",
      "Rapping is an interesting music form, what do you think?\n",
      "\n",
      "Rapping (or rhyming, spitting, emceeing, MCing) is a musical form of vocal delivery that incorporates \"rhyme, rhythmic speech, and street vernacular\", which is performed or chanted in a variety of ways, usually over a backbeat or musical accompaniment.  The components of rap include \"content\" (what is being said), \"flow\" (rhythm, rhyme), and \"delivery\" (cadence, tone). Rap differs from spoken-word poetry in that rap is usually performed in time to an instrumental track. Rap is often associated with, and is a primary ingredient of hip-hop music, but the origins of the phenomenon predate hip-hop culture. The earliest precursor to the modern rap is the West African griot tradition, in which \"oral historians\", or \"praise-singers\", would disseminate oral traditions and genealogies, or use their formidable rhetorical techniques for gossip or to \"praise or critique individuals.\" Griot traditions connect to rap along a lineage of Black verbal reverence that goes back to ancient Egyptian practices, through James Brown interacting with the crowd and the band between songs, to Muhammad Ali's quick-witted verbal taunts and the palpitating poems of the Last Poets. Therefore, rap lyrics and music are part of the \"Black rhetorical continuum\", and aim to reuse elements of past traditions while expanding upon them through \"creative use of language and rhetorical styles and strategies. The person credited with originating the style of \"delivering rhymes over extensive music\", that would become known as rap, was Anthony \"DJ Hollywood\" Holloway from Harlem, New York.Rap is usually delivered over a beat, typically provided by a DJ, turntablist, Beatboxer, or performed A cappella without accompaniment. Stylistically, rap occupies a gray area between speech, prose, poetry, and singing. The word, which predates the musical form, originally meant \"to lightly strike\", and is now used to describe quick speech or repartee. The word had been used in British English since the 16th century. It was part of the African American dialect of English in the 1960s meaning \"to converse\", and very soon after that in its present usage as a term denoting the musical style. Today, the term rap is so closely associated with hip-hop music that many writers use the terms interchangeably.\n",
      "Similarity score: 0.7299354076385498\n",
      "\n",
      "oh haha yes!!! it would be perfect because .Rap differs from spoken-word poetry in that rap is usually performed in time to an instrumental track.  \n",
      "\n",
      "Rapping (or rhyming, spitting, emceeing, MCing) is a musical form of vocal delivery that incorporates \"rhyme, rhythmic speech, and street vernacular\", which is performed or chanted in a variety of ways, usually over a backbeat or musical accompaniment.  The components of rap include \"content\" (what is being said), \"flow\" (rhythm, rhyme), and \"delivery\" (cadence, tone). Rap differs from spoken-word poetry in that rap is usually performed in time to an instrumental track. Rap is often associated with, and is a primary ingredient of hip-hop music, but the origins of the phenomenon predate hip-hop culture. The earliest precursor to the modern rap is the West African griot tradition, in which \"oral historians\", or \"praise-singers\", would disseminate oral traditions and genealogies, or use their formidable rhetorical techniques for gossip or to \"praise or critique individuals.\" Griot traditions connect to rap along a lineage of Black verbal reverence that goes back to ancient Egyptian practices, through James Brown interacting with the crowd and the band between songs, to Muhammad Ali's quick-witted verbal taunts and the palpitating poems of the Last Poets. Therefore, rap lyrics and music are part of the \"Black rhetorical continuum\", and aim to reuse elements of past traditions while expanding upon them through \"creative use of language and rhetorical styles and strategies. The person credited with originating the style of \"delivering rhymes over extensive music\", that would become known as rap, was Anthony \"DJ Hollywood\" Holloway from Harlem, New York.Rap is usually delivered over a beat, typically provided by a DJ, turntablist, Beatboxer, or performed A cappella without accompaniment. Stylistically, rap occupies a gray area between speech, prose, poetry, and singing. The word, which predates the musical form, originally meant \"to lightly strike\", and is now used to describe quick speech or repartee. The word had been used in British English since the 16th century. It was part of the African American dialect of English in the 1960s meaning \"to converse\", and very soon after that in its present usage as a term denoting the musical style. Today, the term rap is so closely associated with hip-hop music that many writers use the terms interchangeably.\n",
      "Similarity score: 0.7009875774383545\n",
      "\n",
      "Yes it is Aubrey Drake Graham and he is Canadian\n",
      "\n",
      "Aubrey Drake Graham (born October 24, 1986), known mononymously as Drake, is a Canadian rapper, singer, songwriter, record producer, actor, and entrepreneur. Drake initially gained recognition as an actor on the teen drama television series Degrassi: The Next Generation in the early 2000s. Intent on pursuing a career as a rapper, he departed the series in 2007 following the release of his debut mixtape, Room for Improvement. He released two further independent projects, Comeback Season and So Far Gone, before signing to Lil Wayne's Young Money Entertainment in June 2009.Drake released his debut studio album Thank Me Later in 2010, which debuted at number one on the US Billboard 200 and was soon certified platinum. His next two releases, 2011's Take Care and 2013's Nothing Was the Same, were critically and commercially successful; the former earned him his first Grammy Award for Best Rap Album. In 2015, he released two mixtapes—the trap-influenced If You're Reading This It's Too Late and a collaboration with Future titled What a Time to Be Alive—both of which earned platinum certification in the U.S.His fourth album, Views (2016), broke several chart records. The dancehall-influenced album sat atop the Billboard 200 for 13 nonconsecutive weeks, becoming the first album by a male solo artist to do so in over 10 years. The album's second single, \"One Dance\", topped the charts in several countries, and became his first number-one single as a lead artist. That year, Drake led both the Billboard Hot 100 and the Billboard 200 charts simultaneously for eight weeks. Views achieved quadruple platinum status in the US, and earned over 1 million album-equivalent units in the first week of its release. Its lead single \"Hotline Bling\" received Grammy Awards for Best Rap/Sung Performance and Best Rap Song. In 2017, he released the mixtape More Life. Described by Drake as a \"playlist\", it became his seventh consecutive number one on the Billboard 200, and set multiple streaming records. A year later, he released the double album Scorpion, which also broke several streaming records, and housed the number-one singles \"God's Plan\", and the bounce-infused \"Nice for What\" and \"In My Feelings\".\n",
      "Similarity score: 0.7553399801254272\n",
      "\n",
      "Have you heard about Beer Day, celebrated in Britain?\n",
      "\n",
      "ST. ALBANS, England - Cheers, it's \"Beer Day Britain!\" Not that anyone here really needs a marketing ploy as an excuse, mind you. It could be National Jellied Eels Day, and the pubs would be packed in Britain on a sunny Friday afternoon in June. This ancient Cathedral city, about an hour's drive north of London, harbors the oldest continuous site of Christian worship in Britain - and boasts more pubs per capita than any town in England, and that's saying something. But these are anxious days for the British pub and its fans. The number of pubs has been in decline for years, as the traditional taverns fall victim to myriad forces, from corporatized \"global beer\" conglomeration to steep business tax rates to the more moderate drinking habits of Generation X - versus their thirsty coal-mining, steel-smelting, shipbuilding forebears. About 18 pubs close every week in Britain, reports Katie Wiles of the Campaign for Real Ale, which champions traditional beers and pubs. The group commissioned a 2016 study by the University of Oxford's department of experimental psychology that found Brits who have a \"local,\" a neighborhood pub they frequent enough to get a nod when they walk through the door, are \"happier,\" more \"connected\" and \"more trusting of others\" (especially after they've had a pint or two; it's in the study). There are about 25,000 fewer pubs in Britain now than there were in the 1970s. But there's still 50,000 of them left. \"A pub closing is big drama for the people involved, no doubt, but this is Britain, and there will always be thousands and thousands of pubs,\" said Fiona Stapley, editor of the \"Good Pub Guide ,\" which reviews 5,000 drinking establishments each year. \"You could say that before, there were probably too many pubs,\" Stapley added. \"And many were not run as well as they could have been.\" There's other goodish news, too, for beer people. There are more breweries operating in Britain today - about 2,000 - than in any time since the 1930s. There's a revival in \"real ales\" fermented in casks and pumped by hand into a pint glass.\n",
      "Similarity score: 0.7014943361282349\n",
      "\n",
      "Yes his full name is Aubrey Drake Graham but known as Drake only\n",
      "\n",
      "Aubrey Drake Graham (born October 24, 1986), known mononymously as Drake, is a Canadian rapper, singer, songwriter, record producer, actor, and entrepreneur. Drake initially gained recognition as an actor on the teen drama television series Degrassi: The Next Generation in the early 2000s. Intent on pursuing a career as a rapper, he departed the series in 2007 following the release of his debut mixtape, Room for Improvement. He released two further independent projects, Comeback Season and So Far Gone, before signing to Lil Wayne's Young Money Entertainment in June 2009.Drake released his debut studio album Thank Me Later in 2010, which debuted at number one on the US Billboard 200 and was soon certified platinum. His next two releases, 2011's Take Care and 2013's Nothing Was the Same, were critically and commercially successful; the former earned him his first Grammy Award for Best Rap Album. In 2015, he released two mixtapes—the trap-influenced If You're Reading This It's Too Late and a collaboration with Future titled What a Time to Be Alive—both of which earned platinum certification in the U.S.His fourth album, Views (2016), broke several chart records. The dancehall-influenced album sat atop the Billboard 200 for 13 nonconsecutive weeks, becoming the first album by a male solo artist to do so in over 10 years. The album's second single, \"One Dance\", topped the charts in several countries, and became his first number-one single as a lead artist. That year, Drake led both the Billboard Hot 100 and the Billboard 200 charts simultaneously for eight weeks. Views achieved quadruple platinum status in the US, and earned over 1 million album-equivalent units in the first week of its release. Its lead single \"Hotline Bling\" received Grammy Awards for Best Rap/Sung Performance and Best Rap Song. In 2017, he released the mixtape More Life. Described by Drake as a \"playlist\", it became his seventh consecutive number one on the Billboard 200, and set multiple streaming records. A year later, he released the double album Scorpion, which also broke several streaming records, and housed the number-one singles \"God's Plan\", and the bounce-infused \"Nice for What\" and \"In My Feelings\".\n",
      "Similarity score: 0.7811300754547119\n",
      "\n",
      "Yes, agree. Hey, do you like rapping? Today, the term rap is so closely associated with hip hop music, that many writer use the term interchangeably. \n",
      "\n",
      "Rapping (or rhyming, spitting, emceeing, MCing) is a musical form of vocal delivery that incorporates \"rhyme, rhythmic speech, and street vernacular\", which is performed or chanted in a variety of ways, usually over a backbeat or musical accompaniment.  The components of rap include \"content\" (what is being said), \"flow\" (rhythm, rhyme), and \"delivery\" (cadence, tone). Rap differs from spoken-word poetry in that rap is usually performed in time to an instrumental track. Rap is often associated with, and is a primary ingredient of hip-hop music, but the origins of the phenomenon predate hip-hop culture. The earliest precursor to the modern rap is the West African griot tradition, in which \"oral historians\", or \"praise-singers\", would disseminate oral traditions and genealogies, or use their formidable rhetorical techniques for gossip or to \"praise or critique individuals.\" Griot traditions connect to rap along a lineage of Black verbal reverence that goes back to ancient Egyptian practices, through James Brown interacting with the crowd and the band between songs, to Muhammad Ali's quick-witted verbal taunts and the palpitating poems of the Last Poets. Therefore, rap lyrics and music are part of the \"Black rhetorical continuum\", and aim to reuse elements of past traditions while expanding upon them through \"creative use of language and rhetorical styles and strategies. The person credited with originating the style of \"delivering rhymes over extensive music\", that would become known as rap, was Anthony \"DJ Hollywood\" Holloway from Harlem, New York.Rap is usually delivered over a beat, typically provided by a DJ, turntablist, Beatboxer, or performed A cappella without accompaniment. Stylistically, rap occupies a gray area between speech, prose, poetry, and singing. The word, which predates the musical form, originally meant \"to lightly strike\", and is now used to describe quick speech or repartee. The word had been used in British English since the 16th century. It was part of the African American dialect of English in the 1960s meaning \"to converse\", and very soon after that in its present usage as a term denoting the musical style. Today, the term rap is so closely associated with hip-hop music that many writers use the terms interchangeably.\n",
      "Similarity score: 0.758747935295105\n",
      "\n",
      "Drake was interesting in that he was also an actor on teen drama show Degrassi.  Probably popularized rap more.\n",
      "\n",
      "Aubrey Drake Graham (born October 24, 1986), known mononymously as Drake, is a Canadian rapper, singer, songwriter, record producer, actor, and entrepreneur. Drake initially gained recognition as an actor on the teen drama television series Degrassi: The Next Generation in the early 2000s. Intent on pursuing a career as a rapper, he departed the series in 2007 following the release of his debut mixtape, Room for Improvement. He released two further independent projects, Comeback Season and So Far Gone, before signing to Lil Wayne's Young Money Entertainment in June 2009.Drake released his debut studio album Thank Me Later in 2010, which debuted at number one on the US Billboard 200 and was soon certified platinum. His next two releases, 2011's Take Care and 2013's Nothing Was the Same, were critically and commercially successful; the former earned him his first Grammy Award for Best Rap Album. In 2015, he released two mixtapes—the trap-influenced If You're Reading This It's Too Late and a collaboration with Future titled What a Time to Be Alive—both of which earned platinum certification in the U.S.His fourth album, Views (2016), broke several chart records. The dancehall-influenced album sat atop the Billboard 200 for 13 nonconsecutive weeks, becoming the first album by a male solo artist to do so in over 10 years. The album's second single, \"One Dance\", topped the charts in several countries, and became his first number-one single as a lead artist. That year, Drake led both the Billboard Hot 100 and the Billboard 200 charts simultaneously for eight weeks. Views achieved quadruple platinum status in the US, and earned over 1 million album-equivalent units in the first week of its release. Its lead single \"Hotline Bling\" received Grammy Awards for Best Rap/Sung Performance and Best Rap Song. In 2017, he released the mixtape More Life. Described by Drake as a \"playlist\", it became his seventh consecutive number one on the Billboard 200, and set multiple streaming records. A year later, he released the double album Scorpion, which also broke several streaming records, and housed the number-one singles \"God's Plan\", and the bounce-infused \"Nice for What\" and \"In My Feelings\".\n",
      "Similarity score: 0.7160837650299072\n",
      "\n",
      "I agree with you maybe with Michael Jordan but I do think LeBron is better, do you think he will be around untill his oldest son is able to play in the NBA?\n",
      "\n",
      "LeBron James poses with his son LeBron James Jr., left, daughter Zhuri James and Bryce Maximus James at the 2018 NBA All-Star Game. (Jayne Kamin-Oncea/Getty Images) LeBron James has said that he wants to stick around the NBA long enough to play with his oldest son - or perhaps simply own an NBA team and sign his kid to play for it - and the youngster is doing his best to hold up his end of the bargain. LeBron James Jr. hasn't even played eighth-grade basketball yet, but he's already a phenom with highlight videos and overflow - and occasionally out-of-control - crowds to his AAU games. Of course, the basketball ability of James Jr., nicknamed \"Bronny,\" isn't the only thing driving all the interest in him, and his superstar father recently addressed the pressure his son might be feeling to live up to his name. In a recent video, James said that he regretted giving his name to his son, but he explained that it stemmed from his own experience of growing up without a father. James made his comments in a clip released Thursday from \"The Shop,\" a show he is producing for HBO that features \"spirited, free-flowing discussions,\" in a barbershop setting. In the clip, former \"Daily Show\" host Jon Stewart asks James, \"What do you say to our kids, though, living up to you being their dad, and they're playing the same sport that you've played better than anyone else in the world has ever played it. How do you give them a peace of mind that they don't have to be you?\" \"I still regret giving my 14-year-old my name because of that,\" James replies, while holding court in a room with, among others, Snoop Dogg, Draymond Green, Candace Parker, Odell Beckham Jr. and Michael Bennett. \"When I was younger, I didn't have a dad,\" he continues. \"So my whole thing was like, 'Whenever I have a kid, not only is he going to be a Jr., I'm going to do everything that this man didn't do.'\n",
      "Similarity score: 0.7279913425445557\n",
      "\n",
      "Yeah he was right next to Kim Yo Jong the sister of Kim Jong Un and other important figures of North Korea\n",
      "\n",
      "Kim Jong-un (officially transcribed Kim Jong Un; Chosŏn'gŭl: 김정은; Korean pronunciation: [kim.dzɔŋ.ɯn]; born 8 January 1983) is a North Korean politician serving as Supreme Leader of North Korea since 2011 and Leader of the Workers' Party of Korea since 2012. Kim is the second child of Kim Jong-il (1941–2011) and Ko Yong-hui (1952–2004). The grandson of Kim Il-sung, the first leader of North Korea from 1948 to 1994, he is the first North Korean leader to have been born after the country's founding.From late 2010, Kim Jong-un was viewed as heir apparent to the leadership of the DPRK, and following the elder Kim's death, he was announced as the \"Great Successor\" by North Korean state television. Kim holds the titles of Chairman of the Workers' Party of Korea (as First Secretary between 2012 and 2016), Chairman of the Central Military Commission, Chairman of the State Affairs Commission, Supreme Commander of the Korean People's Army, and member of the Presidium of the Politburo of the Workers' Party of Korea, the highest decision-making body in North Korea. Kim was promoted to the rank of Marshal of North Korea in the Korean People's Army on 18 July 2012, consolidating his position as the Supreme Commander of the Armed Forces and is often referred to as Marshal Kim Jong-un or \"the Marshal\" by state media. Kim obtained two degrees, one in physics at Kim Il-sung University, and another as an Army officer at the Kim Il-sung Military University.Forbes magazine ranked Kim the 46th most powerful person in the world in 2013 and the third highest amongst Koreans after Ban Ki-moon and Lee Kun-hee. On 12 December 2013, North Korean news outlets reported that Kim Jong-un had ordered the execution of his uncle Jang Song-thaek due to \"treachery\". On 9 March 2014, Kim was elected unopposed to the Supreme People's Assembly. He is widely believed to have ordered the assassination of his half-brother, Kim Jong-nam, in Malaysia in February 2017.Despite tense relations, North Korea agreed to participate in the 2018 Winter Olympics in Pyeongchang. Following the Olympics, Kim Jong-un and President Moon Jae-in conducted the April 2018 inter-Korean summit. It was the first time since the end of the Korean War in 1953 that a North Korean leader entered the South's territory. On 12 June 2018, Kim Jong-un and US President Donald Trump met for the 2018 North Korea–United States summit in Singapore, the first-ever talks held between a North Korean leader and a sitting US President, to discuss the North Korean nuclear program.\n",
      "Similarity score: 0.7496156096458435\n",
      "\n",
      "hello,  do you know much about Kim Jong Un,  the supreme leader of North Korea?\n",
      "\n",
      "Kim Jong-un (officially transcribed Kim Jong Un; Chosŏn'gŭl: 김정은; Korean pronunciation: [kim.dzɔŋ.ɯn]; born 8 January 1983) is a North Korean politician serving as Supreme Leader of North Korea since 2011 and Leader of the Workers' Party of Korea since 2012. Kim is the second child of Kim Jong-il (1941–2011) and Ko Yong-hui (1952–2004). The grandson of Kim Il-sung, the first leader of North Korea from 1948 to 1994, he is the first North Korean leader to have been born after the country's founding.From late 2010, Kim Jong-un was viewed as heir apparent to the leadership of the DPRK, and following the elder Kim's death, he was announced as the \"Great Successor\" by North Korean state television. Kim holds the titles of Chairman of the Workers' Party of Korea (as First Secretary between 2012 and 2016), Chairman of the Central Military Commission, Chairman of the State Affairs Commission, Supreme Commander of the Korean People's Army, and member of the Presidium of the Politburo of the Workers' Party of Korea, the highest decision-making body in North Korea. Kim was promoted to the rank of Marshal of North Korea in the Korean People's Army on 18 July 2012, consolidating his position as the Supreme Commander of the Armed Forces and is often referred to as Marshal Kim Jong-un or \"the Marshal\" by state media. Kim obtained two degrees, one in physics at Kim Il-sung University, and another as an Army officer at the Kim Il-sung Military University.Forbes magazine ranked Kim the 46th most powerful person in the world in 2013 and the third highest amongst Koreans after Ban Ki-moon and Lee Kun-hee. On 12 December 2013, North Korean news outlets reported that Kim Jong-un had ordered the execution of his uncle Jang Song-thaek due to \"treachery\". On 9 March 2014, Kim was elected unopposed to the Supreme People's Assembly. He is widely believed to have ordered the assassination of his half-brother, Kim Jong-nam, in Malaysia in February 2017.Despite tense relations, North Korea agreed to participate in the 2018 Winter Olympics in Pyeongchang. Following the Olympics, Kim Jong-un and President Moon Jae-in conducted the April 2018 inter-Korean summit. It was the first time since the end of the Korean War in 1953 that a North Korean leader entered the South's territory. On 12 June 2018, Kim Jong-un and US President Donald Trump met for the 2018 North Korea–United States summit in Singapore, the first-ever talks held between a North Korean leader and a sitting US President, to discuss the North Korean nuclear program.\n",
      "Similarity score: 0.7834146618843079\n",
      "\n",
      "Yes, I like rapping.  Let's start with the definition.  Rapping is a musical form of vocal delivery that incorporates \"rhyme, rhythmic speech, and street vernacular\", which is performed or chanted in a variety of ways, usually over a backbeat or musical accompaniment.\n",
      "\n",
      "Rapping (or rhyming, spitting, emceeing, MCing) is a musical form of vocal delivery that incorporates \"rhyme, rhythmic speech, and street vernacular\", which is performed or chanted in a variety of ways, usually over a backbeat or musical accompaniment.  The components of rap include \"content\" (what is being said), \"flow\" (rhythm, rhyme), and \"delivery\" (cadence, tone). Rap differs from spoken-word poetry in that rap is usually performed in time to an instrumental track. Rap is often associated with, and is a primary ingredient of hip-hop music, but the origins of the phenomenon predate hip-hop culture. The earliest precursor to the modern rap is the West African griot tradition, in which \"oral historians\", or \"praise-singers\", would disseminate oral traditions and genealogies, or use their formidable rhetorical techniques for gossip or to \"praise or critique individuals.\" Griot traditions connect to rap along a lineage of Black verbal reverence that goes back to ancient Egyptian practices, through James Brown interacting with the crowd and the band between songs, to Muhammad Ali's quick-witted verbal taunts and the palpitating poems of the Last Poets. Therefore, rap lyrics and music are part of the \"Black rhetorical continuum\", and aim to reuse elements of past traditions while expanding upon them through \"creative use of language and rhetorical styles and strategies. The person credited with originating the style of \"delivering rhymes over extensive music\", that would become known as rap, was Anthony \"DJ Hollywood\" Holloway from Harlem, New York.Rap is usually delivered over a beat, typically provided by a DJ, turntablist, Beatboxer, or performed A cappella without accompaniment. Stylistically, rap occupies a gray area between speech, prose, poetry, and singing. The word, which predates the musical form, originally meant \"to lightly strike\", and is now used to describe quick speech or repartee. The word had been used in British English since the 16th century. It was part of the African American dialect of English in the 1960s meaning \"to converse\", and very soon after that in its present usage as a term denoting the musical style. Today, the term rap is so closely associated with hip-hop music that many writers use the terms interchangeably.\n",
      "Similarity score: 0.8395875096321106\n",
      "\n",
      "I am. Wondering if you know who Drake, the Canadian rapper is? Also know as Aubrey Drake Graham.\n",
      "\n",
      "Aubrey Drake Graham (born October 24, 1986), known mononymously as Drake, is a Canadian rapper, singer, songwriter, record producer, actor, and entrepreneur. Drake initially gained recognition as an actor on the teen drama television series Degrassi: The Next Generation in the early 2000s. Intent on pursuing a career as a rapper, he departed the series in 2007 following the release of his debut mixtape, Room for Improvement. He released two further independent projects, Comeback Season and So Far Gone, before signing to Lil Wayne's Young Money Entertainment in June 2009.Drake released his debut studio album Thank Me Later in 2010, which debuted at number one on the US Billboard 200 and was soon certified platinum. His next two releases, 2011's Take Care and 2013's Nothing Was the Same, were critically and commercially successful; the former earned him his first Grammy Award for Best Rap Album. In 2015, he released two mixtapes—the trap-influenced If You're Reading This It's Too Late and a collaboration with Future titled What a Time to Be Alive—both of which earned platinum certification in the U.S.His fourth album, Views (2016), broke several chart records. The dancehall-influenced album sat atop the Billboard 200 for 13 nonconsecutive weeks, becoming the first album by a male solo artist to do so in over 10 years. The album's second single, \"One Dance\", topped the charts in several countries, and became his first number-one single as a lead artist. That year, Drake led both the Billboard Hot 100 and the Billboard 200 charts simultaneously for eight weeks. Views achieved quadruple platinum status in the US, and earned over 1 million album-equivalent units in the first week of its release. Its lead single \"Hotline Bling\" received Grammy Awards for Best Rap/Sung Performance and Best Rap Song. In 2017, he released the mixtape More Life. Described by Drake as a \"playlist\", it became his seventh consecutive number one on the Billboard 200, and set multiple streaming records. A year later, he released the double album Scorpion, which also broke several streaming records, and housed the number-one singles \"God's Plan\", and the bounce-infused \"Nice for What\" and \"In My Feelings\".\n",
      "Similarity score: 0.769134521484375\n",
      "\n",
      "Hello!  Have any thoughts on Kim Jong Un the current leader of North Korea?\n",
      "\n",
      "Kim Jong-un (officially transcribed Kim Jong Un; Chosŏn'gŭl: 김정은; Korean pronunciation: [kim.dzɔŋ.ɯn]; born 8 January 1983) is a North Korean politician serving as Supreme Leader of North Korea since 2011 and Leader of the Workers' Party of Korea since 2012. Kim is the second child of Kim Jong-il (1941–2011) and Ko Yong-hui (1952–2004). The grandson of Kim Il-sung, the first leader of North Korea from 1948 to 1994, he is the first North Korean leader to have been born after the country's founding.From late 2010, Kim Jong-un was viewed as heir apparent to the leadership of the DPRK, and following the elder Kim's death, he was announced as the \"Great Successor\" by North Korean state television. Kim holds the titles of Chairman of the Workers' Party of Korea (as First Secretary between 2012 and 2016), Chairman of the Central Military Commission, Chairman of the State Affairs Commission, Supreme Commander of the Korean People's Army, and member of the Presidium of the Politburo of the Workers' Party of Korea, the highest decision-making body in North Korea. Kim was promoted to the rank of Marshal of North Korea in the Korean People's Army on 18 July 2012, consolidating his position as the Supreme Commander of the Armed Forces and is often referred to as Marshal Kim Jong-un or \"the Marshal\" by state media. Kim obtained two degrees, one in physics at Kim Il-sung University, and another as an Army officer at the Kim Il-sung Military University.Forbes magazine ranked Kim the 46th most powerful person in the world in 2013 and the third highest amongst Koreans after Ban Ki-moon and Lee Kun-hee. On 12 December 2013, North Korean news outlets reported that Kim Jong-un had ordered the execution of his uncle Jang Song-thaek due to \"treachery\". On 9 March 2014, Kim was elected unopposed to the Supreme People's Assembly. He is widely believed to have ordered the assassination of his half-brother, Kim Jong-nam, in Malaysia in February 2017.Despite tense relations, North Korea agreed to participate in the 2018 Winter Olympics in Pyeongchang. Following the Olympics, Kim Jong-un and President Moon Jae-in conducted the April 2018 inter-Korean summit. It was the first time since the end of the Korean War in 1953 that a North Korean leader entered the South's territory. On 12 June 2018, Kim Jong-un and US President Donald Trump met for the 2018 North Korea–United States summit in Singapore, the first-ever talks held between a North Korean leader and a sitting US President, to discuss the North Korean nuclear program.\n",
      "Similarity score: 0.8035219311714172\n",
      "\n",
      "Possibly, the US government investigates some of the UFO reports\n",
      "\n",
      "[Head of Pentagon's secret 'UFO' office sought to make evidence public] Although there has been no confirmation - or even serious suggestions - that the recent incident was related to an unidentified flying object (at least, not the kind portrayed in Hollywood), the U.S. government has investigated sightings over the years. For the first time last year, the Pentagon confirmed that it had run an operation, known as the Advanced Aviation Threat Identification Program, to investigate reported UFO sightings. In December, The Post's Joby Warrick reported: Current and former Pentagon officials confirm that the Pentagon program has been in existence since 2007 and was formed for the purpose of collecting and analyzing a wide range of \"anomalous aerospace threats\" ranging from advanced aircraft fielded by traditional U.S. adversaries to commercial drones to possible alien encounters. It is a rare instance of ongoing government investigations into a UFO phenomenon that was the subject of multiple official inquiries in the 1950s and 1960s. Funding for the program ended in 2012, according to Warrick. Lynn Lunsford, a spokesman for the FAA, said in a statement Wednesday to The Washington Post that the air traffic controller was \"unable to verify that any other aircraft was in the area.\" But he alluded to several possibilities. \"We have a close working relationship with a number of other agencies and safely handle military aircraft and civilian aircraft of all types in that area every day, including high-altitude weather balloons,\" Lunsford said in the statement. The midair mystery in southern Arizona occurred on the afternoon of Feb. 24 at about 40,000 feet above the Sonoran Desert, according to the Phoenix New Times. Not long after the pilot reported his observations, the Albuquerque Air Route Traffic Control Center alerted an American Airlines flight that was flying over the area en route to San Diego. \"American 1095, uh, let me know if, uh, you see anything pass over you here in the next, uh, 15 miles,\" an air traffic controller said, according to the audio recording, which was obtained by The Post. \"Let you know if anything passes over us?\"\n",
      "Similarity score: 0.7887863516807556\n",
      "\n",
      "Area 51 what it it called.  The pentagon has a secret UFO office\n",
      "\n",
      "[Head of Pentagon's secret 'UFO' office sought to make evidence public] Although there has been no confirmation - or even serious suggestions - that the recent incident was related to an unidentified flying object (at least, not the kind portrayed in Hollywood), the U.S. government has investigated sightings over the years. For the first time last year, the Pentagon confirmed that it had run an operation, known as the Advanced Aviation Threat Identification Program, to investigate reported UFO sightings. In December, The Post's Joby Warrick reported: Current and former Pentagon officials confirm that the Pentagon program has been in existence since 2007 and was formed for the purpose of collecting and analyzing a wide range of \"anomalous aerospace threats\" ranging from advanced aircraft fielded by traditional U.S. adversaries to commercial drones to possible alien encounters. It is a rare instance of ongoing government investigations into a UFO phenomenon that was the subject of multiple official inquiries in the 1950s and 1960s. Funding for the program ended in 2012, according to Warrick. Lynn Lunsford, a spokesman for the FAA, said in a statement Wednesday to The Washington Post that the air traffic controller was \"unable to verify that any other aircraft was in the area.\" But he alluded to several possibilities. \"We have a close working relationship with a number of other agencies and safely handle military aircraft and civilian aircraft of all types in that area every day, including high-altitude weather balloons,\" Lunsford said in the statement. The midair mystery in southern Arizona occurred on the afternoon of Feb. 24 at about 40,000 feet above the Sonoran Desert, according to the Phoenix New Times. Not long after the pilot reported his observations, the Albuquerque Air Route Traffic Control Center alerted an American Airlines flight that was flying over the area en route to San Diego. \"American 1095, uh, let me know if, uh, you see anything pass over you here in the next, uh, 15 miles,\" an air traffic controller said, according to the audio recording, which was obtained by The Post. \"Let you know if anything passes over us?\"\n",
      "Similarity score: 0.7272952795028687\n",
      "\n",
      "that's kinda crazy.  there is a Pentagon Operation known as Advanced Aviation Threat Identification Program to investigate UFO sightings.  i guess that is more info than we would normally get from the govt.\n",
      "\n",
      "[Head of Pentagon's secret 'UFO' office sought to make evidence public] Although there has been no confirmation - or even serious suggestions - that the recent incident was related to an unidentified flying object (at least, not the kind portrayed in Hollywood), the U.S. government has investigated sightings over the years. For the first time last year, the Pentagon confirmed that it had run an operation, known as the Advanced Aviation Threat Identification Program, to investigate reported UFO sightings. In December, The Post's Joby Warrick reported: Current and former Pentagon officials confirm that the Pentagon program has been in existence since 2007 and was formed for the purpose of collecting and analyzing a wide range of \"anomalous aerospace threats\" ranging from advanced aircraft fielded by traditional U.S. adversaries to commercial drones to possible alien encounters. It is a rare instance of ongoing government investigations into a UFO phenomenon that was the subject of multiple official inquiries in the 1950s and 1960s. Funding for the program ended in 2012, according to Warrick. Lynn Lunsford, a spokesman for the FAA, said in a statement Wednesday to The Washington Post that the air traffic controller was \"unable to verify that any other aircraft was in the area.\" But he alluded to several possibilities. \"We have a close working relationship with a number of other agencies and safely handle military aircraft and civilian aircraft of all types in that area every day, including high-altitude weather balloons,\" Lunsford said in the statement. The midair mystery in southern Arizona occurred on the afternoon of Feb. 24 at about 40,000 feet above the Sonoran Desert, according to the Phoenix New Times. Not long after the pilot reported his observations, the Albuquerque Air Route Traffic Control Center alerted an American Airlines flight that was flying over the area en route to San Diego. \"American 1095, uh, let me know if, uh, you see anything pass over you here in the next, uh, 15 miles,\" an air traffic controller said, according to the audio recording, which was obtained by The Post. \"Let you know if anything passes over us?\"\n",
      "Similarity score: 0.8121583461761475\n",
      "\n",
      "Way more!! haha. Head of Pentagon's secret 'UFO' office sought to make evidence public] Although there has been no confirmation - or even serious suggestions - that the recent incident was related to an unidentified flying object, at least, not the kind portrayed in Hollywood, the U.S. government has investigated sightings over the years. \n",
      "\n",
      "[Head of Pentagon's secret 'UFO' office sought to make evidence public] Although there has been no confirmation - or even serious suggestions - that the recent incident was related to an unidentified flying object (at least, not the kind portrayed in Hollywood), the U.S. government has investigated sightings over the years. For the first time last year, the Pentagon confirmed that it had run an operation, known as the Advanced Aviation Threat Identification Program, to investigate reported UFO sightings. In December, The Post's Joby Warrick reported: Current and former Pentagon officials confirm that the Pentagon program has been in existence since 2007 and was formed for the purpose of collecting and analyzing a wide range of \"anomalous aerospace threats\" ranging from advanced aircraft fielded by traditional U.S. adversaries to commercial drones to possible alien encounters. It is a rare instance of ongoing government investigations into a UFO phenomenon that was the subject of multiple official inquiries in the 1950s and 1960s. Funding for the program ended in 2012, according to Warrick. Lynn Lunsford, a spokesman for the FAA, said in a statement Wednesday to The Washington Post that the air traffic controller was \"unable to verify that any other aircraft was in the area.\" But he alluded to several possibilities. \"We have a close working relationship with a number of other agencies and safely handle military aircraft and civilian aircraft of all types in that area every day, including high-altitude weather balloons,\" Lunsford said in the statement. The midair mystery in southern Arizona occurred on the afternoon of Feb. 24 at about 40,000 feet above the Sonoran Desert, according to the Phoenix New Times. Not long after the pilot reported his observations, the Albuquerque Air Route Traffic Control Center alerted an American Airlines flight that was flying over the area en route to San Diego. \"American 1095, uh, let me know if, uh, you see anything pass over you here in the next, uh, 15 miles,\" an air traffic controller said, according to the audio recording, which was obtained by The Post. \"Let you know if anything passes over us?\"\n",
      "Similarity score: 0.8735957145690918\n",
      "\n",
      "Hi. are you interested in rapping facts? Rapping is a musical form of vocal delivery that incorporates \"rhyme, rhythmic speech, and street vernacular\".\n",
      "\n",
      "Rapping (or rhyming, spitting, emceeing, MCing) is a musical form of vocal delivery that incorporates \"rhyme, rhythmic speech, and street vernacular\", which is performed or chanted in a variety of ways, usually over a backbeat or musical accompaniment.  The components of rap include \"content\" (what is being said), \"flow\" (rhythm, rhyme), and \"delivery\" (cadence, tone). Rap differs from spoken-word poetry in that rap is usually performed in time to an instrumental track. Rap is often associated with, and is a primary ingredient of hip-hop music, but the origins of the phenomenon predate hip-hop culture. The earliest precursor to the modern rap is the West African griot tradition, in which \"oral historians\", or \"praise-singers\", would disseminate oral traditions and genealogies, or use their formidable rhetorical techniques for gossip or to \"praise or critique individuals.\" Griot traditions connect to rap along a lineage of Black verbal reverence that goes back to ancient Egyptian practices, through James Brown interacting with the crowd and the band between songs, to Muhammad Ali's quick-witted verbal taunts and the palpitating poems of the Last Poets. Therefore, rap lyrics and music are part of the \"Black rhetorical continuum\", and aim to reuse elements of past traditions while expanding upon them through \"creative use of language and rhetorical styles and strategies. The person credited with originating the style of \"delivering rhymes over extensive music\", that would become known as rap, was Anthony \"DJ Hollywood\" Holloway from Harlem, New York.Rap is usually delivered over a beat, typically provided by a DJ, turntablist, Beatboxer, or performed A cappella without accompaniment. Stylistically, rap occupies a gray area between speech, prose, poetry, and singing. The word, which predates the musical form, originally meant \"to lightly strike\", and is now used to describe quick speech or repartee. The word had been used in British English since the 16th century. It was part of the African American dialect of English in the 1960s meaning \"to converse\", and very soon after that in its present usage as a term denoting the musical style. Today, the term rap is so closely associated with hip-hop music that many writers use the terms interchangeably.\n",
      "Similarity score: 0.7364152669906616\n",
      "\n",
      "I know a little.  Rap differs from spoken-word poetry in that rap is usually performed in time to an instrumental track.\n",
      "\n",
      "Rapping (or rhyming, spitting, emceeing, MCing) is a musical form of vocal delivery that incorporates \"rhyme, rhythmic speech, and street vernacular\", which is performed or chanted in a variety of ways, usually over a backbeat or musical accompaniment.  The components of rap include \"content\" (what is being said), \"flow\" (rhythm, rhyme), and \"delivery\" (cadence, tone). Rap differs from spoken-word poetry in that rap is usually performed in time to an instrumental track. Rap is often associated with, and is a primary ingredient of hip-hop music, but the origins of the phenomenon predate hip-hop culture. The earliest precursor to the modern rap is the West African griot tradition, in which \"oral historians\", or \"praise-singers\", would disseminate oral traditions and genealogies, or use their formidable rhetorical techniques for gossip or to \"praise or critique individuals.\" Griot traditions connect to rap along a lineage of Black verbal reverence that goes back to ancient Egyptian practices, through James Brown interacting with the crowd and the band between songs, to Muhammad Ali's quick-witted verbal taunts and the palpitating poems of the Last Poets. Therefore, rap lyrics and music are part of the \"Black rhetorical continuum\", and aim to reuse elements of past traditions while expanding upon them through \"creative use of language and rhetorical styles and strategies. The person credited with originating the style of \"delivering rhymes over extensive music\", that would become known as rap, was Anthony \"DJ Hollywood\" Holloway from Harlem, New York.Rap is usually delivered over a beat, typically provided by a DJ, turntablist, Beatboxer, or performed A cappella without accompaniment. Stylistically, rap occupies a gray area between speech, prose, poetry, and singing. The word, which predates the musical form, originally meant \"to lightly strike\", and is now used to describe quick speech or repartee. The word had been used in British English since the 16th century. It was part of the African American dialect of English in the 1960s meaning \"to converse\", and very soon after that in its present usage as a term denoting the musical style. Today, the term rap is so closely associated with hip-hop music that many writers use the terms interchangeably.\n",
      "Similarity score: 0.7407411336898804\n",
      "\n",
      "I didn't know Drake's middle name is actually Drake. \n",
      "\n",
      "Aubrey Drake Graham (born October 24, 1986), known mononymously as Drake, is a Canadian rapper, singer, songwriter, record producer, actor, and entrepreneur. Drake initially gained recognition as an actor on the teen drama television series Degrassi: The Next Generation in the early 2000s. Intent on pursuing a career as a rapper, he departed the series in 2007 following the release of his debut mixtape, Room for Improvement. He released two further independent projects, Comeback Season and So Far Gone, before signing to Lil Wayne's Young Money Entertainment in June 2009.Drake released his debut studio album Thank Me Later in 2010, which debuted at number one on the US Billboard 200 and was soon certified platinum. His next two releases, 2011's Take Care and 2013's Nothing Was the Same, were critically and commercially successful; the former earned him his first Grammy Award for Best Rap Album. In 2015, he released two mixtapes—the trap-influenced If You're Reading This It's Too Late and a collaboration with Future titled What a Time to Be Alive—both of which earned platinum certification in the U.S.His fourth album, Views (2016), broke several chart records. The dancehall-influenced album sat atop the Billboard 200 for 13 nonconsecutive weeks, becoming the first album by a male solo artist to do so in over 10 years. The album's second single, \"One Dance\", topped the charts in several countries, and became his first number-one single as a lead artist. That year, Drake led both the Billboard Hot 100 and the Billboard 200 charts simultaneously for eight weeks. Views achieved quadruple platinum status in the US, and earned over 1 million album-equivalent units in the first week of its release. Its lead single \"Hotline Bling\" received Grammy Awards for Best Rap/Sung Performance and Best Rap Song. In 2017, he released the mixtape More Life. Described by Drake as a \"playlist\", it became his seventh consecutive number one on the Billboard 200, and set multiple streaming records. A year later, he released the double album Scorpion, which also broke several streaming records, and housed the number-one singles \"God's Plan\", and the bounce-infused \"Nice for What\" and \"In My Feelings\".\n",
      "Similarity score: 0.7089738845825195\n",
      "\n",
      "I also found it interesting that the word rap means to converse.  I can see how the term rap was given to this music style.  Rapping sounding like a conversation with music and beat.\n",
      "\n",
      "Rapping (or rhyming, spitting, emceeing, MCing) is a musical form of vocal delivery that incorporates \"rhyme, rhythmic speech, and street vernacular\", which is performed or chanted in a variety of ways, usually over a backbeat or musical accompaniment.  The components of rap include \"content\" (what is being said), \"flow\" (rhythm, rhyme), and \"delivery\" (cadence, tone). Rap differs from spoken-word poetry in that rap is usually performed in time to an instrumental track. Rap is often associated with, and is a primary ingredient of hip-hop music, but the origins of the phenomenon predate hip-hop culture. The earliest precursor to the modern rap is the West African griot tradition, in which \"oral historians\", or \"praise-singers\", would disseminate oral traditions and genealogies, or use their formidable rhetorical techniques for gossip or to \"praise or critique individuals.\" Griot traditions connect to rap along a lineage of Black verbal reverence that goes back to ancient Egyptian practices, through James Brown interacting with the crowd and the band between songs, to Muhammad Ali's quick-witted verbal taunts and the palpitating poems of the Last Poets. Therefore, rap lyrics and music are part of the \"Black rhetorical continuum\", and aim to reuse elements of past traditions while expanding upon them through \"creative use of language and rhetorical styles and strategies. The person credited with originating the style of \"delivering rhymes over extensive music\", that would become known as rap, was Anthony \"DJ Hollywood\" Holloway from Harlem, New York.Rap is usually delivered over a beat, typically provided by a DJ, turntablist, Beatboxer, or performed A cappella without accompaniment. Stylistically, rap occupies a gray area between speech, prose, poetry, and singing. The word, which predates the musical form, originally meant \"to lightly strike\", and is now used to describe quick speech or repartee. The word had been used in British English since the 16th century. It was part of the African American dialect of English in the 1960s meaning \"to converse\", and very soon after that in its present usage as a term denoting the musical style. Today, the term rap is so closely associated with hip-hop music that many writers use the terms interchangeably.\n",
      "Similarity score: 0.746609091758728\n",
      "\n"
     ]
    }
   ],
   "source": [
    "for entry in high_similarity_length_cases.iloc[:50].itertuples():\n",
    "    \n",
    "    print(entry.message)\n",
    "    print()\n",
    "    print(entry.knowledge_sentence)\n",
    "    print(f\"Similarity score: {entry.knowledge_similarity_score}\")\n",
    "    print()"
   ]
  },
  {
   "cell_type": "markdown",
   "id": "3b3bfec0",
   "metadata": {},
   "source": [
    "This is actually quite fascinating, the model appears to capture semantic information involving nouns and named entities. It's even able to match long descriptions with short utterances. However, it could also indicate that the model pays heavy attention to the initial parts of the input rather than the latter parts of the input. Additionally, it is consistent with user behavior where most of the attention is paid to the head of the input rather than the tail."
   ]
  },
  {
   "cell_type": "markdown",
   "id": "795d414b",
   "metadata": {},
   "source": [
    "### Low similarity and low length cases"
   ]
  },
  {
   "cell_type": "code",
   "execution_count": 20,
   "id": "f9dbec9f",
   "metadata": {
    "ExecuteTime": {
     "end_time": "2021-08-14T22:38:07.780499Z",
     "start_time": "2021-08-14T22:38:07.767221Z"
    }
   },
   "outputs": [],
   "source": [
    "low_similarity_length_cases = train_data[(train_data['knowledge_sentence_length'] < 100) & (train_data['knowledge_similarity_score'] < 0.2)][['message', 'knowledge_sentence', 'knowledge_similarity_score']]"
   ]
  },
  {
   "cell_type": "code",
   "execution_count": 21,
   "id": "54e11389",
   "metadata": {
    "ExecuteTime": {
     "end_time": "2021-08-14T22:38:07.790394Z",
     "start_time": "2021-08-14T22:38:07.781484Z"
    },
    "scrolled": true
   },
   "outputs": [
    {
     "name": "stdout",
     "output_type": "stream",
     "text": [
      "Both are excellent technology they are helpful in many ways. For the security purpose both are super.\n",
      "\n",
      "A single Google search requires more computing power than it took to send Neil Armstrong and eleven other astronauts to the moon\n",
      "Similarity score: 0.17566724121570587\n",
      "\n",
      "Yeah they are much smarter than we give them credit for\n",
      "\n",
      "Shakespeare invented the names Miranda, Jessica, and Olivia.\n",
      "Similarity score: 0.16289439797401428\n",
      "\n",
      "I wonder if they met how that would go from there\n",
      "\n",
      "Levi made Bing Crosby a denim tuxedo after he was turned away from a hotel for wearing jeans\n",
      "Similarity score: 0.19493067264556885\n",
      "\n",
      "I am really bad, but it is a good time.\n",
      "\n",
      "professional ballet dancers can go through 4 pairs of pointe shoes in a week.\n",
      "Similarity score: 0.07595402002334595\n",
      "\n",
      "I didn't know this thanks for sharing.\n",
      "\n",
      "Vans, North Face, Nautica, Jansport, Timberland, Lee Jeans, Wrangler... are all owned by the same company\n",
      "Similarity score: 0.16877271234989166\n",
      "\n",
      "Ha Ha!!! It was so nice chatting with you as well!! Have a nice day!!! Bye\n",
      "\n",
      "Shakespeare coined or popularized many of the phrases we use today. Some of these include: “Good riddance. In my heart of hearts. Laughing stock. Wild-goose chase. Devil incarnate. Brave new world. As luck would have it. All our yesterdays. Break the ice. Full circle.”\n",
      "Similarity score: 0.15316933393478394\n",
      "\n",
      "I am not sure, how do they do this?\n",
      "\n",
      "freshwater fish only \"drink\" water through their skin via osmosis, while saltwater fish also drink water through their mouths\n",
      "Similarity score: 0.19646501541137695\n",
      "\n",
      "No I have. What does the results turn?\n",
      "\n",
      "since jellyfish are 98% water, they evaporate in the sun.\n",
      "Similarity score: 0.1579829603433609\n",
      "\n",
      "They are indeed very smart and that proves it. Nice chatting with you.\n",
      "\n",
      "instead of hiring people to mow the lawns around their headquarters, Google uses hundreds of live goats.\n",
      "Similarity score: 0.18003875017166138\n",
      "\n",
      "Well I have to get to work, I hope you have a good day. It was nice chatting with you!\n",
      "\n",
      "Comic book legend Stan Lee ends every phone conversation he has with the word \"Excelsior!\"\n",
      "Similarity score: 0.16841521859169006\n",
      "\n",
      "I used to in my childhood but not any more, I used to love inspector Gadget. \n",
      "\n",
      "Comic book legend Stan Lee ends every phone conversation he has with the word \"Excelsior!\"\n",
      "Similarity score: 0.1996653974056244\n",
      "\n",
      "Hello\n",
      "\n",
      "Theodore Roosevelt had over 20 pets. Including a bear and a hyena.\n",
      "Similarity score: 0.1426214724779129\n",
      "\n",
      "Me too. Thanks for the informative chat.\n",
      "\n",
      "Theodore Roosevelt had over 20 pets. Including a bear and a hyena.\n",
      "Similarity score: 0.17358678579330444\n",
      "\n",
      "Yes indeed, interesting facts that will give me pause this weekend. That was an enjoyable conversation. Thanks and have a lovely weekend.\n",
      "\n",
      "- Hiccups are a holdover from early evolution when early land animals had both gills and lungs.\n",
      "Similarity score: 0.16825349628925323\n",
      "\n",
      "You as well!!\n",
      "\n",
      "it is not legal to \"own\" pets in Boulder, Colorado, but you may be their \"guardian.\"\n",
      "Similarity score: 0.08487465977668762\n",
      "\n",
      "Thanks.\n",
      "\n",
      "Theodore Roosevelt had over 20 pets. Including a bear and a hyena.\n",
      "Similarity score: 0.13624529540538788\n",
      "\n",
      "Good Morning! How are you today?\n",
      "\n",
      "tipping ones hat originates from knights raising their face visors to show friendliness.\n",
      "Similarity score: 0.16369092464447021\n",
      "\n",
      "I saw that they are using a surrogate and only paying 70k.  I'd want a whole lot more than that!\n",
      "\n",
      "in 1908, a law was passed limiting the length of hatpins out of fears that suffragettes would use them as weapons.\n",
      "Similarity score: 0.16523092985153198\n",
      "\n",
      "Simple explanation:  They take egg from mom, Sperm from dad - put it together and then into another person.\n",
      "\n",
      "tipping ones hat originates from knights raising their face visors to show friendliness.\n",
      "Similarity score: 0.1936875432729721\n",
      "\n",
      "I'll pretty much listen to anything except country.  It is god awful\n",
      "\n",
      "Kanye Omari West (; born June 8, 1977), is an American rapper, singer, songwriter, record producer, entrepreneur and fashion designer. His musical career has been marked by dramatic changes in styles, incorporating an eclectic range of influences from soul, baroque-pop, electro, indie rock, synth-pop, industrial and gospel. Over the course of his career, West has been responsible for cultural movements and progressions within mainstream hip hop and popular music at large.\n",
      "Similarity score: 0.1619231104850769\n",
      "\n",
      "Thank you for chatting with me, have a nice day.\n",
      "\n",
      "tipping ones hat originates from knights raising their face visors to show friendliness.\n",
      "Similarity score: 0.19971992075443268\n",
      "\n",
      "I enjoyed it, I hope you have a nice day as well. \n",
      "\n",
      "the most popular hat in the old west was the bowler, not the cowboy hat\n",
      "Similarity score: 0.1907426416873932\n",
      "\n",
      "My son is, so I know a little bit about it.\n",
      "\n",
      "in the movie Blade Runner, Harrison Ford believed that his character was a human while Ridley Scott believed Ford's character was a replicant.\n",
      "Similarity score: 0.1642778217792511\n",
      "\n",
      "I agree.  It's sad.  I had a good time chatting with you tonight!\n",
      "\n",
      "Marcia Lucas, George Lucas’ then wife, was the reason for major changes to the Original Star Wars film. Obi Wan’s death, Leia’s good Luck Kiss and re-editing the trench run to increase tension were all her ideas. She won the Academy Award for editing the film while George did not for directing.\n",
      "Similarity score: 0.17238087952136993\n",
      "\n",
      "Yes it is. Mostly by oceans but also lakes, rivers, and other sources! Well it was lovely getting to talk with you!\n",
      "\n",
      "the Earth is almost 4x as dense as the Sun.\n",
      "Similarity score: 0.19997544586658478\n",
      "\n",
      "I agree, It was nice chatting with you as well. Have a great day!\n",
      "\n",
      "when Earth was first formed a day was only 5.5 hours long\n",
      "Similarity score: 0.1763499677181244\n",
      "\n",
      "You as well. Goodbye now!\n",
      "\n",
      "the movie line, \"All those moments will be lost in time, like tears in rain,\" delivered by replicant Roy Batty as he neared the end of his life in the movie Blade Runner, were improvised by actor Rutger Hauer.\n",
      "Similarity score: 0.1839919239282608\n",
      "\n",
      "Keep them working.  LOL\n",
      "\n",
      "Senator Strom Thurmond holds the record for the longest Filibuster by a lone senator. He stayed on the Senate floor speaking for 24 hours and 18 minutes nonstop in opposition of the Civil Rights Act of 1957.\n",
      "Similarity score: 0.12515300512313843\n",
      "\n",
      "I am too. Nothing worse than trying to work and feeling uncomfortable!! Good chat!!\n",
      "\n",
      "the Candy Desk, a tradition of the US Senate since 1968, whereby a senator who sits at a desk near a busy entrance keeps a drawer full of candy for members of the body. The desk is currently supplied with candy made in Pennsylvania, including Milky Way bars, Mars bars, and jellybeans.\n",
      "Similarity score: 0.14476655423641205\n",
      "\n",
      "For real!  Have a good one!\n",
      "\n",
      "Senator Strom Thurmond holds the record for the longest Filibuster by a lone senator. He stayed on the Senate floor speaking for 24 hours and 18 minutes nonstop in opposition of the Civil Rights Act of 1957.\n",
      "Similarity score: 0.17012251913547516\n",
      "\n",
      "You too! Have a good night!!\n",
      "\n",
      "Senator Strom Thurmond holds the record for the longest Filibuster by a lone senator. He stayed on the Senate floor speaking for 24 hours and 18 minutes nonstop in opposition of the Civil Rights Act of 1957.\n",
      "Similarity score: 0.10873256623744965\n",
      "\n",
      "What! No, I did not know that, that is very interesting. \n",
      "\n",
      "Not all Men in the UK had the vote until 1918.\n",
      "Similarity score: 0.10202130675315857\n",
      "\n",
      "I don't. Tell me more.\n",
      "\n",
      "Not all Men in the UK had the vote until 1918.\n",
      "Similarity score: 0.11634388566017151\n",
      "\n",
      "I think I've read that before! Wild to think about. \n",
      "\n",
      "Michael Jordan was once asked why he wouldn't endorse black democratic candidate Harvey Gantt in a North Carolina senate race, to which Michael Jordan responded, \"Republicans buy shoes too\".\n",
      "Similarity score: 0.17222712934017181\n",
      "\n",
      "Nice chatting with you. Thanks!\n",
      "\n",
      "the Candy Desk, a tradition of the US Senate since 1968, whereby a senator who sits at a desk near a busy entrance keeps a drawer full of candy for members of the body. The desk is currently supplied with candy made in Pennsylvania, including Milky Way bars, Mars bars, and jellybeans.\n",
      "Similarity score: 0.06556064635515213\n",
      "\n",
      "For sure, I wonder if it's confidential up there? How does it get back to earth?\n",
      "\n",
      "the US Senate used the same gavel for 165 years until Richard Nixon cracked it\n",
      "Similarity score: 0.15458053350448608\n",
      "\n",
      "That's crazy, I wonder if they'll ever fix that, plenty of things they can do about that but never attempt it. \n",
      "\n",
      "Michael Jordan was once asked why he wouldn't endorse black democratic candidate Harvey Gantt in a North Carolina senate race, to which Michael Jordan responded, \"Republicans buy shoes too\".\n",
      "Similarity score: 0.16950353980064392\n",
      "\n",
      "Oh wow, that's crazy how sexist they still were. I agree about the great civilizations coming to an end, they all thought they'd be around forever too.\n",
      "\n",
      "icials in ancient Athens were appointed by lottery because they believed elections would lead to an oligarchy.\n",
      "Similarity score: 0.19549772143363953\n",
      "\n",
      "For sure, I wonder why people don't show up so much, I wish they would more!\n",
      "\n",
      "astronauts vote from space\n",
      "Similarity score: 0.18907904624938965\n",
      "\n",
      "That is sad and it is just the mentality that we have to work hard to change\n",
      "\n",
      "before \"Let It Go\" was written Elsa was the main villain in Frozen, however the song was so uplifting her character was changed instead of the song.\n",
      "Similarity score: 0.0894043892621994\n",
      "\n",
      "Hobos? I never thought of income in terms of hobos, though I guess they do make money through their illicit means. \n",
      "\n",
      "video games make more money annually than all Hollywood Films\n",
      "Similarity score: 0.19107022881507874\n",
      "\n",
      "You too, have a good evening.\n",
      "\n",
      "\"Game designer Jane McGonigal calculated that as a planet we play three billion hours of video games a week.\"\n",
      "Similarity score: 0.14251597225666046\n",
      "\n",
      "I would do exactly the same as you.  How could you not pass that up the chance to set yourself up for life? lol\n",
      "\n",
      "Up until 2005, a married couple, for 24 years, scheduled all 2430 Major League Baseball games played each year\n",
      "Similarity score: 0.1417839378118515\n",
      "\n",
      "Hi, how are you doing this fine evening?\n",
      "\n",
      "Istanbul has a vending machine that releases food and water for the city's stray dogs in exchange for recycled plastic bottles.\n",
      "Similarity score: 0.09871441125869751\n",
      "\n",
      "Have a good night\n",
      "\n",
      "Robert Lopez, co-writer of Let It Go from Frozen, co-created and co-wrote Avenue Q and The Book Of Mormon, guest wrote a South Park episode, wrote four songs for the Scrubs episode My Musical, and is one of 12 people to have ever won EGOT: an Emmy, a Grammy, an Oscar, and a Tony.\n",
      "Similarity score: 0.13554225862026215\n",
      "\n",
      "I understand that. I can also understand wanting to leave when there are gang members on every corner and your little one is just starting school\n",
      "\n",
      "The story behind the girl in the recording who begs for her aunt after being separated from her migrant mother\n",
      "Similarity score: 0.19068734347820282\n",
      "\n",
      "Yes, another of my favorites! How about you? What do you like to watch?\n",
      "\n",
      "Robert Lopez, co-writer of Let It Go from Frozen, co-created and co-wrote Avenue Q and The Book Of Mormon, guest wrote a South Park episode, wrote four songs for the Scrubs episode My Musical, and is one of 12 people to have ever won EGOT: an Emmy, a Grammy, an Oscar, and a Tony.\n",
      "Similarity score: 0.17236563563346863\n",
      "\n",
      "Hi, how are you?\n",
      "\n",
      "the Javanese alphabet, when recited in order, forms a poem\n",
      "Similarity score: 0.1676461398601532\n",
      "\n",
      "Agreed! Nice chatting with you!\n",
      "\n",
      "the Javanese alphabet, when recited in order, forms a poem\n",
      "Similarity score: 0.10345295071601868\n",
      "\n",
      "I wonder how that would work today though.\n",
      "\n",
      "consistent use of \"red\" and \"blue\" colors for Republicans and Democrats only started in 2000\n",
      "Similarity score: 0.1439599096775055\n",
      "\n"
     ]
    }
   ],
   "source": [
    "for entry in low_similarity_length_cases.iloc[:50].itertuples():\n",
    "    \n",
    "    print(entry.message)\n",
    "    print()\n",
    "    print(entry.knowledge_sentence)\n",
    "    print(f\"Similarity score: {entry.knowledge_similarity_score}\")\n",
    "    print()"
   ]
  },
  {
   "cell_type": "markdown",
   "id": "eef64fd8",
   "metadata": {},
   "source": [
    "One thing to note is that a lot of the low similarity cases involve function sentences or low information sentences. Could we identify those cases accurately whenever possible?"
   ]
  },
  {
   "cell_type": "code",
   "execution_count": null,
   "id": "d0e15887",
   "metadata": {},
   "outputs": [],
   "source": []
  }
 ],
 "metadata": {
  "kernelspec": {
   "display_name": "dstc9",
   "language": "python",
   "name": "dstc9"
  },
  "language_info": {
   "codemirror_mode": {
    "name": "ipython",
    "version": 3
   },
   "file_extension": ".py",
   "mimetype": "text/x-python",
   "name": "python",
   "nbconvert_exporter": "python",
   "pygments_lexer": "ipython3",
   "version": "3.8.5"
  },
  "toc": {
   "base_numbering": 1,
   "nav_menu": {},
   "number_sections": true,
   "sideBar": true,
   "skip_h1_title": false,
   "title_cell": "Table of Contents",
   "title_sidebar": "Contents",
   "toc_cell": false,
   "toc_position": {},
   "toc_section_display": true,
   "toc_window_display": false
  },
  "varInspector": {
   "cols": {
    "lenName": 16,
    "lenType": 16,
    "lenVar": 40
   },
   "kernels_config": {
    "python": {
     "delete_cmd_postfix": "",
     "delete_cmd_prefix": "del ",
     "library": "var_list.py",
     "varRefreshCmd": "print(var_dic_list())"
    },
    "r": {
     "delete_cmd_postfix": ") ",
     "delete_cmd_prefix": "rm(",
     "library": "var_list.r",
     "varRefreshCmd": "cat(var_dic_list()) "
    }
   },
   "types_to_exclude": [
    "module",
    "function",
    "builtin_function_or_method",
    "instance",
    "_Feature"
   ],
   "window_display": false
  }
 },
 "nbformat": 4,
 "nbformat_minor": 5
}
