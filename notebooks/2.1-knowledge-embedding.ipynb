{
 "cells": [
  {
   "cell_type": "markdown",
   "id": "d964d2a7",
   "metadata": {},
   "source": [
    "# Embedding Topical Chats Knowledge"
   ]
  },
  {
   "cell_type": "code",
   "execution_count": 14,
   "id": "f589bc73",
   "metadata": {
    "ExecuteTime": {
     "end_time": "2021-06-29T08:55:14.903523Z",
     "start_time": "2021-06-29T08:55:13.250049Z"
    }
   },
   "outputs": [],
   "source": [
    "import pandas as pd\n",
    "from sentence_transformers import SentenceTransformer\n"
   ]
  },
  {
   "cell_type": "code",
   "execution_count": 2,
   "id": "fa9b674d",
   "metadata": {
    "ExecuteTime": {
     "end_time": "2021-06-29T08:42:54.735186Z",
     "start_time": "2021-06-29T08:42:54.227103Z"
    }
   },
   "outputs": [],
   "source": [
    "train_knowledge = pd.read_parquet(\"../data/intermediate/topical_chat/parquet/reading_sets/train.parquet\")"
   ]
  },
  {
   "cell_type": "code",
   "execution_count": 3,
   "id": "542d104f",
   "metadata": {
    "ExecuteTime": {
     "end_time": "2021-06-29T08:42:58.139038Z",
     "start_time": "2021-06-29T08:42:58.067873Z"
    }
   },
   "outputs": [
    {
     "data": {
      "text/html": [
       "<div>\n",
       "<style scoped>\n",
       "    .dataframe tbody tr th:only-of-type {\n",
       "        vertical-align: middle;\n",
       "    }\n",
       "\n",
       "    .dataframe tbody tr th {\n",
       "        vertical-align: top;\n",
       "    }\n",
       "\n",
       "    .dataframe thead th {\n",
       "        text-align: right;\n",
       "    }\n",
       "</style>\n",
       "<table border=\"1\" class=\"dataframe\">\n",
       "  <thead>\n",
       "    <tr style=\"text-align: right;\">\n",
       "      <th></th>\n",
       "      <th>conversation_id</th>\n",
       "      <th>agent</th>\n",
       "      <th>fact_set_id</th>\n",
       "      <th>fact_type</th>\n",
       "      <th>data</th>\n",
       "      <th>list_data</th>\n",
       "    </tr>\n",
       "  </thead>\n",
       "  <tbody>\n",
       "    <tr>\n",
       "      <th>0</th>\n",
       "      <td>t_bde29ce2-4153-4056-9eb7-f4ad710505fe</td>\n",
       "      <td>agent_1</td>\n",
       "      <td>FS1</td>\n",
       "      <td>entity</td>\n",
       "      <td>Google</td>\n",
       "      <td>None</td>\n",
       "    </tr>\n",
       "    <tr>\n",
       "      <th>1</th>\n",
       "      <td>t_bde29ce2-4153-4056-9eb7-f4ad710505fe</td>\n",
       "      <td>agent_1</td>\n",
       "      <td>FS1</td>\n",
       "      <td>shortened_wiki_lead_section</td>\n",
       "      <td>Google LLC is an American multinational techno...</td>\n",
       "      <td>None</td>\n",
       "    </tr>\n",
       "    <tr>\n",
       "      <th>2</th>\n",
       "      <td>t_bde29ce2-4153-4056-9eb7-f4ad710505fe</td>\n",
       "      <td>agent_1</td>\n",
       "      <td>FS1</td>\n",
       "      <td>fun_facts</td>\n",
       "      <td>None</td>\n",
       "      <td>[A single Google search requires more computin...</td>\n",
       "    </tr>\n",
       "    <tr>\n",
       "      <th>3</th>\n",
       "      <td>t_bde29ce2-4153-4056-9eb7-f4ad710505fe</td>\n",
       "      <td>agent_1</td>\n",
       "      <td>FS2</td>\n",
       "      <td>entity</td>\n",
       "      <td>Fish</td>\n",
       "      <td>None</td>\n",
       "    </tr>\n",
       "    <tr>\n",
       "      <th>4</th>\n",
       "      <td>t_bde29ce2-4153-4056-9eb7-f4ad710505fe</td>\n",
       "      <td>agent_1</td>\n",
       "      <td>FS2</td>\n",
       "      <td>shortened_wiki_lead_section</td>\n",
       "      <td>Fish are gill-bearing aquatic craniate animals...</td>\n",
       "      <td>None</td>\n",
       "    </tr>\n",
       "  </tbody>\n",
       "</table>\n",
       "</div>"
      ],
      "text/plain": [
       "                          conversation_id    agent fact_set_id  \\\n",
       "0  t_bde29ce2-4153-4056-9eb7-f4ad710505fe  agent_1         FS1   \n",
       "1  t_bde29ce2-4153-4056-9eb7-f4ad710505fe  agent_1         FS1   \n",
       "2  t_bde29ce2-4153-4056-9eb7-f4ad710505fe  agent_1         FS1   \n",
       "3  t_bde29ce2-4153-4056-9eb7-f4ad710505fe  agent_1         FS2   \n",
       "4  t_bde29ce2-4153-4056-9eb7-f4ad710505fe  agent_1         FS2   \n",
       "\n",
       "                     fact_type  \\\n",
       "0                       entity   \n",
       "1  shortened_wiki_lead_section   \n",
       "2                    fun_facts   \n",
       "3                       entity   \n",
       "4  shortened_wiki_lead_section   \n",
       "\n",
       "                                                data  \\\n",
       "0                                             Google   \n",
       "1  Google LLC is an American multinational techno...   \n",
       "2                                               None   \n",
       "3                                               Fish   \n",
       "4  Fish are gill-bearing aquatic craniate animals...   \n",
       "\n",
       "                                           list_data  \n",
       "0                                               None  \n",
       "1                                               None  \n",
       "2  [A single Google search requires more computin...  \n",
       "3                                               None  \n",
       "4                                               None  "
      ]
     },
     "execution_count": 3,
     "metadata": {},
     "output_type": "execute_result"
    }
   ],
   "source": [
    "train_knowledge.head()"
   ]
  },
  {
   "cell_type": "code",
   "execution_count": 12,
   "id": "3bec7f19",
   "metadata": {
    "ExecuteTime": {
     "end_time": "2021-06-29T08:54:52.075567Z",
     "start_time": "2021-06-29T08:54:52.043801Z"
    }
   },
   "outputs": [],
   "source": [
    "ff_list = train_knowledge[train_knowledge['fact_type'] == \"fun_facts\"]['list_data'].iloc[0]"
   ]
  },
  {
   "cell_type": "code",
   "execution_count": 13,
   "id": "e0e5dc0e",
   "metadata": {
    "ExecuteTime": {
     "end_time": "2021-06-29T08:54:55.078585Z",
     "start_time": "2021-06-29T08:54:55.067307Z"
    }
   },
   "outputs": [
    {
     "data": {
      "text/plain": [
       "['A single Google search requires more computing power than it took to send Neil Armstrong and eleven other astronauts to the moon',\n",
       " 'Google Maps calculates traffic by tracking how fast Android devices are moving on the road',\n",
       " 'instead of hiring people to mow the lawns around their headquarters, Google uses hundreds of live goats.',\n",
       " 'on 16th August 2013 Google went down for about five minutes, and took 40% of web traffic with it.',\n",
       " 'When there is a disputed border, Google maps tailors its maps to the claims of each country where the Internet browser is located']"
      ]
     },
     "execution_count": 13,
     "metadata": {},
     "output_type": "execute_result"
    }
   ],
   "source": [
    "ff_list"
   ]
  },
  {
   "cell_type": "code",
   "execution_count": 15,
   "id": "8a2d1b35",
   "metadata": {
    "ExecuteTime": {
     "end_time": "2021-06-29T08:55:57.527529Z",
     "start_time": "2021-06-29T08:55:26.286725Z"
    }
   },
   "outputs": [
    {
     "data": {
      "application/vnd.jupyter.widget-view+json": {
       "model_id": "22804753719b4c6085b9e251bc7b0a62",
       "version_major": 2,
       "version_minor": 0
      },
      "text/plain": [
       "Downloading:   0%|          | 0.00/690 [00:00<?, ?B/s]"
      ]
     },
     "metadata": {},
     "output_type": "display_data"
    },
    {
     "data": {
      "application/vnd.jupyter.widget-view+json": {
       "model_id": "91875ddf1bc9440b9ff06f723a0d67c0",
       "version_major": 2,
       "version_minor": 0
      },
      "text/plain": [
       "Downloading:   0%|          | 0.00/3.67k [00:00<?, ?B/s]"
      ]
     },
     "metadata": {},
     "output_type": "display_data"
    },
    {
     "data": {
      "application/vnd.jupyter.widget-view+json": {
       "model_id": "0a9570a6e9f54b768303f9bfd7e51f54",
       "version_major": 2,
       "version_minor": 0
      },
      "text/plain": [
       "Downloading:   0%|          | 0.00/629 [00:00<?, ?B/s]"
      ]
     },
     "metadata": {},
     "output_type": "display_data"
    },
    {
     "data": {
      "application/vnd.jupyter.widget-view+json": {
       "model_id": "a1baa5e9d3d24cf3b3eec270b5b84ead",
       "version_major": 2,
       "version_minor": 0
      },
      "text/plain": [
       "Downloading:   0%|          | 0.00/122 [00:00<?, ?B/s]"
      ]
     },
     "metadata": {},
     "output_type": "display_data"
    },
    {
     "data": {
      "application/vnd.jupyter.widget-view+json": {
       "model_id": "7950cdea0dd44400a3687499f694dcfb",
       "version_major": 2,
       "version_minor": 0
      },
      "text/plain": [
       "Downloading:   0%|          | 0.00/229 [00:00<?, ?B/s]"
      ]
     },
     "metadata": {},
     "output_type": "display_data"
    },
    {
     "data": {
      "application/vnd.jupyter.widget-view+json": {
       "model_id": "6b5443aa3b7644de880c0e6755cabf97",
       "version_major": 2,
       "version_minor": 0
      },
      "text/plain": [
       "Downloading:   0%|          | 0.00/90.9M [00:00<?, ?B/s]"
      ]
     },
     "metadata": {},
     "output_type": "display_data"
    },
    {
     "data": {
      "application/vnd.jupyter.widget-view+json": {
       "model_id": "81f2b0a746834501879bfc11063435f9",
       "version_major": 2,
       "version_minor": 0
      },
      "text/plain": [
       "Downloading:   0%|          | 0.00/53.0 [00:00<?, ?B/s]"
      ]
     },
     "metadata": {},
     "output_type": "display_data"
    },
    {
     "data": {
      "application/vnd.jupyter.widget-view+json": {
       "model_id": "7626e1fb5843465d82d58cd93b84f9bf",
       "version_major": 2,
       "version_minor": 0
      },
      "text/plain": [
       "Downloading:   0%|          | 0.00/112 [00:00<?, ?B/s]"
      ]
     },
     "metadata": {},
     "output_type": "display_data"
    },
    {
     "data": {
      "application/vnd.jupyter.widget-view+json": {
       "model_id": "a69d5e0042fd44d28ba9dbf41410dc6e",
       "version_major": 2,
       "version_minor": 0
      },
      "text/plain": [
       "Downloading:   0%|          | 0.00/466k [00:00<?, ?B/s]"
      ]
     },
     "metadata": {},
     "output_type": "display_data"
    },
    {
     "data": {
      "application/vnd.jupyter.widget-view+json": {
       "model_id": "a555de225489446db68a94428acce6a7",
       "version_major": 2,
       "version_minor": 0
      },
      "text/plain": [
       "Downloading:   0%|          | 0.00/516 [00:00<?, ?B/s]"
      ]
     },
     "metadata": {},
     "output_type": "display_data"
    },
    {
     "data": {
      "application/vnd.jupyter.widget-view+json": {
       "model_id": "1ba569bbb02f4e0ea7649ac9c4793723",
       "version_major": 2,
       "version_minor": 0
      },
      "text/plain": [
       "Downloading:   0%|          | 0.00/232k [00:00<?, ?B/s]"
      ]
     },
     "metadata": {},
     "output_type": "display_data"
    },
    {
     "data": {
      "application/vnd.jupyter.widget-view+json": {
       "model_id": "864b5ba4f7274e66a9f2028d79e950f7",
       "version_major": 2,
       "version_minor": 0
      },
      "text/plain": [
       "Downloading:   0%|          | 0.00/190 [00:00<?, ?B/s]"
      ]
     },
     "metadata": {},
     "output_type": "display_data"
    }
   ],
   "source": [
    "embedder = SentenceTransformer(\"paraphrase-MiniLM-L6-v2\")"
   ]
  },
  {
   "cell_type": "code",
   "execution_count": 16,
   "id": "780d894c",
   "metadata": {
    "ExecuteTime": {
     "end_time": "2021-06-29T08:56:19.812743Z",
     "start_time": "2021-06-29T08:56:16.868101Z"
    }
   },
   "outputs": [
    {
     "data": {
      "text/plain": [
       "array([[ 0.15618666, -0.269874  , -0.00201585, ..., -0.00165136,\n",
       "         0.00933944,  0.14733069],\n",
       "       [ 0.03245476, -0.49897677,  0.09475462, ...,  0.57709724,\n",
       "        -0.21022749, -0.07350831],\n",
       "       [ 0.09862368, -0.5510168 ,  0.25186005, ..., -0.49338415,\n",
       "         0.55872744,  0.3374219 ],\n",
       "       [ 0.05810754, -0.36236045,  0.47182444, ..., -0.07493308,\n",
       "        -0.44472948,  0.03697179],\n",
       "       [-0.05071412, -0.48466048,  0.11383921, ...,  0.51382613,\n",
       "         0.35800475, -0.403733  ]], dtype=float32)"
      ]
     },
     "execution_count": 16,
     "metadata": {},
     "output_type": "execute_result"
    }
   ],
   "source": [
    "embedder.encode(ff_list)"
   ]
  },
  {
   "cell_type": "code",
   "execution_count": 1,
   "id": "2272c56d",
   "metadata": {
    "ExecuteTime": {
     "end_time": "2021-06-29T09:33:06.148055Z",
     "start_time": "2021-06-29T09:33:04.909070Z"
    }
   },
   "outputs": [],
   "source": [
    "import sys\n",
    "import torch\n",
    "\n",
    "sys.path.append(\"../src\")\n",
    "\n",
    "from data.topical_chat.annotators.knowledge.embedding import SentenceTransformerRetriever"
   ]
  },
  {
   "cell_type": "code",
   "execution_count": 2,
   "id": "7d3dd767",
   "metadata": {
    "ExecuteTime": {
     "end_time": "2021-06-29T09:33:15.643311Z",
     "start_time": "2021-06-29T09:33:11.957272Z"
    }
   },
   "outputs": [],
   "source": [
    "retriever = SentenceTransformerRetriever(\"../data/intermediate/topical_chat/knowledge_embeddings/train_embeddings.pkl\", device=torch.device(\"cuda\"))"
   ]
  },
  {
   "cell_type": "code",
   "execution_count": 6,
   "id": "08e9d753",
   "metadata": {
    "ExecuteTime": {
     "end_time": "2021-06-29T09:33:35.617227Z",
     "start_time": "2021-06-29T09:33:35.587283Z"
    }
   },
   "outputs": [
    {
     "data": {
      "text/plain": [
       "'instead of hiring people to mow the lawns around their headquarters, Google uses hundreds of live goats.'"
      ]
     },
     "execution_count": 6,
     "metadata": {},
     "output_type": "execute_result"
    }
   ],
   "source": [
    "retriever.query(\"Something about Google and goats\", \"t_bde29ce2-4153-4056-9eb7-f4ad710505fe\")[0]"
   ]
  },
  {
   "cell_type": "code",
   "execution_count": null,
   "id": "d3cb4cd1",
   "metadata": {},
   "outputs": [],
   "source": []
  }
 ],
 "metadata": {
  "kernelspec": {
   "display_name": "dstc9",
   "language": "python",
   "name": "dstc9"
  },
  "language_info": {
   "codemirror_mode": {
    "name": "ipython",
    "version": 3
   },
   "file_extension": ".py",
   "mimetype": "text/x-python",
   "name": "python",
   "nbconvert_exporter": "python",
   "pygments_lexer": "ipython3",
   "version": "3.8.5"
  },
  "toc": {
   "base_numbering": 1,
   "nav_menu": {},
   "number_sections": true,
   "sideBar": true,
   "skip_h1_title": false,
   "title_cell": "Table of Contents",
   "title_sidebar": "Contents",
   "toc_cell": false,
   "toc_position": {},
   "toc_section_display": true,
   "toc_window_display": false
  },
  "varInspector": {
   "cols": {
    "lenName": 16,
    "lenType": 16,
    "lenVar": 40
   },
   "kernels_config": {
    "python": {
     "delete_cmd_postfix": "",
     "delete_cmd_prefix": "del ",
     "library": "var_list.py",
     "varRefreshCmd": "print(var_dic_list())"
    },
    "r": {
     "delete_cmd_postfix": ") ",
     "delete_cmd_prefix": "rm(",
     "library": "var_list.r",
     "varRefreshCmd": "cat(var_dic_list()) "
    }
   },
   "types_to_exclude": [
    "module",
    "function",
    "builtin_function_or_method",
    "instance",
    "_Feature"
   ],
   "window_display": false
  }
 },
 "nbformat": 4,
 "nbformat_minor": 5
}
