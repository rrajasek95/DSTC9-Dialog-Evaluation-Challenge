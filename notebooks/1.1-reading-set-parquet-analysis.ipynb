{
 "cells": [
  {
   "cell_type": "markdown",
   "id": "9b365cc9",
   "metadata": {},
   "source": [
    "# Reading Set Parquet Analysis"
   ]
  },
  {
   "cell_type": "code",
   "execution_count": 1,
   "id": "1315f49c",
   "metadata": {
    "ExecuteTime": {
     "end_time": "2021-06-29T04:10:58.312492Z",
     "start_time": "2021-06-29T04:10:58.191254Z"
    }
   },
   "outputs": [],
   "source": [
    "import pandas as pd"
   ]
  },
  {
   "cell_type": "code",
   "execution_count": 3,
   "id": "9af9664f",
   "metadata": {
    "ExecuteTime": {
     "end_time": "2021-06-29T04:11:36.963068Z",
     "start_time": "2021-06-29T04:11:36.533552Z"
    }
   },
   "outputs": [],
   "source": [
    "train_reading_set = pd.read_parquet(\"../data/intermediate/topical_chat_parquet/reading_sets/train.parquet\")"
   ]
  },
  {
   "cell_type": "code",
   "execution_count": 4,
   "id": "7320ce6a",
   "metadata": {
    "ExecuteTime": {
     "end_time": "2021-06-29T04:11:41.933558Z",
     "start_time": "2021-06-29T04:11:41.919301Z"
    }
   },
   "outputs": [
    {
     "data": {
      "text/html": [
       "<div>\n",
       "<style scoped>\n",
       "    .dataframe tbody tr th:only-of-type {\n",
       "        vertical-align: middle;\n",
       "    }\n",
       "\n",
       "    .dataframe tbody tr th {\n",
       "        vertical-align: top;\n",
       "    }\n",
       "\n",
       "    .dataframe thead th {\n",
       "        text-align: right;\n",
       "    }\n",
       "</style>\n",
       "<table border=\"1\" class=\"dataframe\">\n",
       "  <thead>\n",
       "    <tr style=\"text-align: right;\">\n",
       "      <th></th>\n",
       "      <th>conversation_id</th>\n",
       "      <th>agent</th>\n",
       "      <th>fact_set_id</th>\n",
       "      <th>fact_type</th>\n",
       "      <th>data</th>\n",
       "      <th>list_data</th>\n",
       "    </tr>\n",
       "  </thead>\n",
       "  <tbody>\n",
       "    <tr>\n",
       "      <th>0</th>\n",
       "      <td>t_bde29ce2-4153-4056-9eb7-f4ad710505fe</td>\n",
       "      <td>agent_1</td>\n",
       "      <td>FS1</td>\n",
       "      <td>entity</td>\n",
       "      <td>Google</td>\n",
       "      <td>None</td>\n",
       "    </tr>\n",
       "    <tr>\n",
       "      <th>1</th>\n",
       "      <td>t_bde29ce2-4153-4056-9eb7-f4ad710505fe</td>\n",
       "      <td>agent_1</td>\n",
       "      <td>FS1</td>\n",
       "      <td>shortened_wiki_lead_section</td>\n",
       "      <td>Google LLC is an American multinational techno...</td>\n",
       "      <td>None</td>\n",
       "    </tr>\n",
       "    <tr>\n",
       "      <th>2</th>\n",
       "      <td>t_bde29ce2-4153-4056-9eb7-f4ad710505fe</td>\n",
       "      <td>agent_1</td>\n",
       "      <td>FS1</td>\n",
       "      <td>fun_facts</td>\n",
       "      <td>None</td>\n",
       "      <td>[A single Google search requires more computin...</td>\n",
       "    </tr>\n",
       "    <tr>\n",
       "      <th>3</th>\n",
       "      <td>t_bde29ce2-4153-4056-9eb7-f4ad710505fe</td>\n",
       "      <td>agent_1</td>\n",
       "      <td>FS2</td>\n",
       "      <td>entity</td>\n",
       "      <td>Fish</td>\n",
       "      <td>None</td>\n",
       "    </tr>\n",
       "    <tr>\n",
       "      <th>4</th>\n",
       "      <td>t_bde29ce2-4153-4056-9eb7-f4ad710505fe</td>\n",
       "      <td>agent_1</td>\n",
       "      <td>FS2</td>\n",
       "      <td>shortened_wiki_lead_section</td>\n",
       "      <td>Fish are gill-bearing aquatic craniate animals...</td>\n",
       "      <td>None</td>\n",
       "    </tr>\n",
       "  </tbody>\n",
       "</table>\n",
       "</div>"
      ],
      "text/plain": [
       "                          conversation_id    agent fact_set_id  \\\n",
       "0  t_bde29ce2-4153-4056-9eb7-f4ad710505fe  agent_1         FS1   \n",
       "1  t_bde29ce2-4153-4056-9eb7-f4ad710505fe  agent_1         FS1   \n",
       "2  t_bde29ce2-4153-4056-9eb7-f4ad710505fe  agent_1         FS1   \n",
       "3  t_bde29ce2-4153-4056-9eb7-f4ad710505fe  agent_1         FS2   \n",
       "4  t_bde29ce2-4153-4056-9eb7-f4ad710505fe  agent_1         FS2   \n",
       "\n",
       "                     fact_type  \\\n",
       "0                       entity   \n",
       "1  shortened_wiki_lead_section   \n",
       "2                    fun_facts   \n",
       "3                       entity   \n",
       "4  shortened_wiki_lead_section   \n",
       "\n",
       "                                                data  \\\n",
       "0                                             Google   \n",
       "1  Google LLC is an American multinational techno...   \n",
       "2                                               None   \n",
       "3                                               Fish   \n",
       "4  Fish are gill-bearing aquatic craniate animals...   \n",
       "\n",
       "                                           list_data  \n",
       "0                                               None  \n",
       "1                                               None  \n",
       "2  [A single Google search requires more computin...  \n",
       "3                                               None  \n",
       "4                                               None  "
      ]
     },
     "execution_count": 4,
     "metadata": {},
     "output_type": "execute_result"
    }
   ],
   "source": [
    "train_reading_set.head()"
   ]
  },
  {
   "cell_type": "markdown",
   "id": "de75af9a",
   "metadata": {},
   "source": [
    "## Field Exploration"
   ]
  },
  {
   "cell_type": "code",
   "execution_count": 5,
   "id": "b4e44c0c",
   "metadata": {
    "ExecuteTime": {
     "end_time": "2021-06-29T04:12:19.067379Z",
     "start_time": "2021-06-29T04:12:19.016553Z"
    }
   },
   "outputs": [
    {
     "data": {
      "text/plain": [
       "entity                          51768\n",
       "fun_facts                       51768\n",
       "shortened_wiki_lead_section     45516\n",
       "url                              8628\n",
       "headline                         6442\n",
       "AS1                              6442\n",
       "AS2                              6442\n",
       "AS3                              6442\n",
       "AS4                              6442\n",
       "summarized_wiki_lead_section     6252\n",
       "Name: fact_type, dtype: int64"
      ]
     },
     "execution_count": 5,
     "metadata": {},
     "output_type": "execute_result"
    }
   ],
   "source": [
    "train_reading_set['fact_type'].value_counts()"
   ]
  },
  {
   "cell_type": "markdown",
   "id": "a5833efe",
   "metadata": {},
   "source": [
    "### Entities"
   ]
  },
  {
   "cell_type": "code",
   "execution_count": 11,
   "id": "7013dc99",
   "metadata": {
    "ExecuteTime": {
     "end_time": "2021-06-29T04:14:27.783747Z",
     "start_time": "2021-06-29T04:14:27.756481Z"
    }
   },
   "outputs": [
    {
     "data": {
      "text/plain": [
       "President                           2492\n",
       "Television                          1974\n",
       "Car                                 1612\n",
       "Radio                               1588\n",
       "Telephone                           1480\n",
       "Drama                               1312\n",
       "National Basketball Association     1238\n",
       "Internet                            1136\n",
       "Entertainment                       1066\n",
       "Facebook                            1058\n",
       "Reading                             1038\n",
       "Basketball                          1028\n",
       "Government                           906\n",
       "Football                             894\n",
       "Travel                               886\n",
       "Netflix                              880\n",
       "Album                                858\n",
       "Dance                                810\n",
       "National Football League             800\n",
       "Concert                              780\n",
       "Baseball                             776\n",
       "Earth                                776\n",
       "Quarterback                          762\n",
       "Dog                                  738\n",
       "Celebrity                            700\n",
       "Rapping                              686\n",
       "Amazon (company)                     610\n",
       "Comedy                               610\n",
       "White House                          584\n",
       "Horror film                          560\n",
       "YouTube                              554\n",
       "Republican Party (United States)     550\n",
       "Sun                                  500\n",
       "Clothing                             492\n",
       "Association football                 488\n",
       "Google                               486\n",
       "LeBron James                         456\n",
       "Animal                               454\n",
       "Computer                             452\n",
       "Human                                418\n",
       "Fox News                             410\n",
       "Planet                               374\n",
       "Fish                                 362\n",
       "Jazz                                 356\n",
       "Comedy film                          346\n",
       "Election                             344\n",
       "Fantasy                              342\n",
       "Guitar                               312\n",
       "United States Senate                 310\n",
       "Voting                               306\n",
       "Name: data, dtype: int64"
      ]
     },
     "execution_count": 11,
     "metadata": {},
     "output_type": "execute_result"
    }
   ],
   "source": [
    "train_reading_set[train_reading_set['fact_type'] == \"entity\"]['data'].value_counts().head(50)"
   ]
  },
  {
   "cell_type": "markdown",
   "id": "aa6aedaa",
   "metadata": {},
   "source": [
    "Some generic terms and entities are overrepresented (this apparently is representative of conversations that users had with Alexa Prize systems)."
   ]
  },
  {
   "cell_type": "markdown",
   "id": "5141be96",
   "metadata": {},
   "source": [
    "### Fun Facts"
   ]
  },
  {
   "cell_type": "code",
   "execution_count": 14,
   "id": "082d46de",
   "metadata": {
    "ExecuteTime": {
     "end_time": "2021-06-29T04:18:05.679783Z",
     "start_time": "2021-06-29T04:18:05.575498Z"
    },
    "scrolled": false
   },
   "outputs": [
    {
     "data": {
      "text/plain": [
       "there is a website where you can listen to thousands of episodes of classic radio dramas for free                                                                                                                                                                                             2559\n",
       "the President of Indonesia has released 3 pop albums while in office                                                                                                                                                                                                                          2235\n",
       "the first President of Zimbabwe was called President Banana                                                                                                                                                                                                                                   2183\n",
       "the top three wealthiest presidents in American history were JFK, Washington, and Jefferson                                                                                                                                                                                                   2183\n",
       "the U.S. President's Guest House is larger than the White House                                                                                                                                                                                                                               2183\n",
       "until 1805 in the US, the runner up in a presidential election automatically became the vice president                                                                                                                                                                                        2183\n",
       "there is only one episode of \"The Simpsons\" where Bart neither appears, nor is mentioned                                                                                                                                                                                                      1711\n",
       "when South Park aired its family guy episode finale the producers received flowers from The Simpsons crew                                                                                                                                                                                     1711\n",
       "Ringo Starr, George Carlin, and Alec Baldwin have all narrated Thomas the Tank Engine for at least 52 episodes each                                                                                                                                                                           1711\n",
       "70's Show was remade verbatim in the UK. 'Days like these' was cancelled after 10 episodes.                                                                                                                                                                                                   1711\n",
       "There are over 750 episodes of \"Pokémon.\" That's about 50 a year for 16 years straight.                                                                                                                                                                                                       1711\n",
       "[#26 Score:167 Comments:24] - TIL - The trunk of your car is called that because old cars used to have wooden trunks on the back.                                                                                                                                                             1428\n",
       "McDonalds' added drive-thru in 1975 to accommodate soldiers who were not allowed to get out of their cars while wearing their fatigues.                                                                                                                                                       1428\n",
       "Jann Mardenborough became a professional race car driver by beating 90,000 people in the video game gran turismo.                                                                                                                                                                             1428\n",
       "It is legal in South-Africa to equip your car with flame-throwers to prevent carjacking.                                                                                                                                                                                                      1428\n",
       "the car brand Cadillac was named after French explorer Antoine de la Mothe Cadillac who founded Detroit.                                                                                                                                                                                      1428\n",
       "That since 1989 a Finnish radio station has broadcast 'Nuntii Latini' - a weekly news programme conducted entirely in Classical Latin                                                                                                                                                         1399\n",
       "soldiers in WWII made simple radios using a razorblade and pencil as the diode, dubbing them Foxhole Radios.                                                                                                                                                                                  1399\n",
       "Jupiter has radio storms so strong that they can be picked up and heard by an AM radio.                                                                                                                                                                                                       1399\n",
       "according to Canadian law, all radios are required to have at least 40% of the music played be Canadian.                                                                                                                                                                                      1399\n",
       "it is impossible to separate two phonebooks that simply have their pages overlapped together!                                                                                                                                                                                                 1314\n",
       "New York's area code is 212 because it was the fastest number to dial on a rotary phone                                                                                                                                                                                                       1314\n",
       "unicef will donate a day of clean water to a child in need for every minute you do not use your cell phone.                                                                                                                                                                                   1314\n",
       "The cables carrying phone and internet data across oceans are only 2.7 inches in diameter and just lay on the ocean floor.                                                                                                                                                                    1314\n",
       "an iPhone has more computing power than the entire US nuclear ICBM deterrent.                                                                                                                                                                                                                 1314\n",
       "Netflix and YouTube together make up half of peak Internet traffic in North America                                                                                                                                                                                                           1254\n",
       "Jim Carrey doesn't make dramas any more because his beilef system prevents him from playing in movies that don't project positivity                                                                                                                                                           1160\n",
       "Hugh Laurie is the highest paid actor ever for TV drama, earning $700,000 PER EPISODE in House                                                                                                                                                                                                1160\n",
       "Jon Hamm taught drama at his old high school. One of his students was Ellie Kemper, Erin from The Office.                                                                                                                                                                                     1160\n",
       "Michael Caine became an actor because all the prettiest girls at his school were in drama class.                                                                                                                                                                                              1160\n",
       "air jordan's were banned upon introduction by the NBA. However, Jordan wore them anyways, as Nike was willing to pay the fine each game.                                                                                                                                                      1071\n",
       "Tim Duncan of the San Antonio Spurs sacrificed money and stayed in college for four years instead of going directly to the NBA because in her last days, his dying mother made him promise to graduate college with a degree.                                                                 1065\n",
       "NBA player Allen Iverson signed a lifetime endorsement contract with Reebok in 2001 that would pay him $800,000 a year until he reaches age 55 to where he would then receive a final lump sum payment of $32,000,000.                                                                        1065\n",
       "physicists proved that shooting \"granny style\" is the absolute best technique to consistently score points on the line, but NBA players refuse to do it because it looks stupid.                                                                                                              1065\n",
       "Reggie Miller, NBA Hall of Famer, couldn't escape his older sister Cheryl's shadow while in high school. On January 26, 1982, he scored a career high 40 points. He tried bragging about it on the car ride home, only to find out Cheryl scored 105 points and broken 8 national records!    1065\n",
       "Judge Judy makes $123,000 per episode, making her the highest paid celebrity only after Lebron James.                                                                                                                                                                                         1001\n",
       "Constant novelty from clicking links on the internet can cause real addiction measurable in the brain                                                                                                                                                                                          993\n",
       "The 3 horizontal line menu on apps and websites is called a hamburger button.                                                                                                                                                                                                                  993\n",
       "7% of people read the full terms when buying a product or service on the Internet.                                                                                                                                                                                                             993\n",
       "the current Library of Alexandria has a saved copy of the internet in case the internet burns down.                                                                                                                                                                                            993\n",
       "There is 3G cell service and internet capabilities at the peak of Mt. Everest.                                                                                                                                                                                                                 993\n",
       "Bill Nye \"the science guy\" got his break in entertainment by winning a steve martin lookalike contest.                                                                                                                                                                                         974\n",
       "the Nintendo Entertainment System could display only 54 colors.                                                                                                                                                                                                                                974\n",
       "when Caesar visited Britain, around 50BC, he noted that its people bred chickens not for food, but for entertainment                                                                                                                                                                           974\n",
       "Ronald Reagan was once rejected for a movie role because an entertainment executive didn't think he had \"that presidential look.\"                                                                                                                                                              974\n",
       "the Nintendo Entertainment System was finally discontinued in September of 2003 in Japan.                                                                                                                                                                                                      974\n",
       "CS Lewis and Tolkien held \"you laugh you lose\" competitions when reading terrible poetry                                                                                                                                                                                                       938\n",
       "professional ballet dancers can go through 4 pairs of pointe shoes in a week.                                                                                                                                                                                                                  925\n",
       "in 39 out of 50 states, the highest paid state employee is either a college football or basketball coach.                                                                                                                                                                                      920\n",
       "Kareem Abdul-Jabbar's dominant use of the dunk got the shot banned from college basketball for over a decade.                                                                                                                                                                                  920\n",
       "Name: list_data, dtype: int64"
      ]
     },
     "execution_count": 14,
     "metadata": {},
     "output_type": "execute_result"
    }
   ],
   "source": [
    "train_reading_set[train_reading_set['fact_type'] == \"fun_facts\"][\"list_data\"].explode().value_counts().head(50)"
   ]
  },
  {
   "cell_type": "markdown",
   "id": "80e867ae",
   "metadata": {},
   "source": [
    "The fun fact distribution is distributed similarly as the entities themselves."
   ]
  },
  {
   "cell_type": "code",
   "execution_count": null,
   "id": "1c089ff2",
   "metadata": {},
   "outputs": [],
   "source": []
  }
 ],
 "metadata": {
  "kernelspec": {
   "display_name": "dstc9",
   "language": "python",
   "name": "dstc9"
  },
  "language_info": {
   "codemirror_mode": {
    "name": "ipython",
    "version": 3
   },
   "file_extension": ".py",
   "mimetype": "text/x-python",
   "name": "python",
   "nbconvert_exporter": "python",
   "pygments_lexer": "ipython3",
   "version": "3.8.5"
  },
  "toc": {
   "base_numbering": 1,
   "nav_menu": {},
   "number_sections": true,
   "sideBar": true,
   "skip_h1_title": false,
   "title_cell": "Table of Contents",
   "title_sidebar": "Contents",
   "toc_cell": false,
   "toc_position": {},
   "toc_section_display": true,
   "toc_window_display": false
  },
  "varInspector": {
   "cols": {
    "lenName": 16,
    "lenType": 16,
    "lenVar": 40
   },
   "kernels_config": {
    "python": {
     "delete_cmd_postfix": "",
     "delete_cmd_prefix": "del ",
     "library": "var_list.py",
     "varRefreshCmd": "print(var_dic_list())"
    },
    "r": {
     "delete_cmd_postfix": ") ",
     "delete_cmd_prefix": "rm(",
     "library": "var_list.r",
     "varRefreshCmd": "cat(var_dic_list()) "
    }
   },
   "types_to_exclude": [
    "module",
    "function",
    "builtin_function_or_method",
    "instance",
    "_Feature"
   ],
   "window_display": false
  }
 },
 "nbformat": 4,
 "nbformat_minor": 5
}
