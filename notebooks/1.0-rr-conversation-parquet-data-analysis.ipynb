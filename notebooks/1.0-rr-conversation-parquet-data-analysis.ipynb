{
 "cells": [
  {
   "cell_type": "markdown",
   "metadata": {},
   "source": [
    "# Topical Chats Parquet Validation"
   ]
  },
  {
   "cell_type": "markdown",
   "metadata": {},
   "source": [
    "Since the preprocessing steps are more or less identical for all splits, we only examine how the train split is setup."
   ]
  },
  {
   "cell_type": "code",
   "execution_count": 44,
   "metadata": {
    "ExecuteTime": {
     "end_time": "2021-06-28T06:31:06.810082Z",
     "start_time": "2021-06-28T06:31:06.807490Z"
    }
   },
   "outputs": [],
   "source": [
    "import fasttext\n",
    "import matplotlib.pyplot as plt\n",
    "import pandas as pd\n",
    "\n",
    "from collections import Counter"
   ]
  },
  {
   "cell_type": "markdown",
   "metadata": {},
   "source": [
    "## Load Data"
   ]
  },
  {
   "cell_type": "code",
   "execution_count": 2,
   "metadata": {
    "ExecuteTime": {
     "end_time": "2021-06-28T04:41:57.861421Z",
     "start_time": "2021-06-28T04:41:57.179412Z"
    },
    "scrolled": false
   },
   "outputs": [],
   "source": [
    "train_data = pd.read_parquet(\"../data/intermediate/topical_chat_parquet/conversations/train.parquet\")"
   ]
  },
  {
   "cell_type": "markdown",
   "metadata": {},
   "source": [
    "### View Sample Rows"
   ]
  },
  {
   "cell_type": "code",
   "execution_count": 3,
   "metadata": {
    "ExecuteTime": {
     "end_time": "2021-06-28T04:41:58.550949Z",
     "start_time": "2021-06-28T04:41:58.521104Z"
    }
   },
   "outputs": [
    {
     "data": {
      "text/html": [
       "<div>\n",
       "<style scoped>\n",
       "    .dataframe tbody tr th:only-of-type {\n",
       "        vertical-align: middle;\n",
       "    }\n",
       "\n",
       "    .dataframe tbody tr th {\n",
       "        vertical-align: top;\n",
       "    }\n",
       "\n",
       "    .dataframe thead th {\n",
       "        text-align: right;\n",
       "    }\n",
       "</style>\n",
       "<table border=\"1\" class=\"dataframe\">\n",
       "  <thead>\n",
       "    <tr style=\"text-align: right;\">\n",
       "      <th></th>\n",
       "      <th>conversation_id</th>\n",
       "      <th>turn_index</th>\n",
       "      <th>message</th>\n",
       "      <th>agent</th>\n",
       "      <th>sentiment</th>\n",
       "      <th>knowledge_source</th>\n",
       "      <th>turn_rating</th>\n",
       "    </tr>\n",
       "  </thead>\n",
       "  <tbody>\n",
       "    <tr>\n",
       "      <th>0</th>\n",
       "      <td>t_bde29ce2-4153-4056-9eb7-f4ad710505fe</td>\n",
       "      <td>1</td>\n",
       "      <td>Are you a fan of Google or Microsoft?</td>\n",
       "      <td>agent_1</td>\n",
       "      <td>Curious to dive deeper</td>\n",
       "      <td>[FS1]</td>\n",
       "      <td>Good</td>\n",
       "    </tr>\n",
       "    <tr>\n",
       "      <th>1</th>\n",
       "      <td>t_bde29ce2-4153-4056-9eb7-f4ad710505fe</td>\n",
       "      <td>2</td>\n",
       "      <td>Both are excellent technology they are helpful...</td>\n",
       "      <td>agent_2</td>\n",
       "      <td>Curious to dive deeper</td>\n",
       "      <td>[FS1]</td>\n",
       "      <td>Excellent</td>\n",
       "    </tr>\n",
       "    <tr>\n",
       "      <th>2</th>\n",
       "      <td>t_bde29ce2-4153-4056-9eb7-f4ad710505fe</td>\n",
       "      <td>3</td>\n",
       "      <td>I'm not  a huge fan of Google, but I use it a ...</td>\n",
       "      <td>agent_1</td>\n",
       "      <td>Curious to dive deeper</td>\n",
       "      <td>[FS1]</td>\n",
       "      <td>Good</td>\n",
       "    </tr>\n",
       "    <tr>\n",
       "      <th>3</th>\n",
       "      <td>t_bde29ce2-4153-4056-9eb7-f4ad710505fe</td>\n",
       "      <td>4</td>\n",
       "      <td>Google provides online related services and pr...</td>\n",
       "      <td>agent_2</td>\n",
       "      <td>Curious to dive deeper</td>\n",
       "      <td>[FS1]</td>\n",
       "      <td>Excellent</td>\n",
       "    </tr>\n",
       "    <tr>\n",
       "      <th>4</th>\n",
       "      <td>t_bde29ce2-4153-4056-9eb7-f4ad710505fe</td>\n",
       "      <td>5</td>\n",
       "      <td>Yeah, their services are good. I'm just not a ...</td>\n",
       "      <td>agent_1</td>\n",
       "      <td>Curious to dive deeper</td>\n",
       "      <td>[FS1]</td>\n",
       "      <td>Good</td>\n",
       "    </tr>\n",
       "  </tbody>\n",
       "</table>\n",
       "</div>"
      ],
      "text/plain": [
       "                          conversation_id  turn_index  \\\n",
       "0  t_bde29ce2-4153-4056-9eb7-f4ad710505fe           1   \n",
       "1  t_bde29ce2-4153-4056-9eb7-f4ad710505fe           2   \n",
       "2  t_bde29ce2-4153-4056-9eb7-f4ad710505fe           3   \n",
       "3  t_bde29ce2-4153-4056-9eb7-f4ad710505fe           4   \n",
       "4  t_bde29ce2-4153-4056-9eb7-f4ad710505fe           5   \n",
       "\n",
       "                                             message    agent  \\\n",
       "0              Are you a fan of Google or Microsoft?  agent_1   \n",
       "1  Both are excellent technology they are helpful...  agent_2   \n",
       "2  I'm not  a huge fan of Google, but I use it a ...  agent_1   \n",
       "3  Google provides online related services and pr...  agent_2   \n",
       "4  Yeah, their services are good. I'm just not a ...  agent_1   \n",
       "\n",
       "                sentiment knowledge_source turn_rating  \n",
       "0  Curious to dive deeper            [FS1]        Good  \n",
       "1  Curious to dive deeper            [FS1]   Excellent  \n",
       "2  Curious to dive deeper            [FS1]        Good  \n",
       "3  Curious to dive deeper            [FS1]   Excellent  \n",
       "4  Curious to dive deeper            [FS1]        Good  "
      ]
     },
     "execution_count": 3,
     "metadata": {},
     "output_type": "execute_result"
    }
   ],
   "source": [
    "train_data.head()"
   ]
  },
  {
   "cell_type": "markdown",
   "metadata": {},
   "source": [
    "### Basic Type Info"
   ]
  },
  {
   "cell_type": "code",
   "execution_count": 4,
   "metadata": {
    "ExecuteTime": {
     "end_time": "2021-06-28T04:42:00.235398Z",
     "start_time": "2021-06-28T04:42:00.157428Z"
    }
   },
   "outputs": [
    {
     "name": "stdout",
     "output_type": "stream",
     "text": [
      "<class 'pandas.core.frame.DataFrame'>\n",
      "RangeIndex: 188378 entries, 0 to 188377\n",
      "Data columns (total 7 columns):\n",
      " #   Column            Non-Null Count   Dtype \n",
      "---  ------            --------------   ----- \n",
      " 0   conversation_id   188378 non-null  object\n",
      " 1   turn_index        188378 non-null  int64 \n",
      " 2   message           188378 non-null  object\n",
      " 3   agent             188378 non-null  object\n",
      " 4   sentiment         188378 non-null  object\n",
      " 5   knowledge_source  188378 non-null  object\n",
      " 6   turn_rating       188378 non-null  object\n",
      "dtypes: int64(1), object(6)\n",
      "memory usage: 10.1+ MB\n"
     ]
    }
   ],
   "source": [
    "train_data.info()"
   ]
  },
  {
   "cell_type": "code",
   "execution_count": 16,
   "metadata": {
    "ExecuteTime": {
     "end_time": "2021-06-28T04:52:29.980577Z",
     "start_time": "2021-06-28T04:52:29.947804Z"
    }
   },
   "outputs": [
    {
     "data": {
      "text/html": [
       "<div>\n",
       "<style scoped>\n",
       "    .dataframe tbody tr th:only-of-type {\n",
       "        vertical-align: middle;\n",
       "    }\n",
       "\n",
       "    .dataframe tbody tr th {\n",
       "        vertical-align: top;\n",
       "    }\n",
       "\n",
       "    .dataframe thead th {\n",
       "        text-align: right;\n",
       "    }\n",
       "</style>\n",
       "<table border=\"1\" class=\"dataframe\">\n",
       "  <thead>\n",
       "    <tr style=\"text-align: right;\">\n",
       "      <th></th>\n",
       "      <th>turn_index</th>\n",
       "    </tr>\n",
       "  </thead>\n",
       "  <tbody>\n",
       "    <tr>\n",
       "      <th>count</th>\n",
       "      <td>188378.000000</td>\n",
       "    </tr>\n",
       "    <tr>\n",
       "      <th>mean</th>\n",
       "      <td>11.486724</td>\n",
       "    </tr>\n",
       "    <tr>\n",
       "      <th>std</th>\n",
       "      <td>6.452915</td>\n",
       "    </tr>\n",
       "    <tr>\n",
       "      <th>min</th>\n",
       "      <td>1.000000</td>\n",
       "    </tr>\n",
       "    <tr>\n",
       "      <th>25%</th>\n",
       "      <td>6.000000</td>\n",
       "    </tr>\n",
       "    <tr>\n",
       "      <th>50%</th>\n",
       "      <td>11.000000</td>\n",
       "    </tr>\n",
       "    <tr>\n",
       "      <th>75%</th>\n",
       "      <td>17.000000</td>\n",
       "    </tr>\n",
       "    <tr>\n",
       "      <th>max</th>\n",
       "      <td>53.000000</td>\n",
       "    </tr>\n",
       "  </tbody>\n",
       "</table>\n",
       "</div>"
      ],
      "text/plain": [
       "          turn_index\n",
       "count  188378.000000\n",
       "mean       11.486724\n",
       "std         6.452915\n",
       "min         1.000000\n",
       "25%         6.000000\n",
       "50%        11.000000\n",
       "75%        17.000000\n",
       "max        53.000000"
      ]
     },
     "execution_count": 16,
     "metadata": {},
     "output_type": "execute_result"
    }
   ],
   "source": [
    "train_data.describe()"
   ]
  },
  {
   "cell_type": "markdown",
   "metadata": {},
   "source": [
    "### Any Missing Data?"
   ]
  },
  {
   "cell_type": "code",
   "execution_count": 17,
   "metadata": {
    "ExecuteTime": {
     "end_time": "2021-06-28T04:53:32.840365Z",
     "start_time": "2021-06-28T04:53:32.801034Z"
    }
   },
   "outputs": [
    {
     "data": {
      "text/plain": [
       "conversation_id     0\n",
       "turn_index          0\n",
       "message             0\n",
       "agent               0\n",
       "sentiment           0\n",
       "knowledge_source    0\n",
       "turn_rating         0\n",
       "dtype: int64"
      ]
     },
     "execution_count": 17,
     "metadata": {},
     "output_type": "execute_result"
    }
   ],
   "source": [
    "train_data.isna().sum()"
   ]
  },
  {
   "cell_type": "markdown",
   "metadata": {},
   "source": [
    "### Validate that `knowledge_source` is read as an array type"
   ]
  },
  {
   "cell_type": "code",
   "execution_count": 5,
   "metadata": {
    "ExecuteTime": {
     "end_time": "2021-06-28T04:42:01.520257Z",
     "start_time": "2021-06-28T04:42:01.509923Z"
    }
   },
   "outputs": [
    {
     "data": {
      "text/plain": [
       "'FS1'"
      ]
     },
     "execution_count": 5,
     "metadata": {},
     "output_type": "execute_result"
    }
   ],
   "source": [
    "train_data['knowledge_source'][0][0]"
   ]
  },
  {
   "cell_type": "markdown",
   "metadata": {},
   "source": [
    "### Conversation turn length descriptive statistics"
   ]
  },
  {
   "cell_type": "code",
   "execution_count": 9,
   "metadata": {
    "ExecuteTime": {
     "end_time": "2021-06-28T04:42:38.215083Z",
     "start_time": "2021-06-28T04:42:38.128052Z"
    },
    "scrolled": true
   },
   "outputs": [
    {
     "data": {
      "text/plain": [
       "count    8628.000000\n",
       "mean       21.833333\n",
       "std         1.749144\n",
       "min        20.000000\n",
       "25%        21.000000\n",
       "50%        21.000000\n",
       "75%        22.000000\n",
       "max        53.000000\n",
       "Name: conversation_id, dtype: float64"
      ]
     },
     "execution_count": 9,
     "metadata": {},
     "output_type": "execute_result"
    }
   ],
   "source": [
    "train_data[\"conversation_id\"].value_counts().describe()"
   ]
  },
  {
   "cell_type": "markdown",
   "metadata": {},
   "source": [
    "Most turn lengths are approximately in the `[20,22]` range."
   ]
  },
  {
   "cell_type": "markdown",
   "metadata": {},
   "source": [
    "### Turn Length Distribution"
   ]
  },
  {
   "cell_type": "code",
   "execution_count": 15,
   "metadata": {
    "ExecuteTime": {
     "end_time": "2021-06-28T04:45:30.125907Z",
     "start_time": "2021-06-28T04:45:29.995537Z"
    }
   },
   "outputs": [
    {
     "data": {
      "image/png": "[encoded data removed]",
      "text/plain": [
       "<Figure size 432x288 with 1 Axes>"
      ]
     },
     "metadata": {
      "needs_background": "light"
     },
     "output_type": "display_data"
    }
   ],
   "source": [
    "train_data[\"conversation_id\"].value_counts().hist(bins=[20, 21, 22, 23, 24, 25, 30])\n",
    "plt.xlabel('Turn Length')\n",
    "plt.ylabel('Count')\n",
    "plt.title('Turn length distribution')\n",
    "\n",
    "plt.show()"
   ]
  },
  {
   "cell_type": "markdown",
   "metadata": {},
   "source": [
    "The length of a topical chat turn is very controlled. All conversations are of at least 20 turns minimum."
   ]
  },
  {
   "cell_type": "markdown",
   "metadata": {},
   "source": [
    "## Field Analysis"
   ]
  },
  {
   "cell_type": "markdown",
   "metadata": {},
   "source": [
    "### `agent`"
   ]
  },
  {
   "cell_type": "code",
   "execution_count": 18,
   "metadata": {
    "ExecuteTime": {
     "end_time": "2021-06-28T05:01:20.086743Z",
     "start_time": "2021-06-28T05:01:20.052710Z"
    }
   },
   "outputs": [
    {
     "data": {
      "text/plain": [
       "agent_1    97204\n",
       "agent_2    91174\n",
       "Name: agent, dtype: int64"
      ]
     },
     "execution_count": 18,
     "metadata": {},
     "output_type": "execute_result"
    }
   ],
   "source": [
    "train_data['agent'].value_counts()"
   ]
  },
  {
   "cell_type": "markdown",
   "metadata": {},
   "source": [
    "Somewhat evenly distributed turns. We'd expect most of the turns to be paired"
   ]
  },
  {
   "cell_type": "markdown",
   "metadata": {},
   "source": [
    "### `sentiment`"
   ]
  },
  {
   "cell_type": "code",
   "execution_count": 19,
   "metadata": {
    "ExecuteTime": {
     "end_time": "2021-06-28T05:02:24.161811Z",
     "start_time": "2021-06-28T05:02:24.120895Z"
    }
   },
   "outputs": [
    {
     "data": {
      "text/plain": [
       "Curious to dive deeper    80888\n",
       "Neutral                   41367\n",
       "Surprised                 30638\n",
       "Happy                     29617\n",
       "Sad                        2533\n",
       "Disgusted                  1433\n",
       "Fearful                    1026\n",
       "Angry                       876\n",
       "Name: sentiment, dtype: int64"
      ]
     },
     "execution_count": 19,
     "metadata": {},
     "output_type": "execute_result"
    }
   ],
   "source": [
    "train_data['sentiment'].value_counts()"
   ]
  },
  {
   "cell_type": "markdown",
   "metadata": {},
   "source": [
    "Most turns (~122k out of ~188k) don't have an associated sentiment. Do these sentiment labels make sense?"
   ]
  },
  {
   "cell_type": "markdown",
   "metadata": {},
   "source": [
    "#### Examples of each type"
   ]
  },
  {
   "cell_type": "markdown",
   "metadata": {},
   "source": [
    "##### Surprised"
   ]
  },
  {
   "cell_type": "code",
   "execution_count": 32,
   "metadata": {
    "ExecuteTime": {
     "end_time": "2021-06-28T05:11:03.468256Z",
     "start_time": "2021-06-28T05:11:03.424946Z"
    }
   },
   "outputs": [
    {
     "name": "stdout",
     "output_type": "stream",
     "text": [
      "Huh, I'm not into Bill murray. So I wonder why he likes it.\n",
      "\n",
      "snowboarding in the rainforest? I'm assuming you mean Norway haha, idk I haven't been to either\n",
      "\n",
      "If it doesnt spin,  is some of the planet forever in the dark? \n",
      "\n",
      "Yep I agree with you. I'm just glad we live in present-day where we have access to video games. And we don't live back in 50 BC where people are using chickens for entertainment LOL\n",
      "\n",
      "No, my son is into these Star Wars cartoons at the moment.  I hear there 750 episodes of Pokemon, I don't feel that there is a need for that much.  \n",
      "\n",
      "I very rarely visit that site!  I usually get my knew from the local newspaper.  I am learning a lot here though... like there is no rule against female players playing in the NFL.\n",
      "\n",
      "I didn't know that either. An iPhone has more computing power than the entire US nuclear ICBM deterrent systme.\n",
      "\n",
      "I wonder what the difference is?  Teddy Roosevelt had over 20 pets.  I didn't know this, but he had a bear (teddy bear).\n",
      "\n",
      "Seahorses!\n",
      "\n",
      "Yes I agree with you there. It gives me hope in the human race haha. I wish that I had a library like in Sacramento, where you can rent things like sewing machines and other useful short-term stuff\n",
      "\n"
     ]
    }
   ],
   "source": [
    "examples = train_data[train_data['sentiment'] == \"Surprised\"]['message'].sample(10)\n",
    "\n",
    "for example in examples:\n",
    "    print(example)\n",
    "    print()"
   ]
  },
  {
   "cell_type": "markdown",
   "metadata": {},
   "source": [
    "##### Happy"
   ]
  },
  {
   "cell_type": "code",
   "execution_count": 33,
   "metadata": {
    "ExecuteTime": {
     "end_time": "2021-06-28T05:11:09.336243Z",
     "start_time": "2021-06-28T05:11:09.302262Z"
    }
   },
   "outputs": [
    {
     "name": "stdout",
     "output_type": "stream",
     "text": [
      "I have no idea? Was JFK one. I know his dad was wealthy.\n",
      "\n",
      "Yeah... He has enough to buy IMDB. I had no clue...\n",
      "\n",
      "Yea I think it was due to the success of their debut album.\n",
      "\n",
      "I traveled many place. But my favorite travel place is paris. What about you?\n",
      "\n",
      "That's odd. Soldier field is just ok. The Shedd is really good though. Where else, besides chicago do you like going?\n",
      "\n",
      "hahaha My dog doesn't like snakes.  He should be a New Zealand dog since there are no snakes there!\n",
      "\n",
      "oh...very nice explanation. \n",
      "\n",
      "I think they have been accused of that. lol  The percentage of airtime on Fox news dedicated to opinion is 55%...for MSNBC it's 85%!\n",
      "\n",
      "Nice chatting with you too!! Have a good one!\n",
      "\n",
      "Have you heard of the Guttenberg project? So many books whose copyrights have expired are fully uploaded to that site!\n",
      "\n"
     ]
    }
   ],
   "source": [
    "examples = train_data[train_data['sentiment'] == \"Happy\"]['message'].sample(10)\n",
    "\n",
    "for example in examples:\n",
    "    print(example)\n",
    "    print()"
   ]
  },
  {
   "cell_type": "markdown",
   "metadata": {},
   "source": [
    "##### Sad"
   ]
  },
  {
   "cell_type": "code",
   "execution_count": 34,
   "metadata": {
    "ExecuteTime": {
     "end_time": "2021-06-28T05:11:16.028571Z",
     "start_time": "2021-06-28T05:11:15.995133Z"
    }
   },
   "outputs": [
    {
     "name": "stdout",
     "output_type": "stream",
     "text": [
      "Yes that was horrible.  He was gunned down while biking!\n",
      "\n",
      "Oh I see so you must relate to the article as well, its hard when you are all alone in your home and your kids are gone\n",
      "\n",
      "Also, then we'd run out of jobs ... yeah the math gets wonky there.\n",
      "\n",
      "Are you interested in cars? I did not know that Benz was the inventor of the  auto. Did you?\n",
      "\n",
      "She's the author of \"For Colored Girls\". Sadly, she disappeared for a bit due to decades of physical and mental health challenges.\n",
      "\n",
      "I do not own one as my dad was allergic to them when I was a child. Now, I am slightly afraid to get a dog as I have no clue how to take care of them.\n",
      "\n",
      "I feel bad for those that work in their warehouses, having to walk 7 to 15 miles a day, and not for much reimbursement.\n",
      "\n",
      "I would feel bad for him, he invents something, then everybody is better than him. I wonder if he regrets inventing it. \n",
      "\n",
      "So very sad. It makes me scared for when my kids need to go to school.\n",
      "\n",
      "Maybe because the players are who the fans come to see?  I do think it seems archaic in a league that has no rule against a woman actually playing. \n",
      "\n"
     ]
    }
   ],
   "source": [
    "examples = train_data[train_data['sentiment'] == \"Sad\"]['message'].sample(10)\n",
    "\n",
    "for example in examples:\n",
    "    print(example)\n",
    "    print()"
   ]
  },
  {
   "cell_type": "markdown",
   "metadata": {},
   "source": [
    "##### Disgusted"
   ]
  },
  {
   "cell_type": "code",
   "execution_count": 35,
   "metadata": {
    "ExecuteTime": {
     "end_time": "2021-06-28T05:11:22.453194Z",
     "start_time": "2021-06-28T05:11:22.416660Z"
    }
   },
   "outputs": [
    {
     "name": "stdout",
     "output_type": "stream",
     "text": [
      "Agreed. American Idol used to be one of my favorite shows when I was younger. It used to be mainly about the singing, now it's about the frills and diversions. \n",
      "\n",
      "But he also drummed on cardboard boxes and beat rolled-up newspapers against the studio walls in place of snare drums.“I’d just grab whatever was in the studio and try to get a groove going\n",
      "\n",
      "The problems lie in the facts that it is doing nothing but driving us deeper into debt as federal funding goes to these pointless projects that are driven in the name of research for research's sake and has no practical value. \n",
      "\n",
      "Hello! Yes I have heard it, it's terrible. I think it's indicative of a larger problem. Trump was going to speak for Cindy Hyde-Smith that same day I believe, and she made a joke recently about a \"public hanging\", it's absurd.\n",
      "\n",
      "And a lot of media corporations are trying to start their own streaming services for their content so that people will have to be nickel and dimed subscribing to a whole lot of different services, which I expect will lead to an upswing in piracy.\n",
      "\n",
      "Yes, thank you. I am well. I really like golf, but I think some courses waste way too much water in a day.\n",
      "\n",
      "It's messed up New Zeland has a team nicknamed \"tall blacks\"\n",
      "\n",
      "It most definitely is! And she made him believe the ex co worker liked him in a romantic way....ugh so horrible.\n",
      "\n",
      "I'm not sure of that, but the youtube rewind 2018 has surpassed the \"baby\" to become the most disliked video\n",
      "\n",
      "To think that most of his fans are young girls who write him letters.  I believe that it is perverted.  I mean this guy is getting hundreds of letters.  This is disturbing.  \n",
      "\n"
     ]
    }
   ],
   "source": [
    "examples = train_data[train_data['sentiment'] == \"Disgusted\"]['message'].sample(10)\n",
    "\n",
    "for example in examples:\n",
    "    print(example)\n",
    "    print()"
   ]
  },
  {
   "cell_type": "markdown",
   "metadata": {},
   "source": [
    "##### Fearful"
   ]
  },
  {
   "cell_type": "code",
   "execution_count": 36,
   "metadata": {
    "ExecuteTime": {
     "end_time": "2021-06-28T05:11:35.749741Z",
     "start_time": "2021-06-28T05:11:35.716538Z"
    }
   },
   "outputs": [
    {
     "name": "stdout",
     "output_type": "stream",
     "text": [
      "I think I might prefer Mackinac Island in Michigan which doesn't allow motorized vehicles.\n",
      "\n",
      "Maybe.  If one complains about Fox's bias then one should complain about the bias of all new channels.  They don't which reflect their own bias. \n",
      "\n",
      "It's interesting how important gun control has become, but that's because we have guns like the AR-15\n",
      "\n",
      "True. But a deadly force instructor said that it's better to only drive when you're driving, and to only shoot when you're shooting. But sometimes I guess shooting through the windshield is the only option, especially if there are bystanders\n",
      "\n",
      "It is crazy, it;s sad because they have all their lives in front of them. You know the police detained a man but didn't file charges.\n",
      "\n",
      "I think that lowering the price on drugs will make the people consume more and wont change things it all, it will only make things worse.\n",
      "\n",
      "Great! Hope you're doing well! Did you hear about Jonathan Bennet ambushing police in Charlotte? That was an intense situation!\n",
      "\n",
      "That is a lot of land!  you know there is a golf course in Australia that has sharks living in one of its water hazards holes, that must be really scary.\n",
      "\n",
      "ya that is true, I'm just glad our president isn't like China, where they literally censored the word censorship\n",
      "\n",
      "Massively large and scary while being the most important energy source for life on Earth lol\n",
      "\n"
     ]
    }
   ],
   "source": [
    "examples = train_data[train_data['sentiment'] == \"Fearful\"]['message'].sample(10)\n",
    "\n",
    "for example in examples:\n",
    "    print(example)\n",
    "    print()"
   ]
  },
  {
   "cell_type": "markdown",
   "metadata": {},
   "source": [
    "##### Angry"
   ]
  },
  {
   "cell_type": "code",
   "execution_count": 37,
   "metadata": {
    "ExecuteTime": {
     "end_time": "2021-06-28T05:12:13.598745Z",
     "start_time": "2021-06-28T05:12:13.562814Z"
    },
    "scrolled": false
   },
   "outputs": [
    {
     "name": "stdout",
     "output_type": "stream",
     "text": [
      "Probably. The whole situation is just bad. Like who thinks that comments like that are okay especially in this day and age!?\n",
      "\n",
      "And they are situated in New-York, I would have thought that would be situated in in the deep south, for me, they will sound even stranger when they blame the NY elite. \n",
      "\n",
      "I am not a fan of Mitch McConnell.  The senate majority leader has gone somewhat nuts.\n",
      "\n",
      "Did you hear Russia gave delegates and heads of state thumb drives and charges that had viruses\n",
      "\n",
      "I have many but I would have to go with the Corvette.  I would just have to remember not to warm it up in Ohio. \n",
      "\n",
      "That is horrible. It killed 48 people and it seems that isn't the first time it has happened either. \n",
      "\n",
      "Oh my! I didn't realize with all the more recent bailouts I've been hearing bout\n",
      "\n",
      "I would change the locks and cut off contact if he was my son.  Sometimes tough love is the way to go.  Everything else has not worked yet.\n",
      "\n",
      "Yes, that one is quite travel-friendly. What I don't really like is Amazon's patent on 1-click buying which Apple actually pays a licensing fee for. It makes purchasing way too convenient\n",
      "\n",
      "I see.  Not surprised.  Good ol' oil. We stomp on anyone to get that sweet black texas tea.  If it weren't for the fact checkers in the media, we'd have taken over the world for it by now\n",
      "\n"
     ]
    }
   ],
   "source": [
    "examples = train_data[train_data['sentiment'] == \"Angry\"]['message'].sample(10)\n",
    "\n",
    "for example in examples:\n",
    "    print(example)\n",
    "    print()"
   ]
  },
  {
   "cell_type": "markdown",
   "metadata": {},
   "source": [
    "#### Validation using Empathetic Dialogues emotion classifier"
   ]
  },
  {
   "cell_type": "code",
   "execution_count": 39,
   "metadata": {
    "ExecuteTime": {
     "end_time": "2021-06-28T06:29:56.831139Z",
     "start_time": "2021-06-28T06:25:16.298115Z"
    },
    "scrolled": true
   },
   "outputs": [
    {
     "name": "stdout",
     "output_type": "stream",
     "text": [
      "--2021-06-27 23:25:16--  https://dl.fbaipublicfiles.com/parlai/empatheticdialogues/models/fasttext_empathetic_dialogues.mdl\n",
      "Resolving dl.fbaipublicfiles.com (dl.fbaipublicfiles.com)... 2606:4700:10::6816:4b8e, 2606:4700:10::ac43:904, 2606:4700:10::6816:4a8e, ...\n",
      "Connecting to dl.fbaipublicfiles.com (dl.fbaipublicfiles.com)|2606:4700:10::6816:4b8e|:443... connected.\n",
      "HTTP request sent, awaiting response... 200 OK\n",
      "Length: 809096299 (772M) [application/octet-stream]\n",
      "Saving to: ‘../models/external/empathetic_dialogues/fasttext_empathetic_dialogues.mdl’\n",
      "\n",
      "fasttext_empathetic 100%[===================>] 771.61M  2.10MB/s    in 4m 40s  \n",
      "\n",
      "2021-06-27 23:29:56 (2.76 MB/s) - ‘../models/external/empathetic_dialogues/fasttext_empathetic_dialogues.mdl’ saved [809096299/809096299]\n",
      "\n"
     ]
    }
   ],
   "source": [
    "!wget https://dl.fbaipublicfiles.com/parlai/empatheticdialogues/models/fasttext_empathetic_dialogues.mdl -P ../models/external/empathetic_dialogues"
   ]
  },
  {
   "cell_type": "code",
   "execution_count": 47,
   "metadata": {
    "ExecuteTime": {
     "end_time": "2021-06-28T06:33:12.254327Z",
     "start_time": "2021-06-28T06:33:11.325581Z"
    }
   },
   "outputs": [
    {
     "name": "stderr",
     "output_type": "stream",
     "text": [
      "Warning : `load_model` does not return WordVectorModel or SupervisedModel any more, but a `FastText` object which is very similar.\n"
     ]
    }
   ],
   "source": [
    "emotion_classifier = fasttext.load_model(\"../models/external/empathetic_dialogues/fasttext_empathetic_dialogues.mdl\")"
   ]
  },
  {
   "cell_type": "code",
   "execution_count": 62,
   "metadata": {
    "ExecuteTime": {
     "end_time": "2021-06-28T06:44:04.678946Z",
     "start_time": "2021-06-28T06:44:02.638974Z"
    }
   },
   "outputs": [
    {
     "name": "stdout",
     "output_type": "stream",
     "text": [
      "True emotion: Surprised\n",
      "Most frequent predicted emotions at each position:\n",
      "[('__label__impressed', 5512), ('__label__surprised', 4757), ('__label__nostalgic', 1721), ('__label__disgusted', 1487)]\n",
      "[('__label__impressed', 3772), ('__label__surprised', 3119), ('__label__proud', 1684), ('__label__hopeful', 1474)]\n",
      "[('__label__surprised', 2433), ('__label__impressed', 2333), ('__label__hopeful', 1531), ('__label__proud', 1481)]\n",
      "\n",
      "True emotion: Happy\n",
      "Most frequent predicted emotions at each position:\n",
      "[('__label__impressed', 4969), ('__label__surprised', 2766), ('__label__content', 2027), ('__label__nostalgic', 1985)]\n",
      "[('__label__impressed', 3133), ('__label__surprised', 2190), ('__label__proud', 1772), ('__label__confident', 1681)]\n",
      "[('__label__impressed', 2244), ('__label__surprised', 1926), ('__label__joyful', 1666), ('__label__hopeful', 1631)]\n",
      "\n",
      "True emotion: Sad\n",
      "Most frequent predicted emotions at each position:\n",
      "[('__label__impressed', 203), ('__label__disappointed', 197), ('__label__surprised', 179), ('__label__sad', 175)]\n",
      "[('__label__sad', 219), ('__label__disappointed', 172), ('__label__impressed', 165), ('__label__surprised', 136)]\n",
      "[('__label__disappointed', 194), ('__label__sad', 159), ('__label__devastated', 128), ('__label__angry', 123)]\n",
      "\n",
      "True emotion: Disgusted\n",
      "Most frequent predicted emotions at each position:\n",
      "[('__label__impressed', 175), ('__label__disgusted', 132), ('__label__annoyed', 102), ('__label__surprised', 98)]\n",
      "[('__label__angry', 101), ('__label__annoyed', 95), ('__label__surprised', 87), ('__label__impressed', 85)]\n",
      "[('__label__angry', 107), ('__label__apprehensive', 89), ('__label__disgusted', 88), ('__label__impressed', 77)]\n",
      "\n",
      "True emotion: Fearful\n",
      "Most frequent predicted emotions at each position:\n",
      "[('__label__afraid', 121), ('__label__apprehensive', 117), ('__label__terrified', 108), ('__label__impressed', 68)]\n",
      "[('__label__afraid', 149), ('__label__terrified', 116), ('__label__apprehensive', 84), ('__label__hopeful', 52)]\n",
      "[('__label__apprehensive', 154), ('__label__afraid', 79), ('__label__anxious', 78), ('__label__terrified', 60)]\n",
      "\n",
      "True emotion: Angry\n",
      "Most frequent predicted emotions at each position:\n",
      "[('__label__impressed', 114), ('__label__annoyed', 73), ('__label__disgusted', 67), ('__label__surprised', 62)]\n",
      "[('__label__angry', 79), ('__label__impressed', 66), ('__label__surprised', 55), ('__label__apprehensive', 52)]\n",
      "[('__label__furious', 67), ('__label__angry', 60), ('__label__apprehensive', 58), ('__label__disappointed', 56)]\n",
      "\n"
     ]
    }
   ],
   "source": [
    "for emotion in [\"Surprised\", \"Happy\", \"Sad\", \"Disgusted\", \"Fearful\", \"Angry\"]:\n",
    "    emotion_labeled_responses = [response.replace(\"\\n\", \" \") for response in  train_data[train_data['sentiment'] == emotion]['message'].tolist()]\n",
    "    \n",
    "    predictions = emotion_classifier.predict(emotion_labeled_responses, k=3)\n",
    "    \n",
    "    top_emotion = Counter()\n",
    "    second_emotion = Counter()\n",
    "    third_emotion = Counter()\n",
    "    \n",
    "    for labels in predictions[0]:\n",
    "    \n",
    "        \n",
    "        top_emotion[labels[0]] += 1\n",
    "        second_emotion[labels[1]] += 1\n",
    "        third_emotion[labels[2]] += 1\n",
    "        \n",
    "    print(f\"True emotion: {emotion}\")\n",
    "    print(\"Most frequent predicted emotions at each position:\")\n",
    "    \n",
    "    print(top_emotion.most_common(4))\n",
    "    print(second_emotion.most_common(4))\n",
    "    print(third_emotion.most_common(4))\n",
    "    \n",
    "    print()"
   ]
  },
  {
   "cell_type": "markdown",
   "metadata": {},
   "source": [
    "A lot of the utterances seem to be classified as impressed, what's the deal?"
   ]
  },
  {
   "cell_type": "code",
   "execution_count": null,
   "metadata": {},
   "outputs": [],
   "source": []
  }
 ],
 "metadata": {
  "kernelspec": {
   "display_name": "dstc9",
   "language": "python",
   "name": "dstc9"
  },
  "language_info": {
   "codemirror_mode": {
    "name": "ipython",
    "version": 3
   },
   "file_extension": ".py",
   "mimetype": "text/x-python",
   "name": "python",
   "nbconvert_exporter": "python",
   "pygments_lexer": "ipython3",
   "version": "3.8.5"
  },
  "toc": {
   "base_numbering": 1,
   "nav_menu": {},
   "number_sections": true,
   "sideBar": true,
   "skip_h1_title": false,
   "title_cell": "Table of Contents",
   "title_sidebar": "Contents",
   "toc_cell": false,
   "toc_position": {},
   "toc_section_display": true,
   "toc_window_display": false
  },
  "varInspector": {
   "cols": {
    "lenName": 16,
    "lenType": 16,
    "lenVar": 40
   },
   "kernels_config": {
    "python": {
     "delete_cmd_postfix": "",
     "delete_cmd_prefix": "del ",
     "library": "var_list.py",
     "varRefreshCmd": "print(var_dic_list())"
    },
    "r": {
     "delete_cmd_postfix": ") ",
     "delete_cmd_prefix": "rm(",
     "library": "var_list.r",
     "varRefreshCmd": "cat(var_dic_list()) "
    }
   },
   "types_to_exclude": [
    "module",
    "function",
    "builtin_function_or_method",
    "instance",
    "_Feature"
   ],
   "window_display": false
  }
 },
 "nbformat": 4,
 "nbformat_minor": 4
}
