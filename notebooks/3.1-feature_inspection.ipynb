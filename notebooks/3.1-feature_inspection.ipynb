{
 "cells": [
  {
   "cell_type": "code",
   "execution_count": 1,
   "id": "ef2fa73d",
   "metadata": {
    "ExecuteTime": {
     "end_time": "2021-08-15T04:12:54.003574Z",
     "start_time": "2021-08-15T04:12:52.865088Z"
    }
   },
   "outputs": [],
   "source": [
    "import pandas as pd\n",
    "import sys\n",
    "import torch\n",
    "import matplotlib.pyplot as plt\n",
    "from tqdm.auto import tqdm\n",
    "import nltk\n",
    "import seaborn as sns"
   ]
  },
  {
   "cell_type": "code",
   "execution_count": 2,
   "id": "9e5fa781",
   "metadata": {
    "ExecuteTime": {
     "end_time": "2021-08-15T04:12:54.006555Z",
     "start_time": "2021-08-15T04:12:54.004827Z"
    }
   },
   "outputs": [],
   "source": [
    "sys.path.append(\"../src\")"
   ]
  },
  {
   "cell_type": "code",
   "execution_count": 3,
   "id": "297a4042",
   "metadata": {
    "ExecuteTime": {
     "end_time": "2021-08-15T04:12:55.810506Z",
     "start_time": "2021-08-15T04:12:54.007768Z"
    }
   },
   "outputs": [],
   "source": [
    "train_data = pd.read_parquet(\"../data/processed/swbd_pd_nrg/features/train.parquet\")"
   ]
  },
  {
   "cell_type": "code",
   "execution_count": 4,
   "id": "0ff1c7b3",
   "metadata": {
    "ExecuteTime": {
     "end_time": "2021-08-15T04:12:55.824588Z",
     "start_time": "2021-08-15T04:12:55.811598Z"
    }
   },
   "outputs": [
    {
     "data": {
      "text/html": [
       "<div>\n",
       "<style scoped>\n",
       "    .dataframe tbody tr th:only-of-type {\n",
       "        vertical-align: middle;\n",
       "    }\n",
       "\n",
       "    .dataframe tbody tr th {\n",
       "        vertical-align: top;\n",
       "    }\n",
       "\n",
       "    .dataframe thead th {\n",
       "        text-align: right;\n",
       "    }\n",
       "</style>\n",
       "<table border=\"1\" class=\"dataframe\">\n",
       "  <thead>\n",
       "    <tr style=\"text-align: right;\">\n",
       "      <th></th>\n",
       "      <th>context</th>\n",
       "      <th>response</th>\n",
       "      <th>knowledge</th>\n",
       "      <th>response_dialog_acts</th>\n",
       "      <th>negative_samples</th>\n",
       "    </tr>\n",
       "  </thead>\n",
       "  <tbody>\n",
       "    <tr>\n",
       "      <th>0</th>\n",
       "      <td>[]</td>\n",
       "      <td>Are you a fan of Google or Microsoft?</td>\n",
       "      <td></td>\n",
       "      <td>[yes-no-question]</td>\n",
       "      <td>[For sure, he's got such a terrific mind for h...</td>\n",
       "    </tr>\n",
       "    <tr>\n",
       "      <th>1</th>\n",
       "      <td>[Are you a fan of Google or Microsoft?]</td>\n",
       "      <td>Both are excellent technology they are helpful...</td>\n",
       "      <td></td>\n",
       "      <td>[statement-opinion, statement-opinion]</td>\n",
       "      <td>[Yes, I have..I browse it on occasion, but had...</td>\n",
       "    </tr>\n",
       "    <tr>\n",
       "      <th>2</th>\n",
       "      <td>[Are you a fan of Google or Microsoft?, Both a...</td>\n",
       "      <td>I'm not  a huge fan of Google, but I use it a ...</td>\n",
       "      <td></td>\n",
       "      <td>[statement-non-opinion, statement-opinion]</td>\n",
       "      <td>[yes it's mostly negative, and is usually pret...</td>\n",
       "    </tr>\n",
       "    <tr>\n",
       "      <th>3</th>\n",
       "      <td>[Both are excellent technology they are helpfu...</td>\n",
       "      <td>Google provides online related services and pr...</td>\n",
       "      <td></td>\n",
       "      <td>[statement-opinion]</td>\n",
       "      <td>[Maybe I should try growing that haha. Althoug...</td>\n",
       "    </tr>\n",
       "    <tr>\n",
       "      <th>4</th>\n",
       "      <td>[I'm not  a huge fan of Google, but I use it a...</td>\n",
       "      <td>Yeah, their services are good. I'm just not a ...</td>\n",
       "      <td></td>\n",
       "      <td>[statement-opinion, statement-opinion]</td>\n",
       "      <td>[Yeah, and they spoke so publicly and directly...</td>\n",
       "    </tr>\n",
       "  </tbody>\n",
       "</table>\n",
       "</div>"
      ],
      "text/plain": [
       "                                             context  \\\n",
       "0                                                 []   \n",
       "1            [Are you a fan of Google or Microsoft?]   \n",
       "2  [Are you a fan of Google or Microsoft?, Both a...   \n",
       "3  [Both are excellent technology they are helpfu...   \n",
       "4  [I'm not  a huge fan of Google, but I use it a...   \n",
       "\n",
       "                                            response knowledge  \\\n",
       "0              Are you a fan of Google or Microsoft?             \n",
       "1  Both are excellent technology they are helpful...             \n",
       "2  I'm not  a huge fan of Google, but I use it a ...             \n",
       "3  Google provides online related services and pr...             \n",
       "4  Yeah, their services are good. I'm just not a ...             \n",
       "\n",
       "                         response_dialog_acts  \\\n",
       "0                           [yes-no-question]   \n",
       "1      [statement-opinion, statement-opinion]   \n",
       "2  [statement-non-opinion, statement-opinion]   \n",
       "3                         [statement-opinion]   \n",
       "4      [statement-opinion, statement-opinion]   \n",
       "\n",
       "                                    negative_samples  \n",
       "0  [For sure, he's got such a terrific mind for h...  \n",
       "1  [Yes, I have..I browse it on occasion, but had...  \n",
       "2  [yes it's mostly negative, and is usually pret...  \n",
       "3  [Maybe I should try growing that haha. Althoug...  \n",
       "4  [Yeah, and they spoke so publicly and directly...  "
      ]
     },
     "execution_count": 4,
     "metadata": {},
     "output_type": "execute_result"
    }
   ],
   "source": [
    "train_data.head()"
   ]
  },
  {
   "cell_type": "code",
   "execution_count": null,
   "id": "c265e610",
   "metadata": {
    "ExecuteTime": {
     "start_time": "2021-08-15T04:12:52.868Z"
    }
   },
   "outputs": [],
   "source": [
    "train_data.describe()"
   ]
  },
  {
   "cell_type": "code",
   "execution_count": null,
   "id": "8131f750",
   "metadata": {
    "ExecuteTime": {
     "start_time": "2021-08-15T04:12:52.870Z"
    }
   },
   "outputs": [],
   "source": [
    "train_data"
   ]
  },
  {
   "cell_type": "code",
   "execution_count": null,
   "id": "4905ec62",
   "metadata": {},
   "outputs": [],
   "source": []
  }
 ],
 "metadata": {
  "kernelspec": {
   "display_name": "dstc9",
   "language": "python",
   "name": "dstc9"
  },
  "language_info": {
   "codemirror_mode": {
    "name": "ipython",
    "version": 3
   },
   "file_extension": ".py",
   "mimetype": "text/x-python",
   "name": "python",
   "nbconvert_exporter": "python",
   "pygments_lexer": "ipython3",
   "version": "3.8.5"
  },
  "toc": {
   "base_numbering": 1,
   "nav_menu": {},
   "number_sections": true,
   "sideBar": true,
   "skip_h1_title": false,
   "title_cell": "Table of Contents",
   "title_sidebar": "Contents",
   "toc_cell": false,
   "toc_position": {},
   "toc_section_display": true,
   "toc_window_display": false
  },
  "varInspector": {
   "cols": {
    "lenName": 16,
    "lenType": 16,
    "lenVar": 40
   },
   "kernels_config": {
    "python": {
     "delete_cmd_postfix": "",
     "delete_cmd_prefix": "del ",
     "library": "var_list.py",
     "varRefreshCmd": "print(var_dic_list())"
    },
    "r": {
     "delete_cmd_postfix": ") ",
     "delete_cmd_prefix": "rm(",
     "library": "var_list.r",
     "varRefreshCmd": "cat(var_dic_list()) "
    }
   },
   "types_to_exclude": [
    "module",
    "function",
    "builtin_function_or_method",
    "instance",
    "_Feature"
   ],
   "window_display": false
  }
 },
 "nbformat": 4,
 "nbformat_minor": 5
}
